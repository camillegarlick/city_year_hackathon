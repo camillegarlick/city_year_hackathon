{
 "cells": [
  {
   "cell_type": "markdown",
   "id": "846a3275",
   "metadata": {},
   "source": [
    "# Giving Transaction Exploratory Data Analysis"
   ]
  },
  {
   "cell_type": "markdown",
   "id": "8060c760",
   "metadata": {},
   "source": [
    "### Section I: Data Cleaning"
   ]
  },
  {
   "cell_type": "markdown",
   "id": "7cd59893",
   "metadata": {},
   "source": [
    "The purpose of this code is to clean the giving transactions data by conducting the following steps:\n",
    "\n",
    "1. Identify all NaN values and NaN-heavy features\n",
    "2. Drop NaN-heavy features\n",
    "3. Drop observations w/ NaN values if the % of observations is <0.01% of the total observations\n",
    "4. Convert all non-numeric datatypes to numeric"
   ]
  },
  {
   "cell_type": "code",
   "execution_count": 862,
   "id": "77145022",
   "metadata": {},
   "outputs": [],
   "source": [
    "# import all necessary libraries\n",
    "import pandas as pd"
   ]
  },
  {
   "cell_type": "code",
   "execution_count": 863,
   "id": "6ccd5d79",
   "metadata": {},
   "outputs": [
    {
     "name": "stderr",
     "output_type": "stream",
     "text": [
      "C:\\Users\\canderton\\Anaconda3\\lib\\site-packages\\IPython\\core\\interactiveshell.py:3165: DtypeWarning: Columns (4) have mixed types.Specify dtype option on import or set low_memory=False.\n",
      "  has_raised = await self.run_ast_nodes(code_ast.body, cell_name,\n"
     ]
    }
   ],
   "source": [
    "# import data\n",
    "gt_df = pd.read_csv('./Payment Transactions 1999_2017.csv', encoding='cp437')"
   ]
  },
  {
   "cell_type": "code",
   "execution_count": 864,
   "id": "fae7ab91",
   "metadata": {
    "scrolled": true
   },
   "outputs": [
    {
     "name": "stdout",
     "output_type": "stream",
     "text": [
      "  Staff Member   Amount Payment Number GAU Allocation Name Scheduled Date  \\\n",
      "0          NaN    18.75     PMT-197286           ALL-99497            NaN   \n",
      "1          NaN   300.00     PMT-201371          ALL-119924            NaN   \n",
      "2          NaN   500.00      PMT-68703          ALL-119925            NaN   \n",
      "3          NaN  3756.84      PMT-08521          ALL-119926            NaN   \n",
      "4          NaN  1000.00      PMT-73062          ALL-262685            NaN   \n",
      "\n",
      "  Payment Date Stage is Pipeline or Committed/Completed  \\\n",
      "0     4/1/2016                      Committed/Completed   \n",
      "1    3/23/2016                      Committed/Completed   \n",
      "2    3/23/2016                      Committed/Completed   \n",
      "3    3/23/2016                      Committed/Completed   \n",
      "4    3/23/2016                      Committed/Completed   \n",
      "\n",
      "  Opportunity: Primary Campaign Source: Campaign Name  \\\n",
      "0                    BOS-MA: FY16 Ambassadors Giving    \n",
      "1                                  COL-SC: FY16 Gala    \n",
      "2                                  COL-SC: FY16 Gala    \n",
      "3                COL-SC: FY16 Capacity Solicitations    \n",
      "4                                  PRV-RI: FY16 Gala    \n",
      "\n",
      "  Opportunity: Legacy SF ID Opportunity: Opportunity ID Opportunity: Donor Id  \\\n",
      "0        006U000000XorgHIAR             0065Y00001Yp7gk       0035Y000042aKlJ   \n",
      "1        006U000000X8X6BIAV             0065Y00001Yp9DQ       0035Y000042aMKB   \n",
      "2        006U000000X8X6DIAV             0065Y00001YpJkS       0035Y000042Zwke   \n",
      "3        006U000000X8X6QIAV             0065Y00001Yp9aH       0015Y00002sBbme   \n",
      "4        006U000000X8X6gIAF             0065Y00001YpMRB       0035Y000042ZzoO   \n",
      "\n",
      "         Legacy SF ID      Legacy SF ID.1 Payment Status  \n",
      "0  006U000000XorgIIAR  a450d000000aBOSAA2           Paid  \n",
      "1  006U000000X8X6CIAV  a450d000000a9SJAAY           Paid  \n",
      "2  006U000000X8X6EIAV  a450d000000a9SZAAY           Paid  \n",
      "3  006U000000X8X6RIAV  a450d000000a9SyAAI           Paid  \n",
      "4  006U000000X8X6hIAF  a450d000000REExAAO           Paid  \n"
     ]
    }
   ],
   "source": [
    "# display data head\n",
    "print(gt_df.head())"
   ]
  },
  {
   "cell_type": "code",
   "execution_count": 865,
   "id": "872b9318",
   "metadata": {},
   "outputs": [
    {
     "name": "stdout",
     "output_type": "stream",
     "text": [
      "Staff Member                                              919\n",
      "Amount                                                      0\n",
      "Payment Number                                              0\n",
      "GAU Allocation Name                                         0\n",
      "Scheduled Date                                         189831\n",
      "Payment Date                                                2\n",
      "Stage is Pipeline or Committed/Completed                    0\n",
      "Opportunity: Primary Campaign Source: Campaign Name        12\n",
      "Opportunity: Legacy SF ID                                   0\n",
      "Opportunity: Opportunity ID                                 0\n",
      "Opportunity: Donor Id                                       0\n",
      "Legacy SF ID                                                7\n",
      "Legacy SF ID.1                                              7\n",
      "Payment Status                                              0\n",
      "dtype: int64\n",
      "(189833, 14)\n"
     ]
    }
   ],
   "source": [
    "# display sum of nulls & dataframe shape\n",
    "print(gt_df.isnull().sum())\n",
    "print(gt_df.shape)"
   ]
  },
  {
   "cell_type": "markdown",
   "id": "30aa5c26",
   "metadata": {},
   "source": [
    "Since only one feature contains a significant number of NaNs, we can eliminate that feature for future use.\n",
    "\n",
    "We can also eliminate the remaining observations that contain NaNs since they only contain <0.01% of our total data."
   ]
  },
  {
   "cell_type": "code",
   "execution_count": 866,
   "id": "069a4489",
   "metadata": {},
   "outputs": [
    {
     "name": "stdout",
     "output_type": "stream",
     "text": [
      "Staff Member                                           0\n",
      "Amount                                                 0\n",
      "Payment Number                                         0\n",
      "GAU Allocation Name                                    0\n",
      "Payment Date                                           0\n",
      "Stage is Pipeline or Committed/Completed               0\n",
      "Opportunity: Primary Campaign Source: Campaign Name    0\n",
      "Opportunity: Legacy SF ID                              0\n",
      "Opportunity: Opportunity ID                            0\n",
      "Opportunity: Donor Id                                  0\n",
      "Legacy SF ID                                           0\n",
      "Legacy SF ID.1                                         0\n",
      "Payment Status                                         0\n",
      "dtype: int64\n"
     ]
    }
   ],
   "source": [
    "gt_df = gt_df.loc[:, gt_df.columns != 'Scheduled Date']\n",
    "gt_df = gt_df.dropna()\n",
    "print(gt_df.isnull().sum())"
   ]
  },
  {
   "cell_type": "markdown",
   "id": "46611a93",
   "metadata": {},
   "source": [
    "We now see that all observations w/ NaNs have been eliminated and the feature containing >50% NaNs has been dropped, our data is mostly 'clean'\n",
    "\n",
    "Now, we must convert all non-numeric values (object-based categoricals, for example) so we can run our clustering algorithms."
   ]
  },
  {
   "cell_type": "code",
   "execution_count": 867,
   "id": "f688f41f",
   "metadata": {},
   "outputs": [
    {
     "name": "stdout",
     "output_type": "stream",
     "text": [
      "<class 'pandas.core.frame.DataFrame'>\n",
      "Int64Index: 188895 entries, 561 to 189832\n",
      "Data columns (total 13 columns):\n",
      " #   Column                                               Non-Null Count   Dtype  \n",
      "---  ------                                               --------------   -----  \n",
      " 0   Staff Member                                         188895 non-null  object \n",
      " 1   Amount                                               188895 non-null  float64\n",
      " 2   Payment Number                                       188895 non-null  object \n",
      " 3   GAU Allocation Name                                  188895 non-null  object \n",
      " 4   Payment Date                                         188895 non-null  object \n",
      " 5   Stage is Pipeline or Committed/Completed             188895 non-null  object \n",
      " 6   Opportunity: Primary Campaign Source: Campaign Name  188895 non-null  object \n",
      " 7   Opportunity: Legacy SF ID                            188895 non-null  object \n",
      " 8   Opportunity: Opportunity ID                          188895 non-null  object \n",
      " 9   Opportunity: Donor Id                                188895 non-null  object \n",
      " 10  Legacy SF ID                                         188895 non-null  object \n",
      " 11  Legacy SF ID.1                                       188895 non-null  object \n",
      " 12  Payment Status                                       188895 non-null  object \n",
      "dtypes: float64(1), object(12)\n",
      "memory usage: 20.2+ MB\n",
      "None\n"
     ]
    }
   ],
   "source": [
    "# dispaly datatypes of existing DF\n",
    "print(gt_df.info())"
   ]
  },
  {
   "cell_type": "code",
   "execution_count": 868,
   "id": "7bd7cc48",
   "metadata": {},
   "outputs": [
    {
     "data": {
      "text/plain": [
       "561        7.0\n",
       "562        7.0\n",
       "563        7.0\n",
       "564        7.0\n",
       "565        7.0\n",
       "          ... \n",
       "189821    26.0\n",
       "189822    26.0\n",
       "189830    27.0\n",
       "189831    27.0\n",
       "189832    27.0\n",
       "Name: Staff Member, Length: 188895, dtype: float64"
      ]
     },
     "execution_count": 868,
     "metadata": {},
     "output_type": "execute_result"
    }
   ],
   "source": [
    "# clean & convert the staff member #s to integers\n",
    "gt_df['Staff Member'] = gt_df['Staff Member'].str[6:-1]\n",
    "gt_df['Staff Member'] = pd.to_numeric(gt_df['Staff Member'])\n",
    "\n",
    "# print new integer based staff member column\n",
    "gt_df['Staff Member']"
   ]
  },
  {
   "cell_type": "code",
   "execution_count": 869,
   "id": "a9146f16",
   "metadata": {},
   "outputs": [
    {
     "data": {
      "text/plain": [
       "561        1169\n",
       "562        6709\n",
       "563        6709\n",
       "564        7109\n",
       "565        6709\n",
       "          ...  \n",
       "189821     4837\n",
       "189822     4837\n",
       "189830     1940\n",
       "189831    13448\n",
       "189832     8459\n",
       "Name: Payment Number, Length: 188895, dtype: int64"
      ]
     },
     "execution_count": 869,
     "metadata": {},
     "output_type": "execute_result"
    }
   ],
   "source": [
    "# clean & convert the Payment Number to integers\n",
    "gt_df['Payment Number'] = gt_df['Payment Number'].str[4:-1]\n",
    "gt_df['Payment Number'] = pd.to_numeric(gt_df['Payment Number'])\n",
    "\n",
    "# print new integer based Payment Number column\n",
    "gt_df['Payment Number']"
   ]
  },
  {
   "cell_type": "code",
   "execution_count": 870,
   "id": "b92b7c32",
   "metadata": {},
   "outputs": [
    {
     "data": {
      "text/plain": [
       "561       15674\n",
       "562        8201\n",
       "563        8201\n",
       "564       14341\n",
       "565        8202\n",
       "          ...  \n",
       "189821    16739\n",
       "189822    16780\n",
       "189830    19311\n",
       "189831    24103\n",
       "189832    24188\n",
       "Name: GAU Allocation Name, Length: 188895, dtype: int64"
      ]
     },
     "execution_count": 870,
     "metadata": {},
     "output_type": "execute_result"
    }
   ],
   "source": [
    "# clean & convert the GAU Allocation Name to integers\n",
    "gt_df['GAU Allocation Name'] = gt_df['GAU Allocation Name'].str[4:-1]\n",
    "gt_df['GAU Allocation Name'] = pd.to_numeric(gt_df['GAU Allocation Name'])\n",
    "\n",
    "# print new integer based GAU Allocation Name column\n",
    "gt_df['GAU Allocation Name']"
   ]
  },
  {
   "cell_type": "code",
   "execution_count": 871,
   "id": "0d8c8fd7",
   "metadata": {},
   "outputs": [
    {
     "data": {
      "text/plain": [
       "561      2004-06-08\n",
       "562      2015-04-13\n",
       "563      2015-04-13\n",
       "564      2015-07-16\n",
       "565      2015-04-13\n",
       "            ...    \n",
       "189821   2017-04-25\n",
       "189822   2016-10-27\n",
       "189830   2017-03-31\n",
       "189831   2013-08-28\n",
       "189832   2013-02-11\n",
       "Name: Payment Date, Length: 188895, dtype: datetime64[ns]"
      ]
     },
     "execution_count": 871,
     "metadata": {},
     "output_type": "execute_result"
    }
   ],
   "source": [
    "# convert Payment Date to datetime format\n",
    "gt_df['Payment Date'] =  pd.to_datetime(gt_df['Payment Date'], format = '%m/%d/%Y')\n",
    "\n",
    "# display new datetime column to cross check\n",
    "gt_df['Payment Date']"
   ]
  },
  {
   "cell_type": "code",
   "execution_count": 872,
   "id": "9677887b",
   "metadata": {},
   "outputs": [
    {
     "data": {
      "text/plain": [
       "{'Committed/Completed'}"
      ]
     },
     "execution_count": 872,
     "metadata": {},
     "output_type": "execute_result"
    }
   ],
   "source": [
    "# print new integer based Stage is Pipeline or Committed/Completed Name column\n",
    "set(gt_df['Stage is Pipeline or Committed/Completed'])"
   ]
  },
  {
   "cell_type": "markdown",
   "id": "704e7c1c",
   "metadata": {},
   "source": [
    "This tells us that every entry has 'Committed/Completed', with 0 variance. We can eliminate that feature simply because it will provide no value."
   ]
  },
  {
   "cell_type": "code",
   "execution_count": 873,
   "id": "1d40e083",
   "metadata": {
    "scrolled": true
   },
   "outputs": [
    {
     "name": "stdout",
     "output_type": "stream",
     "text": [
      "<class 'pandas.core.frame.DataFrame'>\n",
      "Int64Index: 188895 entries, 561 to 189832\n",
      "Data columns (total 12 columns):\n",
      " #   Column                                               Non-Null Count   Dtype         \n",
      "---  ------                                               --------------   -----         \n",
      " 0   Staff Member                                         188802 non-null  float64       \n",
      " 1   Amount                                               188895 non-null  float64       \n",
      " 2   Payment Number                                       188895 non-null  int64         \n",
      " 3   GAU Allocation Name                                  188895 non-null  int64         \n",
      " 4   Payment Date                                         188895 non-null  datetime64[ns]\n",
      " 5   Opportunity: Primary Campaign Source: Campaign Name  188895 non-null  object        \n",
      " 6   Opportunity: Legacy SF ID                            188895 non-null  object        \n",
      " 7   Opportunity: Opportunity ID                          188895 non-null  object        \n",
      " 8   Opportunity: Donor Id                                188895 non-null  object        \n",
      " 9   Legacy SF ID                                         188895 non-null  object        \n",
      " 10  Legacy SF ID.1                                       188895 non-null  object        \n",
      " 11  Payment Status                                       188895 non-null  object        \n",
      "dtypes: datetime64[ns](1), float64(2), int64(2), object(7)\n",
      "memory usage: 18.7+ MB\n",
      "None\n"
     ]
    }
   ],
   "source": [
    "gt_df = gt_df.loc[:, gt_df.columns != 'Stage is Pipeline or Committed/Completed']\n",
    "print(gt_df.info())"
   ]
  },
  {
   "cell_type": "code",
   "execution_count": 874,
   "id": "8f1a5fda",
   "metadata": {},
   "outputs": [
    {
     "name": "stdout",
     "output_type": "stream",
     "text": [
      "561                              04 NAT EVT\n",
      "562                                   UNSOL\n",
      "563                                   UNSOL\n",
      "564           DET-MI: FY16 Team Sponsorship\n",
      "565                                   UNSOL\n",
      "                        ...                \n",
      "189821    JAX-FL: FY17 Program Sponsorships\n",
      "189822    JAX-FL: FY17 Program Sponsorships\n",
      "189830                    MWK-WI: FY17 Gala\n",
      "189831              FY13 Team Sponsors HALF\n",
      "189832                                 WSWC\n",
      "Name: Campaign Name, Length: 188895, dtype: object\n"
     ]
    }
   ],
   "source": [
    "# also we are gonna rename this column because its too long and it annoys me\n",
    "gt_df = gt_df.rename(columns={\"Opportunity: Primary Campaign Source: Campaign Name\": \"Campaign Name\"})\n",
    "print(gt_df['Campaign Name'])"
   ]
  },
  {
   "cell_type": "code",
   "execution_count": 875,
   "id": "ac6e0fd2",
   "metadata": {},
   "outputs": [
    {
     "name": "stdout",
     "output_type": "stream",
     "text": [
      "{'06 LRA SPPM', 'WDC: FY12 AssocBrd:Auction', '08 SAN YH:YHSRVC', 'LOS-CA: FY13 Gala Sponsorship', '07 NYC OPEN', '80010-BOS09F:POTDNR', '08 DET APP', '06 JBG OPEN', 'BOS-MA: FY15 Spring Appeal Regular CD (Current Donor) Email 1', 'Individual Giving Circles', 'MAN-NH: FY14 Camps', '07 BOS SRV', '08 SEA PROG', \"MIA-FL: FY16 Men's Event\", 'MIA-FL: FY17 Service Days', 'CHI: ServiceRcks', 'DEN-CO: FY16 Sustainable Personalized Ask', '06 CLE ERND', '05 BOS EVT:SW2', 'BOS-MA: FY17 Fall Appeal Email 2 Current', 'MIA-FL: FY17 Sustainable', 'ORL-FL: FY16 Service Project', '05 NYC TSP', '06 LRA APP:FALLPD', '07 SEA DIN (2006)', 'SEA-WA: FY14 Gala Ripples of Hope', '80000-LRA08:80000-LRA08', 'COL-SC: FY17 Investment Community Breakfast', 'CLE-OH: FY17 Board Gifts', '80010-WDC09U', '06 CSC DIN:GOLD', '80010-NYC12AnnFall:FY11 Parent', '06 NAT YH', '08 NYC EVT:08 ABOARD', '80000-PHL08:08 Alum', 'MAN-NH: FY15 Gala. Auction', '08 SEA EVT', 'WDC-DC: FY14 Fall Appeal', 'JAX-FL: FY17 Team Sponsorships', 'MIA-FL.FY14 Hero of Service Reception', '06 SANJ SRVSP', 'SAN-TX: FY17 CYSA Alumni Campaign', '06 DET APPNI:FALLPD', 'COL-OH: FY15 EOY Campaign', '80010-WDC11F:DNR', 'CHI-IL: FY17 Red Jacket Weekend', '80000-SAN08:08 STAKE', 'MAN-NH:FY16 P2P Alumni Holiday', '04 SEA OPEN', '08 BOS CAMP', '06 WDC GOV', '06 PHL CARE', '07 NYC EVT', '08 RHI TSP:Co-Team', '08 DET APP:SPRINGD', 'COL-OH: FY17áBoardáCampaign', '07 LRA PROG', '08 LSA PROG', '08 NAT SFC', '08 WDC APP:FALLAP', 'NOLA: FY13 Gala:Donation', 'DET-MI: FY17 Gala', 'SAC-CA: FY15 Board Giving', '07 LSA EVT', 'CHIGRCMP', '07 CHI APP', '05 NAT ANPM', '04 CLE CAMP:REG', '05 PHL APP:SPRINGA', '06 CHI APP:SPRINGPD', \"NYC-NY: FY17 Women's Breakfast\", '80010-SAN08S:DNR', '06 WDC DIN:06 Presenting', '04 WDC GEN', 'NYC-NY: FY14 Fall', '06 NYC PROG:CLINTON', 'WDC-DC: FY15 Gala Sustainable/Sponsorships', 'SAC-CA: FY16 Capacity Solicitations', '06 BOS SRV:SAT', '08 DET YH:YHFEE', 'DET-MI: FY16 Gala', '06 CSC APP:SPRINGD', '08 NH ERND', '08 BOS APP:FALLPD', '80010-NH10S', '06 RHI SRVSP', '10 NH EVT:Corps Fundraising', '80000-CHI09', '06 INT IGC:NSD', 'LOS-CA: FY17 Alumni Fundraiser', '05 RHI SPPM', '08ATL MTCH (P)', '09 NYC DIN (2008)', 'ANNUAL:SPRING', '08 NYC SRVSP', '80010-PHL09S:DNR', 'PRV-RI: FY14 Women Breakfast', 'WDC: FY13 Associate Board Fundraiser', '80010-LSA09F:RENTED', 'BOS-MA: FY15 EOY/Winter Appeal Current Donors Email 2', '80010-BOS10S:DNR', 'BOS-MA: FY15 Boston Marathon - Kevin Fish', '06 CHI CAMP', 'WSWC-11', '06 LSA G', '09 LAX G', 'NYC: FY13 InvestBrk:NYC: FY13 InvestBrk', '07 SAN EVT', '80000-DET08:VIP', '07 SAN TSP:Full Team', '07 SEA YH:TL', 'PHL-PA: FY14 Alumni', 'PHL-PA: FY16 Gala', '08 COL SPS', '07 RHI CYZ', 'MIA: FY12 Women', 'DET-MI: FY14 EOY', 'RHI: FY13 Gala', '08 RHI APP:FALL', 'BOS-MA: FY14 Red Wknd', 'MIA-FL: FY15 Alumni Events', '80000-CHI12:Sponsor', '80010-WDC10F:ALUM PRNTS', '07 BOS SRVSP', '07 RHI DIN:ETKT', 'DEN-CO: FY16 Winter Appeal', '06 SANJ APP:FALLPD', '04 BOS SAT', '08 NH EVT', 'NYC: FY13 Alumni:Donations', 'EBR-LA: FY14 Gala', 'MIA-FL:FY15 Red Jacket Society Solicitations', 'SAN-TX: FY15 Opening Day', '07 LSA YH', '08 CLE GOV', 'PRV-RI: FY15 Annual Appeal - Renewals', '06 NH CMPSP', '05 SEA SPS', '08 LAX CMPSP', '07 BOS ERND', 'EBR-LA: FY17 10th Anniversary', 'ORL: FY13 Gala:Tickets', '80000-NH10:80000-NH10', 'Voices Membership Dues FY14 and prior', '07 CLE YH', 'MIA-FL: FY15 Gala Sustainable/Sponsorships', '08 LRA YH', 'PHL-PA: FY17 CRP Other', '62000: Camps', '06 NYC EVT', '80000-DET08:.125 Page', '06 CHI DIN:IND', '08 RHI ERND', '08 NAT NSD', '06 CHI APP:SPRINGD', 'SANJ: FY11 SHELBY HP', 'BOS-MA:DV:EX:FY16:151229: Winter Appeal Current Email 3', 'NSD:LAS', '05 NH DIN:05 Auction - Silent', '08 NH APPNI', 'HQI-MA: FY17 Capacity Solicitations', \"DET-MI: FY15 Women's Leadership Breakfast\", '08 PHL IGC:ALUM/FRND FUND', '06 WDC APP', '08 INT G', 'DET-MI: FY13 FB Donation', 'DET-MI: FY13 Gala:Impact Sponsor', 'PHL-PA: FY17 ING Advisory Board', '06 CSC YH', '06 DET KTCG', 'NOL-LA: FY17 Team Sponsorships', '80000-MIA12', '06 CHI APPNI:FALLPD', 'WDC-DC: FY14 Alumni & Friends', '08 CSC ERND', 'PHL: FY13 Gala:deloitte Honor Bill', 'SANJ: FY13 Gala:Tickets', 'PHL: FY13 Gala:Night of ask', 'Voices Membership Dues FY16', '06 CHI YH:Fundraising', '80000-RHI12:Tickets', 'BOS-MA: FY17 United Way Employee Giving', '05 WDC CAP', '80000-MIA12:Night of Ask', '06 NAT DIN:06 Gold', '80000-WDC08:08 Gold', '04 LRA GEN', 'MIA: FY12 Women:Sponsor', 'PHL: FY13 Gala:Presenting Sponser', 'BOS-MA:DV:EX:FY16:151202: Winter Appeal Recent Lapsed Email 2', '06 BOS PROG:CAR', '06 LSA IGC:ESMEMORIAL', 'SEA-WA: FY14 Gala: Night of Ask', '06 NAT AFT', 'COL-OH: FY14 Gala:Auction', 'MAN-NH: FY14 Gala:Tickets', '08 SAN IGC', '06 RHI APP:FALLAP', '06 SEA DIN:06 Gold', '06 NYC OPEN', 'NYC-NY: FY16 Team Sponsorships', 'CLE-OH: FY15 Program Support Solicitations', '04 NAT CYZ', 'CRPTSERVDAY', 'MAN-NH: FY17 Breakfast with City Year', '06 NAT G', 'BOS-MA: FY16 Bellinghausen Memorial', '80040:Alumni Challenge', '06 NYC DIN:06 Individual', '06 RHI APPNI', '10 LAX TSP:Full Team', 'ORL-FL: FY15 Staff Giving Campaign', '05 PHL APP:SPRINGAP', '06 RHI PROG', '80010-SANJ10F:POTDNR', 'BOS-MA: FY13 Spring Parent', '08 CLE APP:FALL', '05 CSC APP:SPRINGOS', '03 PHL - AFT', 'EBR-LA: FY15 Program Support Solicitations', '80010-HQ09F:DNR', 'CLE: FY13 Gala', '09 RHI SPPM', 'SSN/ROH/TRIB:2500TBL', 'COL-OH: FY16 BoardáCampaign', '04 COL OPEN', 'NYC-NY: FY13 Associte Board', '08 BOS APP:FALL', '80000-SEA12:Sponsor', '06 SANJ TSP:Full Team', 'HQI-MA: FY17 Einhorn Bridge Match', '08 WDC SRVSP', 'TSP', '04 RHI CAMP', 'MIA-FL: FY16 MLK Day', '06 NAT ENDG', '04 WDC CARE', 'WDC-DC: FY16 Spring Break - Leckie', '04 RHI AFT', 'CYZNAT:SERVDAY', 'EBR-LA: FY17 Alumni Giving', '08 NYC GOV', 'YH', '06 LRA APP:SPRINGPD', '80010-NH09F:RENTED', '80000-PHL08:08 Individual', 'SNJ-CA: FY16 Program Support Solicitations', '80000-LRA11:80000-LRA11', 'DEN-CO: FY17 CO Gives Day', '07 SANJ CH', '07 NYC APPNI', '06 COL APPNI:FALLPD', '04 RHI PROG', '09 NH APP:FALL', '06 NAT DIN:06 Silver', '07 DET APPNI', '06 NH DIN', '07 BOS APP:SPRINGAP', '80000-NH11:Live Auction', '08 SANJ IGC', '80010-MIA10U', 'SNJ-CA: FY16 Associate Board Event', '06 CLE PROG:CLINTON', \"NYC-NY: FY15 Women's Breakfast\", 'CHI-IL: FY17 Winter Appeal', '05 CLE DIN:05 Bronze', '09 NAT IGC:ALUMFAM', '06 LRA G', '80000-DET10:Silver Sponsor', '80000-CSC11:80000-CSC11', '80000-DET09:BRNZSPR', '08 NAT ENDW', '06 BOS ERND', 'MAN-NH: FY15 Champion Letters', 'BOS-MA: FY17 Winter Appeal Recent Lapsed Monthly Donors Email 1', 'SAC-CA: FY14 Specialty Market', 'MAN-NH: FY14 Alumni Giving', '80010-BOS09S:RENTED', '08 SAN TSP:Full Team', '08 CHI APP:SPRINGPD', 'MIA: FY12 Women:Auction', 'MIA: FY13 After Part:Auction', 'DEN-CO: FY16 Give a Gift from the Heart Event', '07 SANJ CYZ', 'HQI-MA: FY16 Strong Circle Day', '05 CSC DIN:05 Donations', '06 NH APP:SPRINGPD', '09 NYC SRVSP', '02 RHI EVT', 'DET-MI: FY17 Individual Giving', '80010-DET08S:DNR', '06 RHI CMPSP', '07 NAT G', '07 NAT DIN:07 Half Table', '05 CHI APP:SPRINGPD', 'LOS-CA: FY17 Team Sponsorships', 'NOL-LA: FY17 Gala - School House Rock Individual Donations', 'SAN-TX: FY15 The Big Give SA', '05 CLE TSP', '80000-BOS08:08 Donation', 'NATBOSAA03:FALL', '06 BOS YH:ETRAN', 'BOS-MA: FY16 Investment Bfast', 'CYZNAT', 'DEN: FY12 WOMEN BRK', '08 PHL APPNI:FALL', '06 RHI DIN:06 Silver', '05 CHI IGC', '05 CHI PROG', 'COL-OH: FY13 Gala:Night of Ask', '80010-BOS09S:DNR', '07 SEA APP:FALLPD', '07 SAN SPP', 'MAN-NH: FY15 Gala. Night of Ask', 'COL-SC: FY13 EOY', '07 LRA ERND', '09 SANJ IGC:ALUM/FRND CMPN', 'BOS-MA: FY17 June EOY Appeal LYBUNT Personal Calls and Emails', '06 NH SPS', '07 LSA G', '08 COL PROG', '07 CHI ERND', '04 BOS APP', '07 CSC TSP:Full Team', '05 SEA DIN:05 Gold', '04 CHI SPPM', 'TUL-OK: FY16 Sustainable Personal Ask', '07 LSA TSP:Co-Team', 'MKE: FY13 Gala:Tickets', 'NYC: FY11 AssocBrd:Baseball Raffle', '02 NAT APM', '80070:donation', 'DEN-CO: FY14 Gala Sponsors/Tickets', '05 COL APP:FALLGEN', '09 CLE TSP:Full Team', 'BOS-MA: FY15 EOY/Winter Appeal Lapsed Donors Letter 1', '06 RHI DIN:06 Bronze', '06 LRA HRF', '10 CHI IGC:ALUM/FRND CMPN', 'TUL-OK: FY15 Program Support Solicitations', 'LAX: FY13 Wine Taste:Donation', '07 BOS DIN:ALUM', '05 RHI DIN:05 Camps', '07 SAN APP:SPRINGD', 'CLE-OH: FY16 Annual Appeal - Direct Mail', 'WSWC:Sponsor', 'HQ: FY13 MS Challeng', 'NYC-NY: FY15 Gala New Sponsors/Tickets', 'BOS-MA: FY17 Winter Appeal Recent Lapsed Monthly Donors Letter 1', 'NYC: FY13 Gala:Night of Ask', 'NYC: FY11 AssocBrd:Auction', '05 DET CAP', '09 SANJ CH', 'BOS-MA: FY14 Staff Giving', '05 SAN EVT', '08 SAN YH:YHOTHER', '10 LAX IGC', '08 NH SPPM', '08 WDC IGC:ALUM/FRND CMPN', 'DET-MI: FY15 Fountain Bistro', 'PHL: FY13 Gala:individial ticket; s', 'TUL-OK: FY15 Service Days', 'MWK-WI: FY16 Team Sponsorships', 'LOS-CA: FY16 Associates Club', '80000-BOS12:Sponsor', '10 CHI PROG', '80010-DET10F:ALUM PRNTS', 'SAN-TX: FY15 Team Sponsorships', '05 SAN GOV', 'DEN: FY13 Gala:Sponsorship', 'PHL-PA: FY14 SD', '07 SANJ DIN', '10 NYC IGC', '07 NH APP', 'CHI-IL: FY13 ServIce Rocks', 'BOS-MA: FY16 Ambassadors Giving', 'PHL-PA: FY15 Chickies&Pete Text Campaign', '08 SANJ YH', 'BOS-MA: FY13 Investment Breakfast Day of Ask', '06 COL DIN', '08 LRA G', '05 SEA DIN:05 Platinum', 'HQI-MA: FY15 CauseMark.WinstonFlowers', '04 RHI YH', '80000-SEA12:Auction', 'WDC-DC: FY16 Program Sponsorships', 'HQI-MA: FY16 Einhorn Bridge Match', '04 WDC YH', '04 NAT CYZ:REG', 'CHI: FY09 SCHLLIB', '08 LRA IGC', '07 PHL APP:FALL', '07 CSC APP:FALLPD', 'NSD:KCMO', 'COL-OH: FY14 Board Campaign', '05 SANJ DIN:05 Gold', '07 SAN G', 'NYC-NY: FY15 Team Supporters', 'MWK-WI: FY15 Capacity Solicitations', 'CHI-IL: FY15 Team Sponsorships', 'CHI: FY10 AlumFam', '08 NH AFT', '06 SAN DIN:06 Bronze', '07 NYC TSP:Full Team', 'ORL-FL: FY14 Breakfast', 'BOS-MA: FY17 Unsolicited', 'MIA: FY13 DTD:MIA: FY13 DTD', 'MWK-WI: FY15 Gala', '02 RHI AFT', '80000-NYC08:80000-NYC08', '08 PHL IGC:ALUM/FRND CMPN', '06 CHI APPNI', '05 NAT APS', '08 CHI ERND', '08 CHI APP:SRPINGOS', 'CHI-IL: FY16 Back to School Soiree', '07 CHI APP:SRPINGOS', 'WSWC--Sustainable', 'LAX: FY13 Wine Taste', '05 SANJ APP', '80000-SANJ 10 (2009)', '05 NAT CARE:RFE', 'NOL-LA: FY14 Gala School House Rocks', 'Young Heroes Sponsor:YHOPEN', '07 CHI GRAD', '06 WDC DIN:06 Bronze', '06 RHI APP:FALLPD', '06 PHL PROG:RADIO', 'SAN-TX: FY16 Team Sponsorships', 'NOLA: FY13 Gala:Tickets', '05 NAT YH', '06 CLE TSP', '08 INT GLS', 'LTR-AR: FY18 Gala', '80000-CHI11', 'MIA-FL: FY15 Board Gifts', 'BOS-MA: FY16 EOY/Winter Appeal', '08 LRA SPPM', '07 COL APP:FALLAP', 'LOS-CA: FY17 MLK Day', 'PHL-PA: FY15 Sustainable Personalized Ask', 'LOS-CA: FY16 Alumni Fundraiser', 'BOS-MA: FY15 Program Support Solicitations', 'DAL-TX: FY16 Sustainable', '06 PHL GRAD', '06 SEA TSP:Full Team', '07 PHL TSP:Full Team', 'BOS-MA: FY16 Unsolicited', '06 DET IGC', '08 LAX EVT', '80000-NYC11:80000-NYC11', '80010-PHL10F:ALUM', '80000-COL12:Auction', \"JAX-FL: FY17 Women's Lunch NOA\", '04 NAT DIN', '06 LRA CARE', 'BOS-MA: FY17 Investment Bfast', '08 COL APP:SPRINGA', 'SEA-WA: FY17 Gala Night of Ask', 'ORL-FL: FY17 Sustainable', 'MAN-NH: FY15 Team Sponsorships', 'DET-MI: FY11 Gala Night of Ask', 'NYC-NY: FY16 Associate Board Fundraiser', '80000-CLE08:08 Silver', '07 CHI IGC:ABD', '07 COL CMPSP', '08 LSA TSP:Full Team', '80010-RHI10F:ALUM PRNTS', '05 SAN DIN:05 Donation', '80010-HQ11S', '06 SEA APPNI:FALLPD', '06 SANJ DIN:06 Individual', 'MWK-WI: FY14 Gala Sustainable Sponsorships', 'SAN: FY13 Golf:Tickets', '04 BOS SAT:DON', 'MAN-NH: FY17 Program Sponsorships', '07 NYC TSP', 'WDC-DC: FY15: P2P.Holiday Fundraising Blitz', '05 COL APP:Spring Appeal (local', '80000-CHI12:Night of Ask', '05 BOS GEN:STAFIB', '01 RHI TSP', 'BOS-MA:DV:EX:FY16:151229: Winter Appeal Lapsed Email 3', '80010-DET09F:DNR', '06 NAT PROG', '08 CSC CAMP:Camp City Year', '05 SEA CAP', '10 NAT EVT:LegalBreakfast', 'BOS-MA: FY17 Spring Appeal Lapsed Donor Email 1', '05 CSC GEN', '08 CHI APPNI', '80010-RHI12F', 'BOS-MA: FY15 Boston Marathon - Andrea Martin', '80000-RHI12:Donation', '08 BOS SPS', '06 COL DIN:GOLD', '05 CLE EVT', 'Endowment-Perm.', '06 PHL APP:FALLD', '07 RHI CMPSP', '04 CLE TSP', 'BOS-MA: FY15 Spring Appeal Regular LD (Lapsed) Letter', '06 CHI DIN:Presenting', 'FY16 Team Sponsorship', '80000-RHI11:80000-RHI11', '80000-SEA10:VIP ticket', 'PHL-PA: FY16 CYPaints', '05 SANJ GOV', '06 SEA CAMP', 'LRA: FY12 PEVC', 'PHL-PA: FY15 Associate Board Cocktail Reception', 'PHL-PA: FY17 EVENTS WLL Day of Ask', 'BOS-MA: FY17 Winter Appeal', '04 SAN APP', '06 COL DIN:SIL', 'SEA-WA: FY14 Gala Sustainable Sponsorships', '05 COL APP:SPRINGOS', 'WDC-DC: FY15 Legal Breakfast', 'LAX: FY13 Wine Taste:Ticket', '08 Radiothon', '80000-SEA12:Night of Ask', 'SAN-TX: FY15 Sustainable Personalized Ask', 'SAN-TX: FY14 The Big Give SA', '10 NAT CYZ', 'DEN-CO: FY15 Denver Foundation Intern', '07 COL APP', '07 SEA SRVSP', '08 DET IGC:ALUM/FRND FUND', '07 DET EVT:HR', '80000-DET 10 (2009)', '06 LRA APPNI:FALLPD', '06 RHI EVT', 'SNJ-CA: FY16 Capacity Building', '06 CHI SPPM', '05 CLE DIN:05 Platinum', '06 BOS PROG:YEARAD', '80000-DET08:08 Individual', 'NYC-NY: FY16 Law Breakfast', '04 CLE SERV', '06 PHL APPNI:FALLPD', 'SAN-TX: FY13 EOY', '05 NAT PROG:Clinton Innovation A', '08 LAX OPEN', '10 LRA IGC:ALUM/FRND CMPN', '07 PHL APP:FALLAP', 'Corps Fundrais:Walk for Peace', '03NB SSN:10K SP', 'BOS-MA: FY17 Fall Appeal Email 1 Current', 'BOS-MA: FY17 Winter Appeal Recent Lapsed Donors Email 1', '05 NYC APM', '08 CLE SFC', 'NYC-NY: FY17 Gala Ripples of Hope', 'HQ: FY13 MS Challeng:NYC', 'LOS-CA: FY16 Board Giving', '04 CDF', '08 PHL WSWC', '07 PHL TSP:Co-Team', '80010-MIA11F', 'LTR-AR: FY16 Sustainable Personalized Ask', '04 COL PROG', '06 PHL TSP:Co-Team', '80000-NYC 09 (2008)', 'SNJ-CA: FY16-18 Three Year Campaign', '07 BOS APP', 'DET-MI: FY13 Gala', '07 NH DIN:07 Individual', '06 NH DIN:06 Presenting', '06 JBG HTSP', '14 Team Sponsorship-HALF', '04 NYC CARE', 'MKE: FY13 Gala:Night of Ask', '05 NYC DIN:05 Gold', 'BOS-MA: FY14 Fam Fall', 'WDC: Alum Brd Fundr', 'COHANNUAL', 'SEA-WA: FY15 Gala New/Tickets', 'SAC-CA: FY16 Gala Auction', '06 SEA APPNI:FALLD', 'NSD:MIA', 'MIA: FY14 Apr. Service Day', 'EBR-LA: FY17 RJS Giving', '06 CHI AFT', '08 DET APP:SPRINGPD', 'WDC: FY13 Legal Brk:Sponsorship', '04 NYC APP', 'TUL-OK: FY15 EOY Mailing', '10 NAT IGC:ALUMFAM', '08 SAN YH', '05 BOS GRAD', '07 PHL SPPM', '04 CHI CARE', 'SEA-WA: FY16 Red Jacket Society', '05 PHL CARE', '07 COL APPNI:FALL', '80010-CSC10F:DNR', 'WDC: FY13 Sig Serv', '09 NAT NLS', 'CHI-IL: FY14 OpenDay', '06 BOS APP:FALLD', 'PRV-RI: FY14 EOY', '80000-BOS09:80000-BOS09', 'SEA-WA: FY15 Sustainable Personalized Ask', '05 NH CAMP', '04 PHL DIN', '07 PHL SFC', 'PRV-RI: FY16 Annual Appeal', '05 WDC APP', 'MAN-NH: FY14 Gala:Night of Ask', '05 CSC GEN:Challenge Grant', 'PHL-PA: FY16 Winter Appeal', '06 SAN APP:FALLD', 'NYC: FY13 InvestBrk:Donations', 'BOS-MA: FY17 Sustainable', '09 RHI IGC', '06 COL APP', '07 RHI APP:FALL', 'SAN-TX: FY15 EOY', 'NOL-LA: FY16 Gala Sustainable Sponsorships', '04 SEA DIN', '80000-SEA09:VIPTKT', '08 DET APPNI:FALL', 'NYC-NY: FY15 Associate Board Cycling Fundraiser', '80010-DET10U', 'CLE-OH: FY15 Gala', '06 NAT EVT:Summer Academy', '80000-SAN08:80000-SAN08', '05 CLE MAJ', '08 RHI CMPSP', '80000-COL12:Donation', 'BOS-MA: FY15 Spring Appeal Regular RLD (Recent Lapsed) Letter', 'HQI-MA: FY14 Beach Boys', '80000-WDC08:08 Plantinum', '04 PHL GEN', '04 CHI PROG:Clinton Innovation A', 'EBR-LA: FY16 10th Anniversary', '02 RHI CYZ', '05 RHI PROG', '80010-SEA10F:DNR', '08 LRA OPEN', 'PHL-PA: FY15 Marathon1', '08 NAT G:FONS', 'NYC-NY: FY16 Alumni Gala Raffle', '08 SANJ ERND', '07 SANJ APPNI', '80000-NAT09', '06 SANJ PROG', '05 CSC DIN:05 Gold', 'PHL-PA: FY18 CY Paints', '10 NH IGC:ALUM/FRND CMPN', '08 CHI IGC', 'HQI-MA: FY15 Strong Circle Day', '80010-WDC09F:POTDNR', '04 NYC PROG:AR MEM', '05 WDC SRVSP', 'NYC: FY13 Gala:Sponsorship', '80010-Acq FY11Fall', '80000-DET08:08 Alum', '80000-SEA08:08 Gold', 'SNJ-CA: FY17 Gala', '07 DET YH', '08 CSC SPP', 'CHI-IL: FY14 Gala Sustainable Sponsorships', '09 COL YH:YHPRSPON', '08 SAN SRVSP', '04 ROH Art', '80010-NYC10F:ALUM PRNTS', '05 CLE AFT', 'HQI-MA: FY17 AmeriCorps Member Appreciation Month', 'DET-MI: FY14 Champ.Fall', 'NYC-NY: FY17 Law Breakfast', '07 RHI DIN:RTKT', '80000-NH09:SPONSOR', '06 JBG SRVSP', '80010-NYC12AnnFall:Fy12 Parent', 'BOS-MA: FY17 Winter Appeal Non Donors Email 1', '80000-COL10:80000-COL10', '09 SANJ GOV', '07 SEA AFT', 'SAN Golf FY03:SAN Golf FY03', '08 CLE ERND', '08 NAT EVT', '07 CSC ERND', '05 BOS APP:05-FAPD-BOS', '80010-LAX09F:RENTED', '08 NYC APP:FALLPD', '05 COL ERND', 'BOS-MA: FY13 Gala:donation', 'NYC-NY: FY15 Legal Community Breakfast', 'NSD:DAL', '04 CLE CAMP', '80010-PHL11U', '07 LSA APP', 'BOS-MA: FY16 Ambassadors Spring Event', 'PHL-PA: FY14 Gala Sustainable Sponsorships', '08 CSC CFC', '07 NAT IGC:Los Angeles', '80010-NYC11BTS:CORPS PRNTS', 'EBR-LA: FY16 Capacity Solicitations', '80010-DET09S:POTDNR', 'MAN-NH: FY16 Family Circle', '07 SAN AFT', 'SERVICE', '80000-SEA12:80000-SEA12', 'Service Day Sponsorship', '05 INT CDFRCS', '06 COL PROG:READ', 'Young Heroes Sponsor:YHTSP', 'WDC: FY13 Do More 24', 'MAN-NH: FY15 Gala', '05 RHI TSP', '05 RHI DIN', '04 BOS ANPM', '06 SANJ DIN:DON', '08 CHI SRV', 'BOS-MA: FY15 Giving Tuesday', '04 SANJ AFT', '06 NYC IGC:Alumni Friends & Fam', '05 BOS OPEN', '06 WDC APP:FALLD', '80000-NH08:08 Gold', '06 CLE APP:FALLPD', 'MIA-FL: FY17 Red Jacket Society Giving', '05 NH AFT', '05 NAT DIN:05 Presenting', '80000-WDC09:80000-WDC09', 'BOS-MA: FY14 Service Days', '08 SEA ERND', '06 SEA YH', 'CLE-OH: FY16 Annual Appeal', 'HQI-MA: 25th Anniversary Alumni--Strong Circle Day of Giving', 'PHL-PA: FY15 United Way', '08 BOS IGC', '07 INT NSD', '08 PHL G', '80040:Honor of Michael Bro', '06 DET ERND', '80000-BOS12:Night of Ask', '05 NYC CMPSP', '05 BOS APP:05-SACP', '09 CHI G', '03NB SSN:25K SP', 'BOS-MA: FY17 Spring Appeal Parent Email 2', 'COL-SC: FY15 Gala', 'NOL-LA: FY16 Sustainable Personalized Ask', '06 NAT HRF', 'MIA-FL: FY15 Program Support Solicitations', '06 LRA CAMP', '04 RHI DIN:CAM', '80070:NYC 11 Annual Golf T', 'DET: FY14 Little Wedding', 'WDC-DC: FY17 Team Sponsorships', 'HQI-MA: FY16 Capacity Solicitations', '07 NAT IGC:FONS', '04 NH EVT', 'MAN-NH: FY16 MGP', 'DET-MI: FY12 Women', '08 NYC SRV', '09 COL WSWC', 'ORL-FL: FY15 Breakfast', 'NH: FY13 Gala:donor', '10 NYC TSP', '08 BOS SRVSP', '05 NH IGC', '80000-RHI08:08 Donation', 'SAC-CA: FY14 Spring', '06 RHI APP:FALLCP', 'SSN/ROH/TRIB:Donation', '05 DET IGC', 'LOS-CA: FY17 Micro Campaigns', '08 RHI SPPM', '07 SANJ TSP:Co-Team', '06 SAN DIN:06 Gold', 'NYC-NY: FY13 Alumni Fundraiser', '04 RHI DIN:SHI', 'PHL: FY13 Gala:Deloitte Copeland', 'BOS-MA: FY16 EOY/Winter Appeal Parents Letter 1', 'SEA-WA: FY14 EOY', 'MAN-NH: FY15 Corps Friendraiser', 'ORL: FY13 Gala:donation', '06 CSC DIN', 'CLE: FY13 Board', '80040:Staff Giving Campaig', 'COL-SC: FY14 Board', '06 DET PROG', '05 CHI APP:SPRINGAP', 'NYC-NY: FY17 Alumni', 'HQI-MA: 25th Anniversary Gala', '80010-LSA09F:POTDNR', '05 CLE DIN:05 Silver', 'SAC-CA: FY14 Gala', 'BOS-MA: FY15 Spring Appeal Monthly LD (Lapsed) Email 2', '01 RHI YH', '08 COL YH:YHTSP', 'LOS-CA: FY18 Associate Board Giving', '08 WDC APP:FALLPD', 'JAX-FL: FY17 Capacity Solicitations', '07 NYC IGC', '07 SANJ PROG', 'WDC-DC: FY16 MLK Day - ZipCar', 'DEN: FY13 Gala:Tickets', '05 CLE GOV', '08 BOS APP', '80000-SANJ08:08 Presenting', '10 SEA IGC:ALUM/FRND CMPN', 'PHL-PA: FY17 ING Associate Board', '07 DET APP:FALL', '08 SEA SFC', '08 CSC PROG', 'LAXFY11FallAnnAppeal', 'TUL-OK: FY16 Opening Day', '06 BOS APP:SPRINGA', '04 CSC CAMP', '80000-LRA08:08 Bronze', 'WDC-DC: FY17 Alumni Soiree', '80000-SEA08:08 Presenting', '06 NH DIN:06 Live Auction', 'BOS-MA: FY13 Gala:Tickets', '05 INT CDFPRS', '80010-CHI09S:RENTED', 'CHI: FY10 Holiday', '06 BOS APPNI:FALLD', '06 NH DIN:06 Silent Auction', '04 BOS PROG:Clinton Innovation A', 'EBR-LA: FY13 Fall', '80010-WDC10U', '02 RHI YH', '04 SAN SPPM', '08 SEA SPP', '04 RHI SPPM', '08 PHL AFT', '05 RHI GEN', 'MAN-NH: FY15 Fisher Cats', 'MAN-NH: FY14 Gala:Auction', '05 BOS TSP', '05 PHL GRAD', '08 CSC CMPSP', '05 BOS APP', 'MWK-WI: FY17 Program Support Solicitations', 'NOLA: FY12 Gala:Tickets', '80000-SEA12:Raffle', '04 LRA OPEN', 'NH: FY13 Gala:Sponsorship', '07 PHL APP:FALLA', 'JAX-FL: FY17 Gala Sponsorships', 'MAN-NH: FY17 Camps', '06 RHI TSP:Full Team', '08 PHL APPNI:FALLAP', '80000-DET10:Platinum Sponsor', 'WDC: FY09 AlumFam', '04 RHI IGC:BMS', 'BOS-MA: FY17 Winter Appeal Lapsed Donors Email 2', '80010-Acq FY11Fall:A1', '05 SEA SRV', '05 BOS CAP', 'SAN-TX: FY16 The Big Give', '62000:SPRSHP', '80000-CSC08:80000-CSC08', '80000-NH11:Sponsor', 'DET-MI: FY15 Program Support Solicitations', '05 CLE DIN (2004)', '08 DET APPNI', '05 CSC DIN:05 Bronze', '07 WDC SPP', 'EBR-LA: FY15 Gala', '05 DET APP:SPRINGD', '06 RHI APPNI:SPRINGD', '06 DET EVT', '08 NYC APPNI', '08 SANJ CH', '07 SEA ERND', 'SEA-WA: FY17 Program Sponsorships', '05 SAN TSP', '04 RHI EVT:FND', 'SCHDIST', '08 SAN AFT', '04 CLE YH', 'BOS-MA: FY17 Spring Appeal Parent Letter', 'DET-MI: FY13 Gala:Individual Table', '07 SEA TSP:Full Team', '06 COL YH', 'NSD:JAX', '80000-COL08:08 Individual', 'WDC-DC: FY13 Gala:Sponsor', '05 NH DIN:05 Silver', 'BOS-MA: FY14 Fam Spring', 'DEN-CO: FY16 CO Gives Day', '07 CLE PROG', '07 NAT NLS:RASL', '04 BOS CMP:REG', 'WDC-DC: FY16 Team Sponsorships', '80010-DET09F:POTDNR', '05 NAT CARE', '06 NYC CARE', '80000-MIA12:Donations', '07 CHI IGC', '05 NYC EVT:Alumni', 'NOL-LA: FY14 Crazy Idea Challenge', '05 INT SUS', '08 BOS CYZ', '02 NAT ANPM', '08 BLD:ALUM/FRND CMPN', '07 WDC APP:FALL', '06 SAN YH', '08 SANJ GOV', 'OTHEREVNTS:EOY Site BBQ', '09 CLE IGC:ALUM/FRND CMPN', 'SAC-CA: FY15 Capacity Solicitations', 'SEA-WA: FY15 Sustainable Program Support', 'DAL-TX: FY16 Team Sponsorships', '06 NYC IGC', '80010-NYC12AnnFall', '07 PHL CH', \"TUL-OK: FY15 Women's Event\", '06 DET APP:FALLPD', '10 SEA AFT', '80000-CLE12:Sponsor', 'BOS-MA:DV:EX:FY16:160506 Spring Appeal Email 1 Email only', 'WDC-DC: FY15 Bain Cares Auction', 'BOS-MA: FY13 Gala', '06 NAT DIN:06 Individual', '09 RHI DIN (2008)', '08 SAN GOV', '06 NYC GRAD', '13 RHI IGC:ALUM/FRND CMPN', 'PRV-RI: FY14 Staff', 'BOS-MA: FY17 Winter Appeal Lapsed Donors Monthly Letter 1', 'NYC: FY12AlumBrd:Auction', 'CLE-OH: FY17 Team Sponsorships', '50000-12UNKN', '09 LRA TSP:Founding Citizens', 'NYC: FY12 AssocBrd:Mixology Event', 'SEA-WA: FY15 Individual Giving Tuesday', '07 LRA SPPM', 'Personal Ask', '08 LAX ERND', 'NYC: FY10 AlumBrd', '05 DET GEN', 'MIA-FL: FY15 Team Sponsorships', '05 SEA EVT', '80010-BOS10S:POTDNR', 'COL-OH: FY16 Gala - Red Jacket Ball', 'BOS-MA: FY13 Spring Phone', '07 CLE APP', '07 DET SRV', '13 BOS IGC', '04 NAT CARE', 'NYC-NY: 13 EOY', '05 WDC CMPSP', 'NYC: FY12 AssocBrd:Tickets', 'CLE-OH: FY16 Alumni Event', '80010-NYC10S:DNR', 'WDC-DC: FY14 Gala:Tickets', 'CHI-IL: FY17 Back 2 School Soiree', 'CLE-OH: FY17 Spring Appeal Mailing', '04 CSC GEN:BOARD', 'CHI-IL:FY13 Grad Parent', '80010-SANJ10F:DNR', '07 PHL PROG:RADIO', '80010-Acq FY11Fall:B0', 'MWK-WI: FY17 Sustainable', '04 BOS SRV', 'BOS-MA: FY16 Boston Marathon - Amir Memon', '07 LRA CMPSP', '05 CHI PROG:Clinton Innovation A', 'ANNUAL:Parent Appeal', '62000:Calendar Raffle', '08 CHI APPNI:SPRINGPD', '04 WDC CAMP:REG', '80010-COL11F', '09 LRA SPS', '80010-CLE10U', '80000-LRA09:80000-LRA09', 'SEA-WA: FY17 Give BIG', '06 BOS APP:FALLA', '80000-HQ08:08 Individual', '10 NAT IGC', '05 NAT IGC', '05 NAT APM', '10ATL MTCH (P)', '80000-BOS08:08 Half', '08 DET APPNI:07SPRING', 'Voices Membership Dues FY17', '07 PHL EVT', '06 JBG TSP:Full Team', 'LOS-CA: FY15 End of Year Campaign', '80010-CSC09U', 'DET: 13Schoenberg', 'NYC-NY: FY14 Alumni', 'WDC::FY11 AssocBrd', '06 SEA PROG:CLINTON', '06 WDC AFT', '01 RHI GEN', 'HQI-MA:DV:ECA$:FY15:141215: December - Joy Appeal', '08 PHL DIN (2007):Individual Tickets (', 'BOS-MA: FY17 Winter Appeal Recent Lapsed Monthly Donors Email 3', 'Voices Grants FY16', 'PRV-RI: FY15 Womens Event Spons', 'MIA-FL: FY14 Gala:Tickets', 'BOS-MA: FY15 EOY/Winter Appeal Current Donors Email 1', 'SSN/ROH/TRIB:TIX', 'MAN-NH: FY15 Service Days', 'DEN: FY12 WOMEN BRK:Sponsor', 'NH: FY13 Bike Race:Sponsorship', 'WDC-DC: FY16 DC United Event', 'CHI-IL: FY13 Gala', '06 CSC APP:SPRINGPD', '05 BOS DIN (2004)', '80010-RHI09F:RENTED', '06 BOS DIN:ALUM', '07 CLE APPNI', '01 RHI DIN', 'WDC-DC: FY13 Gala:Night of Ask', '05 NYC PROG:Clinton Innovation A', '80000-CSC08:08 Gold', '08 BOS SRV', '80000-DET08:1 Page', '80010-SEA10S:DNR', '08 RHI SPS', 'NOL-LA: FY15 Sustainable Personalized Ask', '80000-SAN08:08 TABLE', 'HQI-MA: FY15 End of Year', '09 PHL TSP:Full Team', '80010-CHI09F:DNR', '05 CLE YH', '05 CLE DIN:05 Donation', '80000-MIA10', '05 JBG GEN', 'BOS-MA: FY17 Winter Appeal Parents Email 3', '80000-PHL08:08 Half', '04 DET AFT', '61000-SPR', '06 SANJ APP:FALLD', '80000-SANJ08:08 Silver', 'MAN-NH: FY17 Idealist Circle', 'NYC-NY: FY17 Investment Breakfast', '04 CLE AFT', '07 SANJ SFC', 'MWK-WI: FY15 EOY Appeal', 'FY10 SPECLPRGM', '80000-CHI08', '80010-CSC10U', '07 LRA IGC', '80000-PHL11:80000-PHL11NOA', 'WDC-DC: FY16 Legal Breakfast', 'CHI-IL: FY16 Program Sponsorships', 'NYC-NY: FY18 Gala Night of Ask', '06 BOS YH:TSR', '06 NH EVT:LEG', '06 SANJ APP:FALLCP', 'TSP FY10 HALF', 'WDC-DC: FY14 MLK Day', 'SAN-TX: FY16 Capacity', '80010-MIA12F', 'SEA-WA: FY14 Gala: Golden Ticket Raffle', 'CHI: ServiceRcks:Donation', '03NB SSN', '07 SAN YH', '08 NAT APPNI', '07 NH CYZ', '80000-SANJ12:Night of Ask', '08 DET SFC', 'SAC-CA: FY16 Team Sponsorships', 'JAX-FL:FY16 Graduation', 'NYC: FY11 Breakfast:INV COMM BKFST', '04 CHI PROG', '06 COL APP:YHB', 'MAN-NH: FY17 Red Jacket Society', '05 WDC EVT', 'SNJ-CA: FY16 Service Day', 'Graduation', 'HQ: FY13 MS Challeng:CHI', '09 COL YH', '08 WDC GOV', '07 CHI SRV', '10 NAT APP:FALL', 'NYC-NY: FY17 Service Days', '06 CHI G', '08 DET PROG', 'EBR-LA: FY13 Gala', 'LOS-CA: FY17 Service Day', '80000-RHI10:Silver Sponsor', '80000-NYC08:08 Individual', '06 SAN OPEN', '80000-BOS12:Tickets', 'City Day:REG+', '05 BOS YH', '07 COL PROG', 'Atlantic Grant', '04 NYC IGC', 'CLE-OH: FY14 Ward Trees', '05 CLE SRV', '04 SEA EVT', '06 RHI DIN:06 Gold', '05 NH DIN:05 Presenting', '10 CSC IGC:ALUM/FRND CMPN', '05 NH EVT', '06 CSC SPPM', 'SNJ-CA: FY17 STEAM', '07 WDC YH', 'MIA: FY13 Women Lun', '05 LRA SPPM', '04 CHI DIN', '07 BLD', '04 COL GEN:Board Solicitation', '05 CLE MAJ:Corps Spon', '05 CSC DIN:05 Individual', '80000-SEA08:08 Platinum', 'LOS-CA: FY13 Gala Ticket', 'DEN-CO: FY16 Women?s Breakfast', 'MAN-NH: FY16 NH Gives Day', 'ANNUAL', '06 BOS APP:SPRINGAP', '05 NH DIN:05 Auction - Live', 'DEN-CO: FY16 United Way Annual Campaign', 'DEN: FY13 Gala:Night of Ask', '05 CSC DIN:05 Platinum', '08 BOS IGC:ALUM/FRND FUND', 'BOS-MA: FY15 EOY/Winter Appeal Current Donors Letter 2', '08 CLE APP', '08 INT IGC', '06 NYC TSP', 'WDC-DC: FY16 Zengo Cycle Charity Ride', '05 WDC DIN:05 Individual', 'MWK-WI: FY16 Gala', '06 NYC CMPSP', 'MIA-FL: FY15 Giving Tuesday', '07 NYC SPPM', '08 DET APPNI:FALLPD', '62000:FEE', '06 NYC APM', 'HQI-MA: FY16 Program Sponsorships', 'WDC-DC: FY17 Legal Breakfast', 'PRV-RI: FY15 Board Giving', '05 COL GEN:FIBOWL', 'LOS-CA: FY14 Gala Spring Break', '07 CLE TSP:Full Team', '80000-SEA12:Donation', '05 BOS IGC', '06 SEA AFT', '05 BOS SRV:CSD', '07 CLE SRVSP', '08 DET IGC', '05 RADIO', '07 NH IGC', '07 INT PROG:SACTFR', 'ORL-FL: DV:ECA$:FY15:141110: 2014 Annual Giving Campaign', '80040:Alumni & Friends Cam', '08 CHI EVT', 'SEA-WA: FY17 Gala Regret Gifts', '06 DET G', '80000-SANJ09:80000-SANJ09', 'DET-MI: FY16 Fountain Bistro', '05 WDC ERND', 'DET-MI: FY13 Gala:Donation', '07 JBG TSP:Full Team', '80010-MIA10F:POTDNR', 'LOS-CA: FY17 Spring Break Gala', 'DEN-CO: FY17 Major Gifts', 'WDC: FY12 AssocBrd', 'COL-SC: FY15 Program Support Solicitations', '07 WDC G', 'ORL: FY13 Board', 'NYC-NY: FY15 Service Days', '08 CSC APP', '06 CSC SRVSP', '05 NH ERND', '07 NAT DIN:07 Gold', '08 CSC G', '08 CHI PROG', '05 BOS APP:05-SAAL-BOS', '04 NH SRV', '80010-WDC11S', '05 RHI DIN:05 Presenting', '08 BOS APP:SRPINGOS', '04 WDC TSP', '05 BOS SRV:SAT', '04 BOS EVT', '04 COL PROG:Reading Success', '05 DET ERND', 'WDC-DC: FY12 Gala Night of Ask', 'SAN-TX: FY14 Gala:Tickets', 'BOS-MA: FY17 Winter Appeal Lapsed Monthly Donors Email 3', '80000-NH12:Tickets', '04 BOS SAT:Sponsorship', '07 LSA AFT', '05 LRA IGC', '07 COL APP:SPRINGA', 'MIA-FL: FY14 May Service Day', 'BOS-MA: FY15 Team Sponsorships', 'FY13 Team Sponsorships FULL', 'HQI-MA: FY17 Sustainable', '04 PHL APP', 'BOS-MA: FY15 Spring Appeal Regular RLD (Recently Lapsed Donor) Letter 2', 'WDC: FY13 Receptions:Cogen Reception', '80010-NH10U', 'DET: FY13 EOY:Lapsed', '04 DET CAMP', 'CYZHOST', '05 NYC DIN:05 Platinum', '04 NAT CYZ:ALUM', 'PHL-PA FY15 Gala Sustainable/Sponsorships', 'LOS-CA: FY17 Sustainable', '80000-WDC08:08 Individual', '06 SAN DIN', '08 SANJ SPPM', '08 LSA OPEN', '80010-DET11S:DNR', '04 COL CAMP:SPON', '05 CSC TSP', '06 NAT IGC', '80010-SAN09F:POTDNR', '80000-NH12:80000-NH12', '04 NAT PROG:Clinton Innovation A', '06 CSC SPS', 'DEN-CO: FY15 Program Support Solicitations', '10 MIA IGC', '06 RHI DIN:06 RHI DIN', 'OTHEREVNTS:NH HOLIDAY AUCTION', 'SNJ-CA: FY17 Team Sponsorships', '10 COL TSP:Full Team', '04 PHL YH', '08 SEA APP:FALLPD', 'SEA-WA: FY17 Gala Sponsorships', '09 BOS TSP:Full Team', 'MWK-WI: Major Gift Ask', '09 NH TSP:Co-Team', 'MAN-NH: FY17 Graduation', 'WDC-DC: FY16 Gala', 'WDC-DC: FY16 Giving Tuesday', 'Special Programs', '09 NYC SPPM', \"MIA-FL: FY17 Women's Leadership Luncheon\", 'EBR-LA: FY17 Flood Relief', '07 SANJ APP', '80010-LAX11F', 'HQI-MA: FY15 Capacity Solicitations', '06 SAN IGC', '80010-CLE09F:DNR', '08 NYC DIN (2007):Bronze', '05 BOS GEN', 'CHI-IL: FY16 Capacity Solicitations', '04 CLE SAT', 'NOL-LA: FY15 Gala', 'DET-MI: FY14 Gala Sustainable Sponsorships', 'NYC-NY: FY17 Bain Cares', 'HQI-MA: 25th Anniversary Alumni--Personal Ask', '80000-LRA08:08 Half', 'BOS-MA: FY17 Spring Appeal Current Donor Email 2', '80000-SANJ12:Sponsor', '80000-NYC11:Silver Sponsor', '80000-SEA08:08 Auction', '10 LAX TSP', '80000-HQ08:08 Silver', '80000-CSC08:08 Silver', '80010-PHL09F:ALUM', 'SAC-CA: FY17 Program Sponsorships', '07 COL EVT:Aumni', 'BOS-MA: FY15 Spring Appeal', '06 WDC ERND', '06 DET DIN:06 Donations', '08 SAN SRV', 'DET-MI: FY14 Spring', '06 BOS EVT:GOLFB', '08 DET APP:07SPRING', '80000-NYC12:80000-NYC12', 'SEA-WA:FY16 October Microsoft Giving', '80000-RHI12:Night of Ask', '08 SANJ AFT', 'WDC-DC: FY16 Spring Break - Plummer', 'CareForce', '80010-HQ10F:POTDNR', '09 MIA G', 'WDC: FY13 Legal Brk:Ask', 'FY09 OTHER INCOME:ALUMBRDDUES', '10 SAN IGC:ALUM/FRND CMPN', 'BOS-MA: FY15 Spring Appeal Regular LD (Lapsed Donor) Letter 2', 'DET-MI FY12 Gala Tickets', 'MIA-FL: FY17 Give Miami Day', '07 BOS DIN:07 NOA', 'SNJ-CA: Major Gift Ask', '05 DET DIN:05 Gold', '08 NAT AFT', '10 BLD:ALUM/FRND CMPN', '04 CSC YH', '08 LSA TSP:Founding Citizens', '80010-HQ09S:DNR', 'BOS-MA: FY17 Monthly Giving', '06 CHI APPNI:FALLD', '06 NAT APPNI:FALLD', 'PHL-PA: FY17 CE Wells Fargo Service Day', '08 SEA CH', 'COL-OH: FY13 Gala:donation', '06 WDC APP:FALLAP', 'ORL-FL: FY15 Orlando Alumni', 'NOL-LA: FY17 Program Support', '09 CSC IGC:ALUM/FRND CMPN', '06 BOS CMPSP', '10 DET IGC', 'RHI: FY13 Gala:table', 'BOS-MA: FY15 EOY/Winter Appeal Current Donors Email 3', '05 BOS APP:05-SAAP', '80010-SEASPRGMAIL11', '05 DET DIN:05 Silver', '07 BOS DIN:07 Gold', 'PHL-PA: FY16 Marathon', '08 CHI YH', 'HQI-MA: FY16 Cause Marketing', '05 COL EVT', '80010-LRA09F:ALUM PRNTS', '07 RHI PROG', 'CHI-IL: FY14 Graduation', '04 RHI DIN:AUC', 'Assoc Brd Fund', 'PRV-RI: FY15 Womens Event', 'PRV-RI: FY15 Program Support Solicitations', '80000-COL08:80000-COL08', 'NH: FY13 Gala', 'PHL-PA: FY14 Gala', '07 CSC PROG', '80040:board Dues', '80000-PHL11:80000-PHL11', '05 CHI EVT:JOPH1', '80000-SANJ10', '07 INT IGC', '09 LSA TSP:Full Team', 'Young Heroes Sponsor:YHOTHER', '06 COL CH', '04 NH IGC', '80010-CHI08S:CORPS PRNTS', '07 DET APPNI:FALL', '06 SEA OPEN', 'NYC:FY11 Alum', '09 NAT ERND', '06 CLE TSP:Full Team', '03NB SSN:1000 TIX', '02 RHI TSP', '08 CLE IGC:ALUM/FRND CMPN', 'ORL: FY13 Gala:sponsor', '06 RHI APP:FALLA', '08 LRA PROG', 'SNJ-CA: FY17 Service Day', '06 LRA DIN:IND', 'BOS-MA: FY17 Winter Appeal Lapsed Donors Letter 1', '06 CHI EVT', 'DET-MI: FY13 Gala:Idealism Sponsor', 'NYC-NY: FY17 Team Sponsorships', '07 BOS DIN:DON', '06 CSC GOV', 'DET; FY12 Bistro', '05 AUCTION', '08 BOS CARE', '08 CLE APPNI', '06 COL CMPSP', '08 NH SPS', 'NH: FY13 Gala:Silent Auction', 'MAN-NH: Major Gift Ask', 'NYC-NY: FY15 Gala Night of Ask', 'DET: FY13 EOY:Email', 'DET: FY13 EOY:Major Lapsed', '80010-HQ09F:RENTED', '80010-COL12S', '07 CLE DIN', 'MAN-NH: FY16 Team Sponsorships', 'SSN/ROH/TRIB:AUCTION', '07 RHI YH', '04 PHL TSP:CITYTSP', 'PHL-PA:FY15 Sips', '07 RHI AFT', '05 RHI APP:SPRINGA', '05 CLE APP:SPRINGA', 'BOS-MA: FY16 Program Support Solicitations', 'FY08 OTHER INCOME', 'NYC: FY12 JetBlue', 'LOS-CA: FY14 Associate Board Wine Tasting', 'LOS-CA: FY15 Marathon', 'PRV-RI: FY17 Program Support Solicitations', '07 DET OPEN', 'NOLA: FY12 Gala', 'DET-MI: FY13 Gala:VIP Sponsor', '80000-RHI10:80000-RHI10', '05 CSC APP:SPRINGA', '05 CLE CAP', '06 SEA SPPM', '07 SAN GRAD', 'PHL-PA: FY17 Gala', 'BOS-MA: FY14 Legal Brk', '09 NH WSWC', '08 CLE G', 'HQI-MA.25th Anniversary Staff Giving', 'LOS-CA:FY16 Fall Appeal', '80010-NH09S:DNR', 'COL-OH: FY14 Gala:Tickets', 'Gov. Grants & Support', 'NH: FY13 Gala:Ticket', '80010-WDC09F:ALUM PRNTS', '05 SEA DIN (2004)', '80000-NYC12:Online', '08 LSA CAMP', \"JAX-FL: FY17 Women's Lunch Tickets\", 'BOS-MA: FY17 Winter Appeal Recent Lapsed Monthly Donors Email 2', '06 DET TSP:Co-Team', '80000-SEA08:08 Individual', '05 NYC SRVSP', '05 BOS APP:05-SADO-BOS', '80010-BOS11F', '08 DET ERND', '06 NH AFT', '06 WDC CARE', '04 NAT APP', 'WDC-DC: FY15 Gala Night-of Ask', '05 CLE OPEN', '80000-SANJ08:08 Bronze', '80050', '07 LSA SRV', '06 LRA SRVSP', '05 LRA DIN:05 CIT', '07 LRA TSP:Full Team', '08 CHI CAMP', '04 RHI APP:FALL', 'SITEAMER', '07 SEA APP', '07 NYC DIN:07 Bronze', '07 CSC APPNI:SPRINGPD', 'SEA-WA: FY16 Program Sponsorships', 'DET-MI: FY13 FB', 'EBR-LA: FY17 Team Sponsorships', '80000-WDC08:08 Bronze', '04 NYC DIN', 'BOS-MA: Major Gift Personal Ask', 'SAN-TX: FY14 Gala:Night of Ask', '06 CSC DIN:PRESENTING', 'BOS-MA: FY17 Winter Appeal Parents Email 1', '06 NAT APP:FALLOS', '05 LRA TSP', 'NYC: FY12 AssocBrd', '10 PHL IGC', 'PRV-RI: FY17 RJS Cultivation Event', '80000-SEA10:Silver Sponsor', 'ORL-FL: FY13 Gala', '06 COL APP:FALLPD', '80070', 'Voices Membership Dues FY15', 'LOS-CA:FY16 Annual Appeal', 'SAN-TX: FY17 Program Support Solicitations', '05 BOS APP:05-FADO-BOS', '08 CSC TSP:Full Team', 'PHL-PA: FY16 EITC Contributions', '06 CLE CMPSP', '07 NAT IGC', '07 WDC SRV', '05 NYC DIN:05 Donations', 'JAX-FL: FY17 Program Sponsorships', '08 LAX SPS', 'MIA-FL: FY15 Service Days', '09 SAN IGC:ALUM/FRND CMPN', '06 SEA EVT', 'TUL-OK: FY17 Sustainable', '07 CHI APPNI:FALL', '05 NAT GEN:Clinton', '80060', '80010-BOS10F:DNR', '04 DET ENDW', 'WDC-DC: FY16 Sustainable Personalized Ask', '05 BOS DIN:05 Bronze', '04 COL SRV', '09ATL MTCH (NP)', '80010-HQ10F:DNR', 'CHI-IL: FY14 SD', '04 DET APP', '05 CHI CAP', '07 LRA AFT', '80000-LRA09:AUCTION', '80010-RHI11F:ALUM PRNTS', '06 PHL SPPM', '70000:EARTH DAY', '08 LRA AFT', '07 WDC CYZ', '80000-WDC08:08 Donation', 'SNJ-CA: FY14 Fall', '06 PHL APP:FALLAP', '07 CLE ERND', 'JAX-FL: FY17 Individual', '06 JBG PROG', '04 NYC CAMP:SPON', 'EBR-LA: FY16 Holiday Appeal', 'SEA-WA: FY17 Red Jacket Society', '07 SEA CH', 'SAC-CA: FY15 Team Sponsorships', '05 NYC PROG', '06 CHI APPNI:SPRINGPD', 'LAX: FY12 Women', '06 LSA TSP:Full Team', 'ORL-FL: FY15 Community Giving Campaign', '80010-SEA09F:DNR', '06 NAT APS', '05 NH CAP', '08 COL WSWC', '80000-MKE12:Donation', '80040:AABRDDUES', '08 SANJ PROG', '08 SANJ G', '05 JBG TSP', '04 CSC SAT', \"SNJ-CA: FY17 Women's Event\", '08 NYC SFC', 'PHL-PA: FY16 Sips', 'PRV-RI: FY16 Gala Sustainable/Sponsorships', '07 RHI GRAD', 'NYC: FY11 AssocBrd', '04 PHL SPPM', 'NYC-NY: FY16 Alumni & Friends Trivia Night', 'NYC-NY: FY14 Gala:Tickets', '08 NYC AFT', '08 SAN WSWC', 'BOS-MA: FY16 Other Events', '80000-NH10:Sponsor', 'PRV-RI: FY17 Gala', '80010-MIA09U', 'EBR-LA: FY14 Gala Tickets', '80000-DET08:NONTABLESPON', 'LOS-CA: FY16 LA Marathon', '09 SAN APPNI:SPRINGD', 'MAN-NH:FY16 Scary Scary Night', '80010-SANJ12F', '07 RHI SPS', 'SNJ-CA: FY16 Women Investing in Education', '07 WDC EVT', '07 CLE IGC', '05 RHI DIN:05 Individual', '80000-NH08:08 Presenting', '05 COL APP:SPRINGAP', 'MIA: FY13 DTD:Auction', 'WDC-DC: FY16 Spring Break - Thomas', 'BOS-MA: FY13 Parents', '04 Radio:RAD', '06 DET AFT', 'BOS-MA: FY16 Fall Appeal', '07 LRA SRVSP', '06 NYC CYZ', '08 COL APPNI:SPRINGPD', '06 PHL APP:FALLCP', '08 RHI IGC:08 PTNRC', '06 SEA SRVSP', '70000:SPRSHP', '07 COL CAMP', 'COL-SC: FY15.Lawyers Event', 'COL-SC: FY18 Gala', 'CHI-IL: FY14 Gala:Donations', '07 SEA YH', 'DEN: FY13 Gala', '80010-PHL10F:POTDNR', '07 NH CAMP', 'MIA: FY11 Women', '08 COL APP:FALL', '06 SANJ SPPM', '06 NAT DIN:06 Bronze', '06 LSA APP:FALLPD', '08 LSA CMPSP', '06 SEA APP:FALLPD', '06 LRA PROG', 'CLE-OH: FY17 Gala', '04 NAT APM', 'DEN-CO: FY16 Gala Night of Ask', '04 NH TSP', '80000-CSC 10 (2009)', '80000-PHL08:08 ExVice', '07 BOS APP:SRPINGOS', '06 BOS APPNI:FALLOS', '06 NYC SRV', 'CHI-IL: FY17 Red Jacket Society', '05 WDC DIN:05 Silver', '06 SANJ TSP:Co-Team', 'NYC-NY: FY15 Golf', '07 DET ERND', '07 SEA IGC', 'NYC: FY12 AssocBrd:Raffle', 'NYC: FY11 Women', '08 SEA TSP:Full Team', 'NYC: FY13 Gala:Tickets', '05 RHI SRVSP', 'DEN-CO: FY17 United Way', '80010-NYC09F:ALUM PRNTS', '80000-RHI08:08 RAFL', 'CLE-OH: FY14 EOY', 'WDC-DC: FY15 Alumni Fundraiser CYDC Soiree', '07 CHI EVT:MS', '03NB SSN:TIX PLUS', '08 CLE TSP:Full Team', 'SEA: FY13 Gala:Night of Ask', '80000-MIA12:Tickets', 'WDC-DC: FY14 Camps', '05 CLE GEN', 'COH-CALENDAR', 'SAN: FY12 GALA:Night of Ask', '08 RHI YH:YHPRSPON', 'WDC-DC: FY15 Sustainable Personalized Ask', '80010-CHI09F:POTDNR', 'MWK-WI: FY15 Sustainable Personalized Ask', '08 COL APP', 'BOS-MA: FY17 June EOY Appeal Current Donor Email', 'PRV-RI: FY16 Board Giving', '80010-PHL10U', 'BTR: FY12 Gala', '10 BOS IGC:ALUM/FRND FUND', 'NYC: FY13 Gala:Donation', '04 NH APP', 'LOS-CA: FY14 Service Days', '04 SEA CAMP', 'TUL-OK: FY16 Team Sponsor', 'MAN-NH: FY15 Program Support Solicitations', '05 DET DIN:05 Indiv. Tickets', '08 SEA OPEN', 'BOS-MA: FY17 Winter Appeal Lapsed Monthly Donors Email 1', '80010-DET12F', 'LOS-CA: FY15 Service Days', '06 PHL APPNI', '07 SEA CYZ', 'LRA: FY13 Gala:donation', 'NYC: FY12 GOLF', '80010-MKE11F', '08 WDC APP:FALLA', '05 BOS SRV', 'DEN-CO: FY14 Women Lead', '10 LSA EVT', 'ORL: FY13 Staff', 'PHL: FY13 Gala:donations', 'LTR-AR: FY15 Sustainable Personalized Ask', '03NB SSN:350 TIX', '80010-BOS09S:POTDNR', 'MAN-NH: FY16 Corps Friendraiser', '80000-WDC08:08 Silver', '08 CSC YH:Young Heroes Fundrai', 'ORL-FL: Major Gift Ask', '08 CHI AFT', 'MAN-NH: FY17 Program Support Solicitations', '80000-NH12:Sponsor', '04 PHL AFT', '80040:Holiday Cards', 'BOS-MA: FY17 Fall Appeal Email 2 Non Donor', 'NH: FY13 Gala:Auction', '05 BOS PROG:Clinton Innovation A', '05 COL CAMP', '04 BOS YH', '05 PHL DIN:NODIN', 'PHL-PA: FY15 Team Sponsorships', '80000-DET08:08 Silver', 'City Day', '05 CHI APP', '14 Team Sponsorship-UNKN', '05 LRA MAJ', 'HQI-MA: FY15 Staples Partnership', '09 SEA G', 'Whole School, Whole Child', '80010-COL09S:RENTED', '07 LRA DIN', '08 NH APP:FALLPD', '07 BOS APPNI', 'BOS-MA: FY15 Service Days', '06 COL CARE', '06 WDC IGC', '05 SEA SPPM', 'SAC-CA: FY16 Gala', '05 INT PROG', '80000-SANJ12:80000-SANJ12', 'JAX-FL: FY16 Winter Appeal', '06 DET DIN:06 Presenting', 'PHL-PA: FY17 ING Appeals - March', '05 CLE GEN:CLINTON', '06 COL G', '80000-RHI10:Bronze Sponsor', '07 DET TSP:Co-Team', '07 BOS DIN:07 Half Table', '80010-SAN11F', '06 NYC APP:FALLCP', '08 NAT OPEN', 'DET-MI: FY13 Hall Party', '05 LRA CYZ', 'MAN-NH: FY16 Team Supporters', 'PHL: FY14 Marathon', 'CHI-IL: FY15 Capacity Solicitations', 'SEA-WA: FY16 Team Sponsorships', '06 CLE SPPM', '80000-PHL08:08 Presenting', '05 COL APP:FALLYH', '80010-CLE09F:RENTED', '06 SAN SPPM', '80000-PHL09:PRESTGSPSR', '80000-BOS08:08 Individual', '80000-PHL08:08 Corporate', 'NH: FY13 Bike Race:NH: FY13 Bike Race', '08 SAN SRVSP:08 GLSD', '08 RHI G', '10 NH IGC', 'SEA-WA: Major Gift Ask', '1400-NHLED12:Sponsor', '80000-DET10:VIP Tickets', '80010-NH09F:DNR', \"JAX-FL: FY14 Women's Leadership Luncheon\", '04 RHI GEN', '07 BOS APP:FALL', '07 NYC EVT:Donation in lieu of', 'TUL-OK: FY15 Opening Day', 'MAN-NH: FY14 Gala Sponsorships', 'DET-MI: FY16 Program Sponsorships', 'FY09 OTHER INCOME:AssBrdDues', '06 CLE G', '05 NYC APP:SPRING', 'LTR-AR: FY14 Gala', '80010-PHL09F:ALUM PRNTS', '06 RHI AFT', '08 PHL CH', 'BOS-MA: FY15 Spring Appeal Regular CD (Current Donor) Letter', 'MAN-NH: FY16 Gala', '80010-BOS10U', '07 BOS APPNI:FALL', '06 NH YH', '80000-LRA12:Sponsor', '08 SAN CFC', 'MAN-NH: FY15 Gran Fondo Donations', 'BOS-MA: FY14 Womens Brk', 'MAN-NH: FY17 Alumni Holiday', '04 NH DIN', 'NYC-NY: FY15 Capacity Solicitations', '06 NAT ANPM', '06 NH TSP:HAMP', '04 WDC DIN', '05 NH APP:SPRINGOS', '07 NYC AFT', '80010-WDC10S', 'COL-OH: FY14 Gala:Night of Ask', 'NSD:DEN', '10 LSA TSP:Full Team', 'NYC-NY: FY17 Associate Board Cycling Fundraiser', '06 WDC TSP:Full Team', 'AMER', \"DEN-CO: FY17 School's Out for Summer\", '08 LRA GRAD', 'CHI-IL: FY16 Associate Board Dues', 'NYC: FY12 PEVC', '80000-CLE08:08 Individual', '06 SANJ IGC', '05 SAN CYZ', 'DET: FY13 EOY:Lybunt', 'LTR-AR: FY16 Team Sponsorships', 'MIA-FL: FY14 Gala:Night of Ask', 'CLE-OH: FY17 Program Support Solicitations', 'NOLA: FY12 Gala:Sponsor', '07 SAN SRV', 'BOS-MA: FY16 Spring Appeal Current Donors Letter', '07 NAT DIN:07 Silver', '01 RHI CYZ', 'HQ; Summit', '04 WDC CAMP', '04 SAN EVT', 'BOS: FY11 Women', 'CHI-IL: FY14 ServiceRocks', 'LOS-CA: FY15 Gala New/Tickets', '80000-DET10:Frnds & Fam Tickets', '80000-LRA12:Night of Ask', '06 CLE APP:SPRINGPD', 'EBR-LA: FY17 Program Sponsorships', 'MIA: FY13 DTD:Night of Ask', '06 NH DIN:06 Individual', 'CHI-IL: FY14 EOY', 'WDC-DC: FY16 Spring Break - Simon', '08 NYC ENDW', '07 DET APP:FALLOS', 'DET-MI: FY16 Sustainable Personalized Ask', '08 DET TSP:Full Team', 'NYC: FY12 AssocBrd:Donation', '04 CLE DIN', 'PHL-PA: FY17 ING Alumni', 'CHI-IL: FY13 Gala:Tickets', '05 SANJ DIN:05 Silver', '80010-COL10F:DNR', 'BOS-MA: FY16 Gala', 'Service Partner--NS', '08 NYC G', 'Private Funding for School Partnerships', 'DEN-CO: FY14 Women Breakfast', '80000-LRA09:SILVER', '08 CLE SPS', '80070:Cavender Golf', '09 BLD:ALUM/FRND CMPN', \"JAX-FL: FY15 Women's Luncheon\", '80010-HQ09S:POTDNR', 'BOS-MA: FY15 Spring Appeal Monthly CD (Current Donor) Letter', '08 CSC OPEN', 'SAN-TX: FY15 Program Support Solicitations', 'NYC-NY: FY16 Capacity Solicitations', 'LOS-CA: FY14 Gala Tickets', '04 CSC TSP', '07 WDC SRVSP', 'CHI-IL: FY16 Winter Appeal', '80000-SEA11:80000-SEA11', '80000-RHI09:TICKET', '09 COL IGC:ALUM/FRND CMPN', '06 CSC DIN:SIL', '80010-DET10S', 'WDC-DC: FY12 Gala', '07 COL APP:FALLA', '80000-LRA12:Tickets', '07 NYC YH', 'LTR-AR: FY14 Microsoft Youth Spark Challenge', 'CHI-IL: 25th Anniversary', '04 PHL AMER', '06 NYC PROG', '07 CLE EVT', '07 COL PROG:READ', 'PHL-PA: FY14 Friends Spring Cocktail', 'NYC: FY09 AssocBrd', 'DET-MI FY12 Gala', 'ORL-FL: FY14 Gala', 'SEA-WA: FY17 Sustainable', '06 WDC G', '80000-DET09:CORPSPSR', '80000-CHI 10 (2009)', '05 CHI YH', '07 CHI IGC:WTB', '07 CLE G', 'NHMOVIE', '04 PHL PROG:Clinton Innovation A', '07 CHI PROG', 'BOS-MA: FY16 Giving Tuesday Alumni', 'PHL-PA: FY17 Team Sponsorships', '80000-SEA09:80000-SEA09', \"DEN-CO: FY15 Women's Initiative Sponsorship/Donation\", 'ORL-FL: FY17 Capacity Solicitations', 'HQI-MA: 25th Anniversary Alumni--Former Board Match', 'MAN-NH: FY17 Sustainable Small Donors', 'COL-OH: FY15 Gala - Red Jacket Ball', 'NYC-NY: FY16 Associate Board Trivia Night', '07 COL G', '07 NH YH', 'COL-SC: FY13 Gala:Night of Ask', '09 LSA IGC', '08 NAT ENDG', '07 NYC APP:FALLPD', 'SEA-WA: FY15 Gala Ripples of Hope', 'SAN-TX: FY14 Gala Sustainable Sponsorships', '07 DET YH:YHFEE', '08 SANJ TSP:Full Team', 'SAN-TX: Major Gift Ask', '06 NH APPNI:FALLD', '08 CSC CAMP', '04 CHI APP', 'DEN-CO FY14 Gala Sustainable Sponsorships', '10 COL CAMP', 'DEN-CO: FY13 Women', '07 SAN SPPM', 'MAN-NH: FY14 Gala', '08 SEA YH', '07 PHL APP', 'WDC-DC: FY16 Spring Break - Savoy', '05 NH GOV', '10 LRA TSP:Full Team', '04 NYC YH', 'CHI: FY11 City', 'SEA-WA: FY14 Gala:Tickets', '05 DET DIN:05 Platinum', '08 BOS SFC', '80010-WDC10F', \"BOS-MA: FY17 Women's Bfast\", '06 COL APP:FALLP', '05 CSC DIN:05 Silver', \"SAN-TX: FY14 Power of Women's Luncheon\", 'NYC: FY14 Bain Cares', '06 PHL APP:SPRINGPD', 'COL-SC: FY13 Gala:Tickets', '80000-DET09:8TKTS', 'PHL-PA: FY16 Spring Appeal', '05 WDC IGC', '06 WDC APP:SPRINGD', 'LTR-AR:DV:EX:FY15:150402: Arkansas Gives', 'BOS-MA: FY15 Spring Appeal Monthly RLD (Recent Lapsed) Email 1', '08 WDC EVT:ALUM/FRND FUND', '80010-CHI10F:DNR', 'CYZSITE', '80000-NH08:08 Silver', '09 LSA CARE', '05 LRA CAP', '80000-CHI08:08 Half', '08 SEA SRVSP', '06 SEA DIN:06 Auction', 'PHL-PA: FY17 CE Service Days', '05 PHL GEN', 'WDC: FY13 Gala:Tickets', 'MAN-NH: FY15 Gran Fondo Registration', '06 BOS APP:FALLCP', 'RHI: FY13 Gala:Tickets', '08 LAX AFT', '80010-COL09F:RENTED', '10 DET APP:FALL', '09 LAX CH', 'EBR-LA: FY16 Gala', 'BOS-MA: FY16 EOY/Winter Appeal Parents Postcard', 'FNDCIR', 'SEA: FY13 Gala:Sponsor', '05 WDC MAJ', 'DEN-CO: FY16 Major Gifts', 'MIA-FL: FY16 Team Sponsorships', '08 CLE IGC', 'CHI-IL: FY13 Wine Stein Donation', 'SEA-WA: FY17 Gala', '04 COL APP', '07 SAN SRVSP', '70000:FEE', '05 DET EVT', '13 NYC IGC:ALUM/FRND CMPN', 'TUL-OK: FY16 Giving Tuesday', '80000-CLE11', '08 LRA APP', '80010-LAX09F:DNR', '80000-SEA08:08 Silver', 'COL-OH: FY17 Direct Mail', '80070:tickets', '10 NYC SPPM', '04 CSC CARE', '80000-SEA12:Tickets', '05 CLE SPS', '08 LRA APPNI:SPRINGD', '06 BOS CARE', 'BOS-MA: FY16 Spring Appeal Lapsed Donors Letter', 'LOS-CA:FY15 MariaMaganaMemorial', 'COL-SC: FY17 Capacity Building', 'NSD:ORL', '08 NAT YH', 'HQI-MA: 25th Anniversary', '07 NAT NSD', '80000-RHI09:GOLDSPR', 'DET-MI: FY16 Spring Appeal', 'EBR-LA: FY15 Sustainable Personalized Ask', '05 CLE APP:SPRINGPD', '05 NYC GOV', 'SAN: FY12 GALA:Donation', 'ORL-FL: FY14 Gala:Donations', '06 PHL EVT', '05 BOS EVT:SW5', 'WDC-DC: FY12 Gala Tickets', '08 DET DIN (2007):Bronze', 'LAX: FY13 Wine Taste:Auction', 'NYC: FY13 GOLF:Raffle', '07 COL SPS', '80010-DET10F:POTDNR', '08 NYC DIN (2007):Gold', '07 SANJ AFT', '80000-PHL08:80000-PHL08', '06 NH PROG:CLINTON', 'BOS-MA: FY17 Antosyzyk Denham Wedding', '06 COL DIN:AD', '05 NH APP', 'COL-OH: FY15 Program Support Solicitations', '05 SEA IGC', '07 SAN APP', '09 CHI IGC:ALUM/FRND CMPN', 'CHI-IL: FY15 Sustainable Personalized Ask', 'MWK-WI: FY17 Program Sponsorships', '07 WDC APP', 'CHI-IL: FY16 Sustainable Personalized Ask', '80010-DET09 (10 Col)', '08 NYC APP', '06 NAT CARE', '05 RHI YH', 'WDC-DC: FY14 Gala Sustainable Sponsorships', '04 PHL EVT', '05 LRA GEN', '07 BOS CAMP', '80000-NH08:08 Individual', '08 LAX G', '08 RHI AFT', '06 RHI IGC', 'MWK-WI:FY16 Milwaukee Home', '80010-DET09S:RENTED', '80000-SEA12:Wine wall', '08 LSA G', 'SNJ-CA: FY15 Women Investing in Education', 'LOS-CA: FY16 December Appeal', 'HQI-MA: FY17 South Africa', '80010-CHI09S:POTDNR', '08 SAN APP:SPRINGD', '06 SEA SFC', '80000-BOS12:Donation', '03 NAT APM', '80000-RHI08:08 Silver', 'COL-OH: FY13 Gala', '80010-BOS09F:RENTED', '80000-PHL09:SINGLETKT', 'CLE-OH: FY16 Gala Auction', 'NYC: FY13 GOLF:Auction', '50000-11HALF', '09 MIA TSP:Full Team', '07 CHI SRVSP', '80000-NH09:AUCTION', '08 SEA CMPSP', 'MIA-FL: FY17 Gala', '05 SEA GEN', 'COL-OH: FY17 Sustainable', '08 LAX SRV', 'BOS-MA: FY14 Fall', 'WDC-DC: FY13 Gala', '07 BOS DIN', '04 WDC CAMP:SPON', '80000-LRA08:08 Individual', 'NYC: FY12 Women', 'LRA: FY13 Gala:night of ask', \"DEN-CO: FY17 Women's Leadership Breakfast\", '05 COL APP:SPRINGPD', \"SAN-TX: FY17 Women's Luncheon\", 'NYC-NY: FY14 Investment Breakfast', '80010-CLE09F:POTDNR', '80000-DET09:PLATSPR', '08 NYC APP:FALL', 'SSN/ROH/TRIB:5000TBL', 'PHL-PA: FY16 Associate Board', 'BOS-MA: FY16 Fall Appeal Current Donors Email 2', '80010-BOS11F:ALUM PRNTS', '04 SAN TSP', '08 SAN APP:SPRINGAP', 'NOL-LA: FY16 Program Support Solicitations', '05 CLE DIN:05 Gold', '05 SEA APP:FALL', 'MAN-NH: FY17 Giving Tuesday', '07 BOS IGC', 'ORL-FL: FY16 Board Annual Giving', '07 SANJ G', '80000-CLE08:08 Bronze', '06 DET APPNI:SPRINGPD', 'MAN-NH: FY16 Capacity Solicitations', '06 LRA DIN:SIL', 'Mje', '80000-SANJ12:Donations', '04 BOS OPEN', '05 RHI DIN:05 Gold', 'NYC-NY: FY16 Ripples of Hope Gala', '05 COL TSP', '05 INT IGC:CIT', '08 NYC TSP:Co-Team', 'PRV-RI: FY15 Gala Sustainable/Sponsorships', '04 DET GEN', 'FY13 Team Sponsorship Unknown', '07 CSC APP:SPRINGD', '80000-DET10:Nonprofit Sponsor', '04 RHI IGC', '06 COL TSP:Co-Team', '80000-NH10:Live Auction', 'CHI-IL: FY14 Gala', 'LOS-CA: FY13 Gala Spring Break', '05 SANJ GEN', 'NYC-NY: FY16 Investment Breakfast', 'SEA-WA: FY16 Gala Regret Gifts', '80000-BOS08:08 Silver', '06 LRA GOV', 'MIA-FL: FY17 MLK Day', '06 WDC EVT', '80000-DET08:08 Donation', 'CHI-IL: FY14 Gala:Tickets', '10 LAX IGC:Founding Citizens', \"TUL-OK: FY16 Women's Event\", 'ORL-FL: FY15 Gala New/Tickets', '06 CSC EVT', '05 SANJ PROG:Clinton Innovation A', '06 LRA PROG:CLINTON', '80000-NH10:Tkts & Tbles', '11 NAT ENDOWMT', '05 SAN YH', 'BOS-MA: FY16 Fall Appeal Recent Lapsed Donors Email 1', 'CLE-OH: FY17 Winter Appeal Mailing', 'COL-SC: FY14 Gala', '08 LSA CH', 'SAC-CA: FY16 Sustainable Personalized Ask', 'SEA: FY13 Gala:ticket', '06 LSA HRF', 'Special Programs:GradBook', 'BOS-MA:DV:EX:FY16:151229: Winter Appeal Recent Lapsed Email 3', 'SAC-CA:DV:ECA$:FY15:141202: Giving Tuesday Appeal', 'BOS-MA: FY15 Sustainable Personalized Ask', 'WDC-DC: FY16 Spring Break - Chavez', '06 NH APP:SPRINGD', '06 CHI PROG', '80010-PHL12F', 'SAN-TX: FY17 The Big Give', '80040:N SMITH MEMORIAL', '80000-CLE 10 (2009)', '07 NYC SRVSP', '80000-MIA12:Sponsor', '06 SAN ACOD', 'BOS-MA: FY17 Winter Appeal Lapsed Donors Email 3', 'LEADERCIRC', 'CHI-IL: FY13 Service Rocks Ticket', '80010-BOS10F:ALUM PRNTS', 'WDC-DC: FY13 Gala:Double Match', '80000-BOS10:80000-BOS10', 'WDC-DC: FY16 Spring Break - Kimball', '06 PHL TSP:Full Team', 'NSD: MKE:Hotel MKE Event', 'PHL-PA: FY14 Ass. Board', '07 NYC TSP:Co-Team', '07 PHL SRV', '06 CLE APP:FALLD', '05 JBG START', 'BOS-MA: FY17 Alumni Board Spring Social', \"WDC-DC: FY17 School's Out Social\", '80010-HQ09U', 'PHL-PA: FY17 EVENTS Gala Sponsorships', '07 SANJ OPEN', 'WDC-DC: FY17 Spring Break', '05 CSC DIN:05 Presenting', '04 NAT PROG:Fireman Fellowship', 'WDC-DC:DV:ECA$:FY15:141202: Giving Tuesday', 'DET: FY13 Womens Brk:Donation', '08 RHI IGC:08 CITZC', 'PHL-PA: FY14 Fall', 'TUL-OK: FY17 Strong Circle Day', 'SAC-CA: FY15 Gala Sustainable/Sponsorships', '05 NAT DIN:05 Bronze', '04 SANJ DIN', '04 SANJ GEN:BOARD', 'BOS-MA: FY16 Boston Marathon', 'COL-OH: FY16 Program Support Solicitations', 'CLE-OH: FY15 Team Sponsorships', 'PRV-RI: FY17 Capacity Solicitations', '07 RHI EVT', '80000-BOS11:80000-BOS11', '08 PHL TSP:Co-Team', '06 COL APP:FALLAP', 'WDC-DC: FY14 Gala', '07 NAT SRVSP', 'EBR-LA:DV:ECA$:FY15:141202: Giving Tuesday', '80000-SAN08:08 Silver', '05 PHL SPPM', '80000-SEA09:Auction', '80000-NH11:Online Auction', '80000-RHI10:Ticket', 'CLE-OH: FY15 Giving Tuesday', 'TUL-OK: FY16 Program Sponsorships', 'CLE: FY13 Gala:Donation', '07 JBG G', 'COL-SC: FY13 Gala:Donation', '06 WDC PROG', \"MIA-FL: FY15 Women's Leadership Luncheon\", '80000-BOS12:80000-BOS12', '08 DET APPNI:SPRINGD', \"EBR-LA: FY15 Women's Leadership Breakfast\", '08 WDC SRV', '08 CSC SRVSP', 'COL-SC: FY16 Capacity Solicitations', 'DET: FY16 Gala', '07 CSC APP:SPRINGPD', 'COL-SC: FY16 Midlands Gives', '05 NAT NLS', 'PHL: FY13 Gala:Half Page Ad', '05 SAN DIN:05 Individual', '07 NAT DIN', 'LOS-CA: FY15 Gala - Spring Break', \"NYC-NY: FY15 Women's Series\", 'WDC-DC: FY16 Spring Break - Garfield', '06 SAN EVT', '80010-CHI11S', '07 LSA HRF', '06 SANJ EVT', 'DEN: FY12 WOMEN BRK:Donation', '06 CHI IGC', '80010-DEN12F', '05 CHI DIN:05 Platinum', '07 NAT IGC:Honor of Michael Bro', '80010-CLE11U', 'WDC: FY12 AlumBrd', '08 COL TSP:Full Team', 'PHL-PA: FY14 Gala:Night of Ask', 'PRV-RI: FY15 Annual Appeal', 'BOS-MA: FY16 JuneEOY Appeal Calls Current', '06 BOS DIN:DON', '10 WDC G', '06 NYC APP:FALLAP', '07 NYC DIN (2006)', '07 SAN OPEN', 'PHL: FY13 Gala', '04 SANJ TSP', 'CF: FY15 Service Days', 'PHL-PA: FY17 ING Appeals - May', 'MIA-FL: FY16 Alumni Brunch', 'CLE-OH: FY16 Program Sponsorships', '80010-COL10U', '07 DET DIN', '06 PHL DIN:PHL did not have a d', '80000-LAX12:Donation', '06 NYC DIN', '10 SANJ PROG', '06 DET YH', 'CHI-IL: 13 Summer Email', 'MIA-FL: FY16 Red Jacket Society Giving', 'CLE-OH: FY16 Board Gifts', '07 BOS IGC:Honor/Memory', '07 BOS APP:FALLPD', 'LOS-CA: FY16 Associate Club Prospects', '10 PHL TSP', '05 SEA DIN:05 Silver', '04 BOS EVT:MLK Day', 'LOS-CA:FY15 Wine Tasting', 'BOS-MA: FY16 Boston Marathon - David Itzkovits', '08 CHI DIN (2007):Individual Tickets (', 'SEA-WA:FY15 EOY', '10 PHL IGC:ALUM/FRND FUND', 'BOS-MA: FY14 Spring', '05 CSC SRV:SAT', 'BOS: FY10 PEVC', '04 RHI DIN', '05 PHL PROG:RADIO', 'CLE-OH: FY14 Gala', '07 BOS TSP', 'LOS-CA: FY17 Associates Board Giving', '80010-LRA10F:ALUM PRNTS', 'ChiFY11FallAnnAppeal', 'WDC-DC: FY17 Service Days', 'CLE-OH: FY18 Corporate Event - Breakfast', 'WDC-DC: FY17 Manson Garden Party', 'FY09 OTHER INCOME', 'SANJ: FY11 PEVC', '80000-NH11:Donor', 'MIA: FY13 After Part:Tickets', '08 CLE OPEN', '08 SEA APPNI', 'MARATHON', 'NOL-LA: FY17 Gala - School House Rock', '80000-CLE12:Tickets', '06 BOS DIN:06 Gold', '08 WDC YH', 'BOS-MA: FY17 Fall Appeal', '07 BOS APP:SPRINGPD', 'BOS-MA: FY17 Ambassador Trivia Night', 'DEN-CO: FY16 Capacity Solicitations', '80010-HQ11AnnFall', '07 DET G', '05 CSC DIN:$250SPON', 'BOS-MA: FY16 EOY/Winter Appeal Lapsed Donors Postcard', '10 PHL IGC:ALUM/FRND CMPN', '80010-PHL10F:ALUM PRNTS', '06 NH EVT', 'LTR-AR: FY16 Service Days', 'Special Programs:Basketball Tournamen', '02 RHI GEN', 'SAN: FY13 Gala:SAN: FY13 Gala', '05 JBG SRVSP', '07 CHI AFT', '04 NYC TSP', 'EBR-LA: FY16 Sustainable Personalized Ask', '80000-SEA10:80000-SEA10', 'NYC-NY: FY16 Winter Appeal', '08 COL APPNI:FALL', '08 WDC PROG', 'NYC-NY: FY16 Alumni and Friends Fundraiser', '06 NH DIN:06 GOLD', 'BOS: FY11 Legal Brk', '05 DET GRAD', '07 NH AFT', '06 NH IGC', '80010-PHL11F', '80010-WDC11F', '80000-SAN08:08 CIT', '80000-HQ 09 (2008)', 'HQI-MA: 25th Anniversary Alumni--Site Boards', '05 NAT CYZ', 'WSWC:Talent Development', '10 PHL TSP:Full Team', '80010-MIA09F:RENTED', '80040:Spring Fundraiser', '80000-SEA08:08 Bronze', '02 RHI CAMP', '07 WDC APP:FALLPD', 'Service Day', '80010-DET10S:POTDNR', '80010-RHI10F:DNR', '05 SAN AFT', '08 LAX TSP:Co-Team', 'BOS: FY12 PEVC', '07 CHI SPPM', '07 PHL APP:FALLCP', '08 NAT CYZ', 'CHI-IL: FY16 Annual Fund Individual', '05 SANJ IGC', 'BOARD', '08 CHI CFC', '08 NAT APP', '06 BOS SRVSP:SAT', '06 NAT PROG:Clinton Innovation A', '06 JBG EVT', '07 DET EVT', '08 SAN EVT', '80040', '80010-CSC09S:DNR', '07 NAT SRV:LASD', '05 WDC GOV', '05 CHI DIN:05 Gold', '06 CHI DIN:Silver', '05 NH GEN', '04 SAN CARE', '04 CHI AMER', '06 CSC DIN:BRONZE', 'COL-OH: FY14 Gala', '07 RHI SPPM', 'SNJ-CA: FY16 Sustainable Personalized Ask', '08 PHL PROG', '06 SAN CYZ:AC', '07 NH SRV', 'SAN: FY12 GALA:Sponsor', '09 WDC TSP:Full Team', '05 BOS CMPSP', '07 INT G', '80000-CLE10:80000-CLE10', 'BOS-MA: FY16 JuneEOY Appeal Calls Lapsed', 'DET-MI: FY17 Program Support Solicitation', \"MIA-FL: FY16 Women's Leadership Luncheon\", '07 NAT IGC:AKLSP', '04 SAN DIN', '06 RHI APP', 'WDC-DC: FY15 Gala', '06 NH TSP:Full Team', 'BOS-MA: FY17 Spring Appeal Current Donor Letter', 'WDC-DC: FY14 Legal Breakfast', '07 RHI APP', '05 CHI CAMP', 'NYC-NY: FY13 Holiday Cards', '07 SAN CMPSP', 'BOS-MA: FY16 Boston Marathon - Chris Mann', '05 BOS PROG', '04 NAT GEN', '05 NH CMPSP', 'CHI-IL: FY18 Winter Appeal', '06 WDC APP:FALLPD', 'HQI-MA: FY17 Strong Circle Day', '80040:BAILER WEDDING GIFTS', '05 DET APP:SPRINGPD', '80000-NH12:Night of Ask', '04 CLE AMER', '07 LSA IGC', '05 SEA GOV', '80000-CHI08:08 Individual', 'MIA: FY12 Women:Day of Ask', 'REDBOOT', '80010-NYC12BTS:LetterWithAsk', '80000-RHI08:08 Individual', '06 SANJ CYZ', 'WDC-DC: FY14 Service Days', '08 DET TSP:Co-Team', '04 RHI CAMP:SPON', '05 WDC CAMP', 'LOS-CA: FY16 Associates Board Fundraiser', 'MIA-FL: FY15 Gala', 'ORL-FL: FY17 Gala- Red Jackets Rock', '08 WDC IGC', '05 BOS EVT:SWGIK', '06 BOS OPEN', 'Combined Federal Campaign', '04 SEA CARE', '07 PHL SRVSP', '04 PHL SAT', 'SEA-WA: FY17 Team Sponsorships', 'CHI-IL: FY17 Women, Wisdom, and Wine', '07 BOS APP:SPRINGD', 'SNJ-CA: FY15 Team Sponsorships', '06 JBG TSP', '09 WDC YH', '09 NH YH', 'NYC-NY: FY15 David Caplan Birthday Bash', '80000-COL09:80000-COL09', '05 NYC MAJ', 'BOS-MA: FY17 Winter Appeal Recent Lapsed Donors Email 3', 'SAN-TX: FY15 Gala: Sustainable Sponsorships', '50000-12HALF', '80000-CSC12:Tickets', '08 NH CAMP', 'TSP FY09FULL', 'MWK-WI: FY15 Service Days', '09 NH IGC:ALUM/FRND CMPN', '08 COL G', '80000-RHI09:BRNZESPR', '06 WDC YH', '04 CHI IGC', \"DEN-CO: FY15 Women's Breakfast\", '07 BOS OPEN', 'SERVICE:PUBHEALTH', '05 LRA DIN:05 CHAMP', 'CHI-IL: FY17 Associate Dues and Donations', '02 RHI DIN', '80000-DET10:Individual Tickets', '07 LSA TSP:Full Team', 'BOS-MA: FY16 Boston Marathon - Alex Cooke', '08 CHI TSP:Co-Team', '05 COL APP:FAPPB', '05 WDC DIN:05 Gold', 'WDC-DC: FY16 Spring Break - Ketcham', '06 COL APPNI:SPRINGPD', '04 NH IGC:LEADCIR', '10 RHI IGC', '06 INT SUS:USS', '06 LRA DIN:BRO', '07 RHI IGC', \"NYC-NY: FY16 Women's Leadership Breakfast\", '06 WDC DIN:06 Gold', '05 NYC DIN:05 Bronze', 'BOS-MA: FY16 SA Alumni Reception', 'CHI-IL: FY15 Back to School Soiree', 'WDC-DC: FY16 Ripples Potter Wedding', '06 COL APP:SPRINGD', 'SAC-CA: FY17 Gala', 'ORL-FL: FY16 Graduation', 'NYC: FY12 Women:Night of Ask', '05 BOS EVT', 'BOS-MA: FY16 Giving Tuesday', '04 CLE GEN:BOARD', '06 SEA CMPSP', '80010-WDC11F:ALUM PRNTS', 'LTR-AR: FY14 Gala:Night of Ask', 'KSC-MO: FY17 Capacity Building', 'MWK-WI: FY17 Capacity Solicitations', '80010-COL09F:POTDNR', '07 CHI DIN', '06 BOS PROG:CLINTON', '06 NH APP', '05 SANJ AFT', '08 SEA SRV', '07 DET CH', 'DET-MI: Major Gift Ask', 'SAC-CA: FY13 Women', '08 LAX IGC:ALUM/FRND FUND', '06 SAN GOV', '80010-LAX09U', '08 NYC SRVSP:100 HoP', '05 RHI IGC', '05 CLE APP', '07 SANJ SPP', '05 COL DIN:05 Individual', '80010-CLE09S:RENTED', 'SAN-TX: FY14 Golf', '08 SANJ OPEN', 'NYC: FY13 Asso Board:Auction', '07 LRA EVT', '08 SANJ CMPSP', 'LOS-CA: FY17 Alumni Giving', '07 NAT DIN:07 Individual', 'Grant', 'SAC-CA: FY17 Sustainable', '08 LRA APP:SPRINGA', 'Local Government', '06 CHI APP:FALLD', '08 DET SPP', 'WDC-DC: FY16 Spring Break - CE', '08 COL SRVSP', 'SEA: FY13 Gala:Tickets', '04 Radio', '06 SANJ APP:SPRINGD', '07 LRA APP', '06 NH TSP:Co-Team', '08 RHI YH', '80000-BOS08:08 Bronze', 'ORL-FL: FY15 Team Sponsorships', '50000-11UNKN', '80000-RHI08:08 Bronze', 'MWK-WI: FY17 Chicago Marathon-Dan Nash', '80000-NYC08:08 Gold', '80010-CHI10S:POTDNR', 'CHI-IL: FY13 Wine Stein Raffle Tickets', '80010-SEA09F:POTDNR', '08 NH PROG', '80010-DET11F', '80010-NYC09F:CORPS PRNTS', 'MIA: FY11 Career Day', 'NHGOLF:NHGOLF', '06 CLE APPNI', '09 INT IGC', 'LOS-CA: FY16 SoulCycle', '07 SANJ APP:FALLPD', 'WDC-DC: FY16 Spring Break - KellyMiller', '80000-CLE12:Donation', '80010-Acq FY11Fall:A0', 'EBR-LA: FY15 EOY Campaign', 'MIA-FL: FY16 Give Miami Day', 'SAC-CA: FY16 Board Giving', '80000-RHI10:Gold Sponsor', '08 LRA TSP:Founding Citizens', '80000-NYC09:80000-NYC09', 'MAN-NH: FY15 Gala New/Tickets', 'NYC-NY: FY15 Sustainable Personalized Ask', \"DET-MI: FY17 Women's Leadership Breakfast\", '05 INT IGC:NSD', 'BOS-MA: FY17 Employee Giving', '05 SEA APP:SPRING', 'TUL-OK: FY15 Global Youth Service Day', '08 NYC YH', 'MAN-NH: FY15 Alum TSP', 'CHI-IL: FY17 Graduation Ceremony', '08 PHL IGC', '06 BOS TSP:Full Team', '80010-PHL09F:POTDNR', '06 BOS YH:PM', '06 RHI IGC:CB', 'PHL: FY13 EOY', 'GRANT', '05 CHI TSP', '80000-SAN08:08 Donation', '08 WDC OPEN', '06 SAN HRF', '06 BOS APP:SPRINGD', '80000-SANJ08:08 Individual', '06 NAT APPNI:FALLOS', 'BOS-MA: FY17 Ambassadors Giving', 'Diplomas Now', 'BOS-MA: FY16 EOY/Winter Appeal Lapsed Donors Letter 1', '04 BOS GEN', 'SEA-WA: FY16 Give Big', '06 COL APPNI:GEN', 'Voices Grants FY15', '80040:ALUM/FRND FUND', '06 LSA TSP:Co-Team', '06 LRA IGC', '80000-LRA08:08 Donation', '06 LRA TSP:Full Team', 'PRV-RI: FY16 Program Support Solicitations', '05 RHI DIN:05 Donation', 'MIA-FL: FY14 Board', '80000-NYC12:Sales Packet', '05 CSC APP:SPRINGD', 'LOS-CA: FY17 LA Marathon', '05 CLE GRAD', '06 PHL SFC', '08 DET AFT', 'MIA: FY13 Women Lun:Day of Ask', 'LOS-CA: FY15 InstaGallery Sales', '80040:Radiothon', 'NH: FY13 Bike Race:Registration', '80000-SEA11:Bronze Sponsor', '08 SEA APP:FALLAP', '06 SANJ DIN:06 Friends', 'MIA: FY13 DTD:Tickets', '08 NAT CFC', 'NYC-NY: FY14 Golf', 'SAN: FY13 Golf:Donations', '80000-HQ10', '06 NAT APPNI:FALLA', 'BOS-MA: FY16 July Appeal to FY15 Parents', '08 NAT NLS', 'SEA-WA: FY17 Annual Appeal - Winter', '07 CHI APP:SPRINGCP', '08 SANJ TSP:Co-Team', '80010-BOS09F:DNR', 'MWK-WI: FY14 Gala', '08 NAT CARE', '06 CSC IGC', 'MAN-NH: FY17 Alumni Giving', '06 CLE IGC', '09 PHL G', '05 CLE SRVSP', '80000-HQ08:08 Plantinum', 'Leadership Training and Development Event', '80010-WDC09S:ALUM PRNTS', 'CHI-IL: FY17 Corporate Annual Fund', 'TSP FY09HALF', '80040:ErnstandYng', '07 COL YH', '07 CSC APP', '06 BOS SRVSP', '06 SANJ CH', '04 PHL SRV', '06 CLE EVT', '07 NYC DIN:07 Silver', '07 BOS TSP:Full Team', 'BOS-MA: FY15 Spring Appeal Monthly LD (Lapsed) Letter', '08 NYC IGC:ALUM/FRND CMPN', 'ORL-FL: DV:ECA$:FY15:140812: 2014 Community Giving Campaign', 'PHL-PA: FY14 TSP', '06 RHI APP:FALLD', '80010-WDC10F:DNR', 'ANNUAL:FALL', 'SAN-TX: FY16 Gala', '07 WDC SPPM', 'CHI-IL: FY17 Fee for Service', 'DET: FY13 Gala:Gen Reception Ticket', '05 NYC IGC', '05 PHL EVT:AUCTION', '08 CHI EVT:WINE', '07 CHI APP:SPRINGD', 'TSP FY09 Founding', '06 DET APP:FALLA', 'NH: FY13 Gala:Night of Ask/Raffle', '05 COL DIN:05 Silver', 'SNJ-CA: FY16 Team Sponsorships', 'PHL-PA: FY16 October Appeal', 'PHL-PA: FY15 Fall Appeal', '06 LSA TSP', 'CHI-IL: FY14 WineStein:Sponsorship', 'SAT:CITHERO', '80010-NYC12AnnFall:FY12 Fall', '06 BOS APP:FALLPD', '05 DET APP', '06 CSC CYZ', 'SAN-TX: FY16 Service Projects', '06 CSC AFT', 'DET-MI: FY11 Gala', '08 WDC CFC', '08 LRA SRVSP', '08 CHI OPEN', 'LOS-CA:FY15 Alumni Board Giving', 'CHI-IL: FY17 Alumni Board Dues and Donations', '06 BOS APP:SPRINGPD', '08 SANJ APP', '05 CHI APP:SPRINGA', \"HQI-MA: FY15 CauseMark.Jer's Chocolates\", '10 LSA G', 'BOS-MA: FY15 Staff Giving', '05 NYC YH', 'ORL-FL: FY16 Staff Giving', '07 NAT CYZ', '08 BOS IGC:ALUM/FRND CMPN', 'PHL: FY13 Gala:Silver Page Ad', '06 NYC GOV', '06 SAN CMPSP', '09 WDC IGC:ALUM/FRND CMPN', '09 PHL TSP:Co-Team', 'MWK-WI: FY14 Gala:Tickets', '08 RHI PROG', '08 NYC CH', 'GRAD', '08 BOS OPEN', '07 NH OPEN', 'BOS-MA: FY17 August Appeal to FY16 Parents', 'LAX: FY12 AssocBrd', '06 COL YH:TABC', 'BOS-MA: FY17 Winter Appeal Monthly', 'BOS-MA:DV:EX:FY16:151202: Winter Appeal Current Email 2', 'CHI-IL: FY13 Gala:Donations', '07 CHI G', 'DET-MI: FY13 Gala:Friend Ticket', '80000-NYC10:80000-NYC10', '08 SAN APP:FALL', '05 NYC CARE', 'EBR-LA: FY17 Gala', '07 DET APP:FALLPD', '05 NAT APP', 'COL-SC: FY16 Individual Giving Campaign', '06 DET APP:SPRINGPD', '80010-CHI11F', 'TUL-OK: FY16 Board Ask', '08 CLE AFT', '06 PHL G', '05 BOS SRVSP:SAT', '08 CSC APP:FALL', '08 PHL APP:FALLA', 'NYC-NY: FY16 New York Alumni', 'BOS-MA: FY17 BarkerBlain Wedding', 'SEA-WA: FY14 Gala: Wine Wall', 'JAX-FL: FY17 Gala Tickets', 'SEA-WA: FY16 Giving Tuesday', '80000-PHL10:80000-PHL10', 'NATBOSAA03', '05 JBG IGC', '06 CHI DIN:Gold', 'School Partnership--School/District', 'HQI-MA: FY17 Giving Tuesday', '80000-PHL09:CORPTABLE', '06 CSC DIN:IND TIC', 'CLE: FY13 Gala:Tickets', 'PRV-RI: FY14 Gala:Night of Ask', 'COL-SC: FY14 Gala:Donations', '06 NH ERND', '05 RHI CMPSP', '07 CLE SFC', '09 NAT G', 'MIA-FL: FY16 Board Giving', '80000-DET09:FRDSFAMTKT', '07 PHL IGC', '07 NH G', '06 PHL SPP', '04 COL YH', '05 NAT GEN', '08 COL APPNI', 'NYC-NY: FY14 Gala:Night of Ask', 'CCL', 'COL-SC: FY15 Sustainable Personalized Ask', 'CHI-IL: FY16 The 1701 Party', 'SSN/ROH/TRIB', '06 NAT DIN:DON', '80000-SEA09:INDTKT', '08 NH G', '07 LSA IGC:ESMEMORIAL', 'SNJ-CA: FY16 Gala', 'CAREFORCE 99-03', 'CLE-OH: FY17 Gala - Night of Ask', '04 SANJ SPPM', '80000-NH09:TKTSTBLE', '04 NYC GEN:ALMN', 'LSA: FY09 Huricane', '80000-LRA12:80000-LRA12', '04 PHL TSP:YH', '80010-CHI09U', '08 BOS TSP:Co-Team', '07 CHI EVT:YHFD', 'EBR-LA: FY17 Sustainable', '06 DET DIN:06 Individual', 'NYC-NY: FY15 Team Sponsorships', 'CHI-IL: FY17 Gala - Night of Ask', 'BOS-MA: FY14 Otterbox', '08 CHI IGC:ABD', '80040:ALUMFAM', 'CHI-IL: FY17 Program Sponsorships', '80000-COL12:Sponsor', '07 CHI YH', '07 SEA SFC', '08 CHI G', '06 BOS DIN:06 Bronze', '07 BOS EVT', '07 NH SPP', 'LTR-AR: FY14 Gala:Tickets', '05 COL YH', '04 BOS GRAD', '08 LAX YH', '08 CHI DIN (2007):Sponsor', '80000-LRA10:80000-LRA10', '80000-CSC12:80000-CSC12', '06 CSC G', '05 BOS SPPM', 'NYC: FY12AlumBrd:Donation', '06 COL APPNI:SPRINGD', 'PHL-PA: FY15 Program Support Solicitations', '09 NH CMPSP', '07 DET AFT', '08 COL OPEN', '05 BOS EVT:SW3', '07 BOS DIN:07 Silver', 'CLE: FY13 Gala:Silent Auction', 'NOL-LA: FY15 Crazy Idea Challenge', 'CLE-OH: FY16 Spring Direct Mail', 'LOS-CA: FY15 Team Sponsorships', '03NB SSN:DONATE', 'BOSFY11FallAnnAppeal', '07 WDC EVT:Aumni', '05 COL DIN:05 Bronze', 'FIB', 'DEN: FY12 CORPBRK', '09 RHI YH', 'PHL-PA: FY16 Cheers', '80010-PHL09U', '08 SAN EVT:08 CSGC', '08 PHL ERND', '07 NAT NLS', '80000-SEA10:Individual Ticket', '10 LAX IGC:ALUM/FRND CMPN', 'MIA-FL: FY18 Red Jacket Weekend', 'ORL: FY13 Gala:Night of Ask', '07 NAT DIN (2006):Donation', 'ORL-FL: FY15 Gala Night of Ask', 'LOS-CA: FY17 Board Giving', '05 CSC SRVSP', '05 SANJ APP:SPRING', '80010-LSA09U', '80000-NYC08:08 Silver', 'Gala\\\\Annual Dinner', '07 SANJ TSP:Full Team', 'NOL-LA: FY17 Red Jacket Society', '07 CSC TSP:Co-Team', 'MIA: FY12 Women:Donation', '06 SEA G', '08 PHL CAMP', '62000:corps fundraising', '08 DET YH:YHOTHER', 'Young Heroes Sponsor:YHPRSPON', '80040:Patriots Raffle', '05 WDC DIN:05 Presenting', 'EBR-LA: FY16 Associate Board Fundraiser', '06 CSC OPEN', 'CLE-OH: FY16 Program Support Solicitations', '04 RHI APP', '06 LSA IGC', 'LOS-CA: FY17 Alumni Board Giving', '06 LRA AFT', 'NH: FY13 Gala:Donation', '06 BOS IGC:Alumni Friends & Fam', '07 NH SRVSP', '07 CHI TSP', 'NYC: FY11 Breakfast', 'CHI-IL: Major Gift Ask', '05 BOS EVT:MFS/CYB Bake Sale', '06 DET APPNI:FALLD', '07 NAT G:VFNS', 'NYC-NY: FY16 Yoga class', '10 BOS APP:FALL', '08 SEA APP:FALL', '80040:Honor/Memory', '08 NAT SRVSP', 'DEN-CO: FY16 Women?s Breakfast Morning of Ask', '06 WDC SRVSP', '04 SAN YH', '06 LSA AFT', '04 SEA SRV', '05 SANJ DIN:05 Twinkling', 'BTR: FY12 Gala:Tickets', 'GENSOL:Payroll Deduction', '07 NYC PROG', 'NYC: FY13 GOLF:Tickets', '05 NAT DIN:05 Silver', '08 CHI APP:SPRINGA', 'LOS-CA:FY15 Board Giving', 'UNSOL:TRIBUTE', '08 SAN APPNI', '10 WDC PROG', '80000-HQ11', 'SAN: FY13 GRAD', '08 RHI CFC', '13 LAX IGC:ALUM/FRND CMPN', \"BOS-MA: FY17 Women's Bfast Monthly Giving\", 'NOLA: FY12 Gala:Donation', '80000-CLE09:80000-CLE09', '07 RHI SPP', '80010-SANJ11F', 'DET-MI: FY15 Sustainable Personalized Ask', '04 RHI OPEN', '06 NAT GRAD', 'BOS-MA: FY17 Winter Appeal Parents Email 2', 'COL-SC: FY13 Gala', 'CLE-OH: FY16 Capacity Solicitations', 'LOS-CA: FY14 Gala Sustainable Sponsorships', 'SERVICE:AFTERSCH', '80010-SANJ09F:DNR', '05 RHI GOV', '07 NAT SFC', 'NYC-NY: FY14 Golf:Tickets', '80000-SEA10:Alumni Ticket', 'SAC-CA: FY16 Service Days', 'SAC-CA: FY16 Big Day of Giving', '08 COL CAMP', 'BOS-MA: FY17 Legal Bfast', '06 PHL APPNI:FALLD', 'HQI-MA: FY16 Giving Tuesday', '07 RHI ERND', '08 CHI DIN (2007):Patron', '06 CSC CMPSP', 'SAN: FY12 GALA:SAN: FY12 GALA', '08 BOS APP:FALLOSUW', 'CHI-IL: FY17 Team Sponsorships', 'CHI-IL: FY15 Microsoft Youth Spark Challenge', '07 BOS CMPSP', '06 BOS EVT:GOLFG', '08 PHL APP:FALLCP', '80010-SAN09U', '07 NH CMPSP', 'CHI-IL: FY21 Team Sponsor', '05 PHL CAP', 'LOS-CA: FY16 Micro Campaigns', '08 PHL OPEN', '80010-BOS10F:ALUM', 'ORL-FL: FY15 Gala Silent Auction', '08 NH CMPSP', 'PHL-PA: FY17 ING Other', '06 COL OPEN', 'BOS-MA: FY15 EOY/Winter Appeal Recently Lapsed Donors Email 3', '10 LSA IGC', '08 NAT PROG', '04 CHI TSP', 'DET-MI: FY13 Womens Breakfast', '80000-CLE12:Night of Ask', 'PHL: FY13 Gala:Coporate Leadership', 'BOS-MA: FY16 Legal Bfast', 'NYC-NY: FY15 Alumni and Friends', '06 NYC SPPM', 'DET-MI: FY14 Gala:Tickets', '06 PHL APP:FALLA', 'ORL-FL: FY17 Opening Day', '08 SEA G', 'SNJ-CA: FY17 Strong Circle Day', 'BOS-MA:DV:EX:FY16:151124: Winter Appeal Current Email 1', 'NYC: FY13 Art', '80000-COL08:08 Bronze', 'NOLA: FY12 Gala:Night of Ask', 'BOS: FY12 Women', '13 BLD:ALUM/FRND CMPN', '05 SEA DIN:05 Donations', 'SSN/ROH/TRIB:10000TBL', '80010-CHI10U', 'DEN-CO: FY15 Gala Night of Ask', '80000-LRA09:GOLDSPSR', '10 LSA TSP', '05 BOS ERND:RMK BOOK', 'MAN-NH: FY15 Gala Sponsorships', 'LAX: FY13 Golf:Auction', '80010-RHI09F:POTDNR', '06 PHL AFT', '07 WDC CAMP', 'PHL-PA: FY15 Winter', 'NYC-NY: FY17 Associate Board Fundraiser', '80070:sponsor', '09 LSA TSP:Founding Citizens', 'PRV-RI: FY17 Sustainable', '80010-HQ09F:POTDNR', '06 LSA APP:FALLD', 'PHL-PA: FY17 Sustainable', 'TUL-OK: FY17 Graduation', '80000-SEA09:SILVERSPSR', '09 BOS IGC:ALUM/FRND CMPN', '09 LRA TSP:Full Team', \"PHL-PA: FY16 Women's Leadership Luncheon\", '80000-WDC11:80000-WDC11', '07 DET IGC', 'BOS-MA: FY16 EOY/Winter Appeal Recent Lapsed Donors Postcard', '10 WDC YH', '80000-MIA12ChairDinn:80000-MIA12ChairDinn', 'PHL: FY13 Gala:Gold page ad', '04 CHI SERV', 'TUL-OK: FY17 Appeal', 'DEN-CO: FY17 Gala', 'NYC: FY13 CMF', 'CHI-IL: FY15 Gala', 'SNJ-CA: FY14 Assoiciate Board Event', '07 NYC DIN:NA', 'MWK-WI: FY16 MLK Day', '07 LSA OPEN', '06 NH SPP', '06 BOS APPNI:SPRINGD', '08 PHL PROG:RADIO', 'DAL-TX: FY17 Sustainable', '80000-LAX09:80000-LAX09', 'CHI-IL: FY16 Red Jacket Weekend', '80000-SAN08:08 Individual', 'DET: FY12 AbrHous', 'LOS-CA: FY16 Gala Spring Break', '08 PHL PROG:YLC', '80010-SAN09S:DNR', 'MIA-FL: FY16 Program Solicitations', 'PHL-PA: FY14 Spring', '10 MIA TSP', 'Sustainable', '06 NH GOV', 'COL-OH: FY17 Program Support Solicitations', '07 CLE CAMP', '08 SAN PROG', '80000-SEA10:Half Table', 'MAN-NH: FY15 Capacity Solicitations', '04 NAT CYZ:SPON', '08 SEA CAMP', 'LOS-CA.FY14 ThursdayNights', '80010-NH09U', '80010-LAX12F', '07 CHI TSP:Full Team', '08 CHI APP:SPRINGD', '80010-LRA09F:RENTED', '08 PHL CMPSP', 'SERVICE:CYCLE', '06 CLE DIN:06 GOLD', '05 NAT PROG', 'MWK-WI: FY15 Program Support Solicitations', '07 RHI DIN:ISPON', 'CHI-IL: FY17 Gala', '08 NAT WSWC', '05 COL APP:FALLMI', '80010-DET12S', 'NYC: FY13 Gala', '07 COL APP:FALL', 'BOS-MA: FY14 EOY', '07 NYC APP', '05 WDC SRV', '06 PHL CAMP', 'LTR-AR: FY15 Program Support Solicitations', 'MIA-FL: FY16 Capacity Program Support Solicitations', 'HQI-MA: FY16 Sustainable Personalized Ask', '08 SAN APP', 'PHL-PA: FY17 CYPaints', 'BOS-MA: FY17 Red Jacket Weekend', '05 BOS EVT:MFS/CYB Basketball T', '09 NH APP', '80000-SEA09:Donations', '80010-BOS12F', '04 CSC APP', 'HQ: FY10 Women', 'WDC-DC: FY17 Cheers for City Year', '80010-PHL10F:CORPS PRNTS', 'SAN-TX: FY16 Sustainable Personalized Ask', 'WDC-DC: FY14 Gala:Night of Ask', 'BOS-MA: FY15 Fall Appeal', 'SNJ-CA: FY15 Program Support Solicitations', '05 CLE PROG', '06 DET DIN:06 Silver', '06 LRA YH', 'NH: FY13 Gala:Night of Ask', 'SNJ-CA: FY16 Program Sponsorships', 'DEN-CO: FY17 Sustainable', '06 NAT APM', '06 CSC DIN:Donations', '09 LAX IGC', 'SAN: FY11 Gala:SAN: FY11 Gala', '05 JBG IGC:CIT', 'WDC-DC: FY15 Program Support Solicitations', 'BOS-MA:DV:EX:FY16:160623.JuneEOYEmail.Current', '07 WDC DIN:Presenting Sponsor', '06 BOS SPS', '05 SEA AFT', 'CLE-OH: FY17 Micro Campaign', '06 SEA ERND:Young Heroes Car Was', '80010-LRA10F:CORPS PRNTS', '05 NYC DIN:05 Silver', '07 CSC SPPM', 'BOS-MA: FY17 Gala Night of Ask', '04 SAN GOLF:04 SAN GOLF', '07 RHI OPEN', 'BOS-MA: FY16 EOY/Winter Appeal Current Donors Letter 1', '07 CSC DIN', 'DET-MI: FY15 Service Days', '06 LRA DIN:Gold', '80000-PHL09:EVENTSPR', '05 PHL SRVSP:SAT', 'SANJ: FY13 Gala', 'NYC-NY: FY16 Service Days', '10 DET PROG', '04 DET DIN', '05 COL SRVSP', 'CAPCTYBLDG', '80000-NH09:DONOR', '05 NYC GEN', 'BOS-MA: FY15 Ambassadors Spring Event', '07 BOS G', '08 CLE EVT', '04 WDC APP', '08 NH IGC', '06 BOS EVT:GOLFI', '06 COL APP:FALLB', 'COL-SC: FY16 Program Sponsorships', '05 RHI EVT', 'SAC-CA: FY17 Capacity Building', 'LTR-AR: FY17 Program Support Solicitations', 'GENSOL', 'SEA-WA: FY17 Shoulders of Giants', '05 NAT PROG:Fireman Fellowship', 'LOS-CA: FY15 Sustainable Personalized Ask', '06 CSC ERND', '08 SANJ IGC:ALUM/FRND CMPN', '08 NYC SPPM', '09 NAT CYZ', '80010-RHI10U', \"DET-MI: FY16 Women's Leadership Breakfast\", 'WDC-DC: FY18 Cheers for City Year', '07 CLE CMPSP', 'DEN-CO: FY15 CO Gives Day', '05 SEA DIN:05 Auction', '07 ESEA', '80000-DET08:08 Bronze', '09 NYC IGC', '05 INT GEN', '05 SANJ CMPSP', '07 PHL G', '06 BOS EVT:GOLFS', '07 RHI DIN (2006)', '06 NYC DIN:06 Silver', 'MAN-NH: FY14 Leadership Breakfast', '07 SFCI SFC:MFT', '08 SEA CFC', '7100', 'TUL-OK: FY17 Program Sponsorships', '05 CLE APP:SPRINGD', '08 NH SRVSP', 'PHL-PA: FY17 ING Red Jacket Society', '09 BOS IGC', 'MIA: FY12 Ambassador', '06 CLE SRVSP', 'COL-OH: FY15 Giving Tuesday', '80000-RHI12:80000-RHI12', 'WDC: FY14 Giving Day', '06 LRA DIN', 'BTR: FY12 Gala:Donation', '06 BOS EVT:GOLFP', '07 SANJ APP:SPRINGD', 'NYC: FY10 AssocBrd', '80010-NYC11AnnFall', '06 PHL APP:FALLPD', '80000-HQ08', 'NYC-NY: FY15 Gala Sustainable/Sponsorships', '07 COL TSP:Full Team', '08 NH TSP:HAMP', 'TSP FY09 UNKN', 'COL-OH: FY15 Board Campaign', '05 COL APP', 'BOS-MA: FY17 Winter Appeal Recent Lapsed Donors Letter 1', '08 LSA AFT', 'SEA-WA: FY16 Alumni Giving Challenge', '80000-NYC12:FY12 Night of Ask', 'TSP FY08 FULL', '06 PHL APP', 'MWK-WI: FY18 Program Sponsor', '08 BOS CMPSP', 'SAN: FY12 GALA:Auction', '04 CHI AFT', '08 COL IGC:ALUM/FRND CMPN', 'CHI: ServiceRcks:Sponsor', 'NYC-NY: FY15 Associate Board Fundraiser', 'BOS-MA: FY15 EOY/Winter Appeal Current Donors Letter 1', '80000-DET09:QRTRPGAD', 'EBR-LA: FY14 Gala Sustainable Sponsorships', '05 SANJ CAP', 'CHI-IL: FY17 Xavier Joy Memorial', '80010-SANJ09F:RENTED', 'BOS-MA: FY17 June EOY Appeal Lapsed Donor Email', 'NH: FY11 Women', '08 SEA IGC', 'COL-OH: FY14 Gala:Donations', 'Voices Presidential Polling FY16', 'HQI-MA: FY15 Program Support Solicitations', 'CHI-IL: FY15 Associate Board Trivia Friendraiser', 'BOS-MA: FY16 EOY/Winter Appeal Recent Lapsed Donors Letter 1', '05 SAN DIN:05 Bronze', '06 RHI APP:SPRINGD', '08 BOS APP:FALLOSHFH', '06 DET DIN:06 Gold', '07 PHL APPNI', 'LAX: FY11 AssocBrd', '08 LRA TSP:Full Team', 'LAX: FY13 Golf:tickets', '05 DET DIN:05 Indiv. Donations', 'NYC-NY: FY13 GOLF', '05 CSC YH', '06 LRA APP:FALLD', 'DEN-CO: FY14 Gala:Night of Ask', 'NOL-LA: FY15 Gala New/Tickets', '80000-NH08:08 Bronze', '04 CSC AFT', 'MWK-WI: FY16 Service Days', '06 COL SPS', '08 PHL YH', '07 JBG TSP:Co-Team', '06 CSC PROG', 'COL: FY12 AlumBrd', '80010-SAN09F:RENTED', 'NYC: FY13 Alumni:Tickets', '80000-PHL09:VICECHAIR', '05 SANJ PROG', '10 NAT APP', '05 BOS CAMP', '80000-CSC12:Donation', 'PHL-PA: FY14 Cocktail Parties', 'San12 - 5100', '06 NH CAMP', '07 NYC CAMP', 'DET: FY13 EOY', 'CLNTDEM:SAFRICA', '08 SANJ SRV', '80010-NYC09F:POTDNR', '80000-NH08:08 Donation', 'COL-SC: FY13 Law Event', '07 BOS SRV:100HOP', '80010-DET09F:RENTED', '08 PHL SPPM', '06 COL APP:GEN', 'WDC-DC: FY17 Winter Appeal', 'COL-SC: FY17 Individual Giving Campaign', '07 CLE APP:SPRINGD', '01 RHI CAMP', 'LOS-CA:FY15 MLK Day', 'BOS-MA: FY13 Womens Breakfast Donation', '80000-RHI09:ALUMTKT', 'DET-MI: FY16 Gala Night of Ask', '04 INT APM', '04 NYC PROG', '07 SEA SPP', '05 NYC SPPM', '06 BOS DIN:06 Individual', 'DET-MI FY12 Gala Sponsor', '04 SAN SAT', 'COL-OH: FY13 Gala:Freshmen Sponsorship', 'MIA-FL: FY15 Broward Giving', '08 RHI GRAD', 'Endowment', '09 LAX IGC:Founding Citizens', 'SAC-CA: FY17 Opening Day', 'NYC: FY12AlumBrd', '08 SAN IGC:ALUM/FRND CMPN', '04 CSC GEN', '07 DET APP:SPRINGCP', '80010-SEA08F:DNR', '04 NH PROG', '10 CHI EVT:Alumni Fundraiser', '06 CSC CAMP', '07 NYC IGC:Alumni Friends & Fam', 'NYC-NY: FY15 Investment Breakfast', '06 CLE PROG', 'COL-SC: FY17 Sustainable', '80000-RHI09:SILVERSPR', '10 WDC CAMP', '07 PHL CAMP', '07 SEA APP:FALL', '05 SEA YH', '80000-SEA09:BRONZESPSR', '06 BOS EVT', '04 RHI AMER', '80010-LRA10U', '06 BOS PROG', '07 CSC IGC', 'WDC-DC: FY15 Annual Appeal', '05 CSC DIN:500SPON', '07 NH TSP:Co-Team', '80010-NYC09U', '06 NYC SRVSP', 'NH: FY13 Gala:Table', 'PRV-RI: FY14 Gala:Tickets', 'ORL: FY13 Gala:ticket', '80000-SEA10:Platinum Sponsor', '07 SANJ APP:FALL', '06 LSA CMPSP', '06 RHI DIN:DON', '80010-SEA09F:RENTED', '06 BOS SRV', 'NYC: FY11 AssocBrd:Superbowl Raffle', 'COL-OH: FY13 Gala:Auction', '08ATL MTCH (NP)', 'HQ: International', 'DET-MI FY12 Gala Night of Ask', 'BOS-MA: FY17 Boston Marathon - Jesse Carmen', 'BOS-MA: FY15 Spring Appeal Monthly RLD (Recent Lapsed) Email 2', '08 SEA AFT', '06 WDC DIN:06 Silver', '01 RHI APP', '08 SANJ CAMP', '80000-MKE12:Tickets', '08 RHI IGC:08 FRNDC', 'BOS-MA: FY17 Winter Appeal Parents Letter 1', 'COL-SC: FY14 Gala:Night of Ask', '07 SEA DIN', 'DET-MI FY12 Gala Donation', '08 LAX IGC:ALUM/FRND CMPN', 'NYC-NY: FY14 Gala', '08 LAX TSP:Full Team', '09 NH IGC', '05 BOS DIN:05 Individual', '08 NYC EVT', '08 NAT G:VFNS', '64000-PRGM', '80010-LRA11F', '80000-CSC10:80000-CSC10', '08 PHL TSP:Full Team', '05 CHI ERND', '80000-NYC08:08 Bronze', 'HQI-MA: FY15 Cause Marketing', '07 COL APP:FALLPD', '06 NAT NLS', '80000-NH12:Auction', '06 BOS YH:GEN', '08 NH IGC:ALUM/FRND CMPN', 'PRV-RI: FY16 Team Sponsorships', 'NYC-NY: FY14 Golf:Auction', 'PHL-PA: FY16 Team Sponsorships', '80000-CSC12:Sponsor', '10 BOS IGC', '08 SEA APP', '04 SAN AMER', 'EBR-LA: FY16 Program Support Solicitations', 'MAN-NH: FY16 Program Support Solicitation', \"SAN-TX: FY18 Women's Luncheon\", '08 BOS AFT', 'BOS-MA:DV:EX:FY16:160506 Spring Appeal Email 1 Current Donor Letter and Email', '10 CLE DIN (2009)', 'MAN-NH: FY17 March Madness', '80040: Individual Giving Circles', 'BOS-MA: FY16 Team Sponsorships', '09 COL TSP:Full Team', 'COL-SC: FY13 Giants', '06 COL TSP:Full Team', '80000-NH10:Online Auction', '05 COL DIN:05 Donations', '06 BOS DIN:06 Silver', 'BOS-MA: FY15 EOY/Winter Appeal Lapsed Donors Letter 2', '05 BOS DIN:05 Donations', \"NYC-NY: FY14 Women's Leadership Workshop\", '05 CHI APP:SPRINGCP', '80040:Leadership Circle', '04 SANJ AMER', 'Wine Tasting:Donation', '08 WDC APP:FALL', '80000-NH11:80000-NH11', 'HQ: FY10 PEVC', 'NYC-NY: FY17 Yoga Fundraiser', 'BOS-MA: FY17 Staff Giving', '80000-NH08:09 AUC', 'SNJ-CA: FY17 Sustainable', 'NYC-NY: FY17 Alumni & Friends Fundraiser', '80010-WDC09F:DNR', '06 COL PROG', '05 NYC EVT', '80010-RHI09F:ALUM PRNTS', '05 CSC ERND', '04 NH PROG:Training Sponsorship', '80000-NH12:Donation', '07 SAN DIN', 'DAL-TX: FY16 Program Sponsorships', 'WSWC', '05 INT CDFS', '07 COL DIN', '06 CSC CARE', '05 CLE DIN:05 Individual', '04 COL AFT', 'CHI-IL: FY17 Sustainable', '08 SAN YH:YHAA', 'JAX-FL: FY15 Capacity Solicitations', 'WDC: FY13 Receptions:Folger Reception', '08 NYC IGC', '08 LSA SPS', '07 DET TSP:Full Team', '04 PHL PROG:RADIO', 'BOS-MA: FY13 Womens Breakfast', '80000-DET08:.25 Page', '06 SEA DIN:06 Presenting', '80010-CHI09S:DNR', 'LOS-CA: FY16 Associates Board Giving', '80000-PHL08:08 Donation', 'Special Programs:Reading Success', '80010-RHI11F', '07 CHI EVT:ABWT', '07 LRA OPEN', '80000-RHI09:DONATION', '06 RHI ERND', '06 COL DIN:IND', '09 DET G', 'SEA: FY13 Gala:Centerpiece', 'KLANE', '80000-SEA10:Table Sponsor', 'FRIEND', '05 NAT EVT:Summer Academy', 'NHRIPPLES:NHRIPPLES', '04 SAN GEN', '05 NYC AFT', 'COL-SC: FY15 Gala Night of Ask', 'PRV-RI: FY16 Sustainable Personalized Ask', '05 NAT DIN (2004)', '08 SEA APP:SPRINGPD', '05 CSC CMPSP', 'ORL: FY13 Gala:Donations', 'EBR-LA: FY17 Buzzed Spelling Bee', 'MWK-WI: FY17 Gala', 'BOS-MA: FY15 Gala', '04 NAT VFA', '06 CHI IGC:ABD', 'SNJ-CA: FY18 Red Jacket Society', '07 SEA CMPSP', '05 SEA TSP', 'EBR-LA: FY14 Gala:Night of Ask', '06 CHI APPNI:SPRINGD', '06 PHL YH', '06 BOS IGC', 'CHI-IL: FY13 Wine Stein', 'BTR: FY12 Gala:Night of Ask', 'NYC: FY13 Asso Board:Super Bowl Ticket Fu', 'LTR-AR: FY16 Gala', 'JAX-FL: FY15 Staff Giving', \"04 Int'l\", '08 SANJ SFC', 'NSD: MKE', '08 COL CH', '10 RHI IGC:ALUM/FRND CMPN', 'WDC: FY13 Receptions:Jit Singh Reception', '04 RHI TSP', 'JAX-FL: FY16 Team Sponsorships', 'SERVPART', '05 BOS MAJ', '07 WDC DIN', '80010-NYC12BTS', '06 PHL APP:SPRINGA', 'DET-MI: FY16 Team Sponsorship', '05 CSC SRV', 'SERVICE:GENSRV', '09 CHI DIN (2008)', '08 NH OPEN', '80000-SANJ08:08 Gold', 'PRV-RI: FY15 Annual Appeal - New Donors', '80040:Founding Citizens', 'MAN-NH: FY17 Gala', '80000-SAN09:80000-SAN09', '07 COL ERND', 'NSD:MEM', '80000-CHI11:Night of Ask', 'EBR-LA: Major Gift Ask', 'SEA-WA: FY16 Gala Night of Ask', 'DET-MI: FY14 Fountain', 'PHL-PA: FY16 Alumni Campaign', '08 DET APP:FALL', 'ORL-FL: FY14 Board', 'HQI-MA: FY17 Cause Marketing', 'SAC-CA: FY15 Gala', '05 JBG TRSP', '08 LSA APP', '07 BOS DIN:07 Presenting', '04 SANJ YH', '80010-NYC10F:CORPS PRNTS', '06 BOS PROG:YEARFEE', '80000-SEA10:Auction', '80010-LRA10F:DNR', 'MAN-NH: FY16 Alum TSP', '80010-BOS10S', 'Voices Grants FY17', '06 NYC DIN:06 Donations', 'LSA: FY11 AssocBrd', 'NYC: FY13 Gala:Table', '06 SANJ SPS', 'PRV-RI: FY14 Gala', '80000-DET09:INDTKT', 'WDC: FY13 Legal Brk', 'PHL-PA: FY17 ING Appeals - December', '04 BOS EVT:Golf Tournament', 'PHL-PA: FY15 Gala', 'BOS-MA: FY15 Legal Bfast', '04 RHI EVT', 'WDC-DC: FY17 DoMore24', '08 NH APP:SPRINGD', 'HQ: FY11 Women', 'SAT', '07 SAN APP:FALL', '06 CSC TSP:Full Team', 'MIA-FL: FY15 Sustainable Personalized Ask', '05 COL OPEN', 'PHL-PA: FY17 CE Teva Service Day', '06 PHL APP:SPRINGD', 'BOS-MA: FY13 EOY', 'LTR-AR: FY15 Gala Sustainable/Sponsorships', '08 DET APP:FALLPD', 'NYC-NY: FY17 Program Support Solicitations', '09 LSA TSP:Co-Team', '07 NAT IGC:LAAFFF', 'PHL-PA: FY15 Capacity Solicitations', '06 BOS G', '10 COL IGC:ALUM/FRND CMPN', '05 BOS APP:05-FAOS-BOS', '07 WDC TSP:Full Team', '05 NYC SRV', 'COL-OH: FY15 Team Sponsorships', '07 SEA SRV', 'WDC-DC: FY17 Program Support Solicitations', 'CHI-IL: FY15 Service Days', 'DET: FY13 EOY:Renewal', '05 PHL TSP', '06 CLE APP:FALLOS', 'LTR-AR: FY16 Program Support Solicitations', 'SAN-TX: FY15 Gala: Tickets', 'MWK-WI: FY17 Team Sponsorships', 'READSUCC', 'LTR-AR: FY17 Sustainable', '04 RHI DIN:SUP', 'NOLA: FY13 GALA', 'CHI: FY12 Annual Dinner', '08 DET CMPSP', '80000-PHL12:Advertisement Space', '09 DET TSP:Full Team', '04 COL CAMP', '08 NAT IGC', '80000-PHL12:Tickets', '06 BOS APP', '08 NAT IGC:ALUMFAM', '80010-DET10F:DNR', 'COL-OH: FY15 Big Give', '80000-WDC10:80000-WDC10', '06 SANJ DIN:06 Bronze', 'SNJ-CA: FY14 PEVC Event', '05 SAN CAP', '07 DET IGC:NSM', 'FY09 SPECLPRGM', 'BOS-MA: 25th Ann.', 'MAN-NH: FY15: P2P.Alumni Holiday', 'COL-SC: FY16 Gala', '08 PHL SFC', '07 JBG IGC', '80010-LSA09F:DNR', '08 NYC PROG', '06 NAT EVT:VFNS', 'MAN-NH: FY16 Sustainable Donor', '05 BOS EVT:SW4', '07 DET PROG', '07 PHL ERND', '08 COL IGC', '05 DET GEN:FIB email', 'SEA-WA: FY17 Matching Gifts', '04 CLE GEN', 'CHI-IL: FY17 Connecting Sectors', '04 COL DIN', 'LAX: FY13 Wine Taste:Sponsor', '80000-SANJ08:80000-SANJ08', 'DET-MI: FY17 Night of Ask', 'EBR-LA: FY13 Gala Donation', '80010-WDC09S:DNR', '80000-PHL12:Sponsor', '08 CLE CFC', 'BOS-MA: FY15 Spring Appeal Regular CD (Current Donor) Letter 2', 'PRV-RI: FY15 Team Sponsorships', '04 RHI SRV', '06 NYC TSP:Full Team', '06 CSC TSP:Co-Team', '13 NAT CAPAC', 'WDC-DC: FY17 Winstonn Tubbs Birthday', '07 NH SPS', '07 DET APP:SRPINGOS', '10 NH TSP:Co-Team', '04 NH EVT:Klane Dinner', 'MWK-WI: FY14 Community Breakfast', 'CLE-OH: FY17 Capacity Solicitations', '08 PHL YH:YHTSP', 'PRV-RI: FY17 Board Giving', '06 SAN DIN:06 Silver', 'JAX-FL: FY15 Team Sponsorships', 'PE & VCBrkfst', '08 NAT CAMP', 'WDC-DC: FY16 Winter Appeal', 'PHL-PA: FY14 Philly Mar', '80000-DET09:AUCTION', '07 CHI EVT', '10 WDC IGC:ALUM/FRND CMPN', 'WDC-DC: FY16 Alumni Soiree', 'TUL-OK: FY17 Giving Tuesday', 'ANNUAL:Alumni', 'MAN-NH:FY16 Reach the Beach', 'SEA-WA: FY13 Gala', 'EBR-LA: FY15 Capacity Solicitations', '08 SEA IGC:ALUM/FRND CMPN', '07 Radiothon', '06 CSC APP:FALLPD', '62000:City Year For Kids', '80000-NH11:Tkts & Tbles', 'LTR-AR: FY15 EOY Mailer', '06 INT CDF', '08 CSC IGC', '05 DET YH', '06 RHI G', '10 NYC G', '09 NAT CARE', 'CHI-IL: FY17 Gala - Individual', '05 JBG APP', '80000-PHL12:Night of Ask', 'ENDOW PAYOUT-09', '08 BOS TSP:Full Team', '06 SEA ERND', 'CHI: FY09 Alum Tri', '05 BOS EVT:SWSPEC', '80010-SAN10U', '05 SAN APP:SPRINGOS', '80000-DET09:NONPROFSPR', 'HQI-MA: 25th Anniversary Alumni--National Board', 'CLE-OH: FY16 Gala Night of Ask', 'MAN-NH: FY17 Corps Friendraiser', '07 PHL PROG', '08 LSA EVT:08 RACESPON', '06 BOS APP:FALLOS', '09 PHL IGC:ALUM/FRND CMPN', '04 NAT APS', '06 NAT APP:FALLD', '09 DET AFT', 'JAX-FL: FY17 Sustainable', '06 DET DIN:06 Bronze', '80010-SANJ10U', '06 COL APPNI:FALLD', '80000-DET08:08 Gold', 'PRV-RI: FY15 Staff Giving', '80000-LSA10:80000-LSA10', '09 COL CMPSP', '05 LRA PROG:Clinton Innovation A', '07 LSA PROG', 'MIA-FL: FY16 Sustainable Personalized Ask', '07 DET APPNI:FALLOS', '07 RHI DIN:ESPON', 'NYC-NY: FY17 Alumni & Friends Trivia Night', '10 CSC IGC', '08 RHI TSP:Full Team', '09 PHL IGC:ALUM/FRND FUND', '05 SEA PROG', '06 SAN CAMP', 'WDC-DC: FY16 Gala Night of Ask', 'MWK-WI: FY14 Service Days', '06 COL CAMP', 'SAC-CA: FY15 Gala Auction', 'TUL-OK: FY17 Team Sponsorships', 'PRV-RI: FY15 Sustainable Personalized Ask', '80010-LAX10F:DNR', '06 NAT CYZ:REG-AD', 'TSP FY10 UNKN', 'ORL-FL: FY17 Idealists for Education', 'JAX-FL: FY16 Ladies Loving Life', 'COL-OH: FY17 Gala - Red Jacket Ball', '80000-MIA11', '10 WDC TSP', 'SEA-WA: FY14 Gala:Auction', 'LOS-CA: FY13 Gala Donation', '62000:CAMPCY', '80010-LSA10U', '08 NYC TSP:Full Team', '80000-SANJ11:80000-SANJ11', 'CHI-IL: FY13 Deloitte Women', 'SAC-CA: FY17 Team Sponsorships', 'BOS-MA: FY15 Gala Night of Ask', 'DET-MI: FY13 Gala:Presenting Sponsor', '08 SAN CMPSP', '80000-SAN08:08 Presenting', '80000-MKE12', '06 BOS APP:FALLAP', '07 COL APP:FALLCP', 'DEN-CO: FY17 Program Support Solicitations', '80010-PHL11F:DNR', '80010-SEA11F', '07 COL SRV', '05 NAT GEN:STAFIB', '08 WDC SPP', '08 CSC YH:YHFEE', '06 BOS IGC:SAT', '06 CLE DIN', '06 SANJ G', '07 BOS APP:FALLOS', '05 DET TSP', 'MAN-NH: FY16 Red Jacket Society', '07 NYC SRV', 'COL-SC: FY13 Board', '05 BOS ANPM', 'BOS: FY11 PEVC', '04 SEA SPPM', '80010-HQ09F:ALUM PRNTS', 'ORL-FL: FY16 Cocktails for a Cause', 'BOS-MA: FY14 Investment Breakfast', 'NYC-NY: FY15 Associate Board', 'PHL-PA: FY17 CYBee', '07 WDC IGC', 'CLE-OH: FY17 Alumni Event', '08 LSA GOV', '06 RHI YH', 'BOS-MA: FY17 Gala', 'MIA-FL: FY17 Program Sponsorships', '80000-PHL12:80000-PHL12', '07 NYC DIN:07 Individual', '08 NYC CFC', '05 JBG FTSP', '08 LRA YH:YHOTHER', '06 SANJ SFC', 'RHI: FY14 PBN Article', 'CHI-IL: FY15 Gala Night of Ask', 'CLE-OH: FY18 Multi-Event Sponsorship', '06 CHI YH', '80000-DET10:Corporate Sponsor', '04 SANJ SAT', 'HQI-MA: FY14 Microsoft Youth Spark Challenge', '08 PHL APP:FALLPD', '07 COL APPNI', '07 BOS YH', '09 BLD', 'SAN: FY12 GALA:Tickets', 'BOS-MA: FY15 Spring Appeal Regular LD (Lapsed) Email 3', 'DET-MI: FY13 FB Tickets', '80010-NYC09F:ALUM', '07 CHI APP:FALL', '80000-COL12:Night of Ask', 'CLE-OH: FY16 Strong Circle', 'WDC-DC: FY17 RJS Solicitations', '08 BOS EVT', 'BOS-MA: FY17 Investment Bfast Monthly Giving', '80010-PHL09F:DNR', '08 RHI APP', '06 COL APP:OTH', '08 LSA ERND', '06 INT NSD:US', '07 DET APP:SPRINGPD', 'MIA-FL: FY17 Individual Asks', '80000-CLE08:08 Gold', 'BOS-MA: FY14 Fam Winter', 'NOL-LA: FY15 Gala Sustainable/Sponsorships', 'NYC: FY13 Asso Board:Raffle Tickets', '80010-NYC09S:DNR', 'MWK-WI: FY17 Tailgate', 'BOS-MA: FY17 Program Support Solicitations', '10 CLE IGC:ALUM/FRND CMPN', '07 NYC EVT:100 HOP', 'BOS-MA: FY16 EOY/Winter Appeal Current Donors Postcard', '05 CHI APP:SPRINGOS', '05 CSC MAJ', '07 LRA DIN:07 AUCT', '10 SEA YH', '07 NYC SFC', 'WDC-DC: FY12 Gala Donation', 'WDC-DC: FY18 Franco Farewell', '80010-CHI09S:ALUM PRNTS', '80010-NH09S:RENTED', '80000-CSC08:08 Individual', 'PRV-RI: FY15 Gala', '05 RHI AFT', '05 BOS APP:05-SAPD', '80010-COL09F:DNR', '05 NH TSP', '02 RHI APP', '05 CSC CAMP', 'NOL-LA: FY15 Program Support Solicitations', 'SNJ-CA: FY17 WSWC', '05 DET APP:SPRINGOS', 'EBR-LA: FY14 EOY', 'CLE: FY13 Gala:Night of Ask', 'BOS-MA: FY17 Fall Appeal Email 1 Lapsed', 'PHL-PA: FY17 Program Sponsorships', 'CHI-IL: FY14 OpenDay:Donation', 'Building Campaign:ALUM/FRND CMPN', '80000-LAX11:80000-LAX11', 'NOL-LA: FY15 Service Days', \"SAN-TX: FY16 Women's Luncheon\", 'CHI-IL: FY16 Associate Board SME', 'ORL-FL: FY14 Gala:Night of Ask', 'Young Heroes', 'WDC: FY11 HIV.AIDS', 'NYC-NY: FY16 Sustainable Personalized Ask', '07 RHI TSP:Co-Team', '09 CSC G', 'BOS-MA: FY15 Spring Appeal Regular CD (Current Donor) Email 2', '80000-LRA08:08 Presenting', '80010-WDC10S:ALUM PRNTS', '08 BOS CFC', '06 BOS DIN:06 Platinum', 'MIA: FY13 DTD:Sponsorship', '10 NAT G', 'BOS-MA:DV:EX:FY16:160518 Spring Appeal Email 3 Current Donor Letter & Email', 'MIA:FY13 Run w Fins', '08 LSA TSP:Co-Team', 'BOS-MA: FY15 EOY/Winter Appeal Recently Lapsed Donors Letter 1', 'ORL-FL: FY16 Idealist for Education Breakfast', '07 CHI SRV:100HOP', '80000-CLE08:80000-CLE08', '80000-SEA09:TABLESPSR', 'SAN: FY13 Gala:Donation', '06 SANJ APP:SPRINGPD', '05 PHL SRVSP', '07 DET APP:SPRINGD', '09 RHI PROG', '08 WDC CAMP', '80000-NYC12:Donation', '05 JBG TSP:Half Team', '80000-RHI12:Sponsor', '07 BOS DIN:07 Bronze', 'MAN-NH:FY16 March Madness', '07 LSA ERND', 'PHL-PA: FY14 Summer', '09 LAX IGC:ALUM/FRND CMPN', '08 LAX SRVSP', '05 NYC IGC:FAPP', '80000-LRA08:08 Gold', '80000-SEA10:Donation', 'SEA-WA: FY16 Sustainable Program Support', '07 COL TSP:Co-Team', 'LOS-CA:FY15 Associates Board Giving', 'CLE-OH: FY14 Board', '80010-LSA11Fa', '08 LSA YH', 'Care Force Service', 'LOS-CA: FY17 Associates Board Event', '80010-MIA10F:DNR', '80000-DET10:80000-DET10', '08 NAT G', 'BOS-MA: FY17 Legal Bfast Monthly Giving', '04 CSC AMER', 'BOS-MA: FY15 EOY/Winter Appeal Lapsed Donors Email 3', '80010-SANJ09S:RENTED', '06 ESEA', 'DAL-TX: FY17 RJS Giving', '13 PHL IGC:ALUM/FRND CMPN', 'PHL: FY13 Gala:Sponsorship', '80000-SANJ12:Tickets', 'CHI-IL: FY14 Wine Stein', '05 SAN GEN', 'DAL-TX: FY16 Cause Marketing', 'EBR-LA: FY13 XMass Card', 'FY08 SPECLPRGM', '04 PHL PROG', '08 PHL APP:FALLAP', 'BOS-MA: FY17 Ambassador Raffle', '80000-SANJ08:08 Plantinum', '08 RHI IGC:ALUM/FRND CMPN', 'LTR-AR: FY14 Gala Sustainable Sponsorships', '07 CHI APP:FALLPD', 'LTR-AR: FY14 Gala:Auction', '06 JBG G', '06 CLE DIN:06 Silver', '06 DET APP:SPRINGD', '08 LAX IGC', 'SNJ-CA: FY15 Gala', '08 INT APP', 'BOS-MA: FY13 Investment Breakfast', 'WDC-DC: FY14 Devel. Breakfast', 'DET: FY13 EOY:Major Lybunt', 'LDD', '07 NAT PROG', 'SNJ-CA: FY14 Gala', '05 BOS APP:05-SAOS', 'WDC: FY13 Alum Event', '80010-HQ10U', 'TUL-OK: FY17 Opening Day', 'WDC: FY12 Alum', '05 LRA APP', 'LOS-CA: FY14 Associate Board Wine Tasting-Auction', 'NYC-NY: FY14 Associate Board Fundraiser', 'MIA-FL: FY17 Alumni', '80010-RHI11F:DNR', 'After School Programs', '05 CHI GEN', '10 BOS CAMP', '07ATL MTCH (NP)', 'MAN-NH: FY15 Camps.Sponsorships', '05 SEA APP', 'ORL-FL: FY15 Program Support Solicitations', '08 PHL APP:FALL', '08 RHI CAMP', '07 SEA CAMP', '80010-SANJ09F:POTDNR', '07 COL EVT', 'BCM Play', '06 DET DIN', \"DEN-CO: FY15 Women's Initiative\", '09 CHI TSP:Full Team', '08 BOS DIN (2007):Individual Tickets (', '07 PHL YH', '06 COL DIN:PLAT', 'SAC-CA: FY15 Gala New/Tickets', \"BOS-MA: FY16 Women's Bfast\", '08 NH YH', '07 CHI OPEN', 'BOS-MA: FY16 Gala Night of Ask', '08 SAN ERND', '80000-DET09:VIPTKT', '06 BOS YH', '80010-NH09F:POTDNR', '08 RHI EVT', 'WDC-DC: FY16 Service Days', '07 SEA G', '07 NAT DIN:07 Bronze', '80010-SEA09F:CORPS PRNTS', 'NH: FY13 Bike Race:Donations', '07 RHI DIN:HSPON', '07 SEA OPEN', '07 SAN PROG', 'NYC-NY: FY16 Associate Board Cycling Fundraiser', '08 CHI APP', '80000-LAX12:80000-LAX12', 'MIA-FL: FY15 Capacity Program Support Solicitations', \"MIA-FL.FY14 Women's Leadership Luncheon\", 'DET: FY13 EOY:Major Renewal', 'BOS-MA: FY15 Spring Appeal Monthly RLD (Recent Lapsed) Letter', '06 CHI APP:FALLPD', '80000-SAN08:08 AUCT', '09GBL LDRSHPSPR', '05 NYC CAP', '04 DET TSP', '06 SEA DIN', 'SAN-TX: FY15 Gala', '09 LSA G', 'MAN-NH: FY17 NH Gives Day', '06 SAN TSP:Full Team', 'CHI-IL: FY14 Microsoft Youth Spark Challenge', 'CLE-OH: FY15 Sustainable Personalized Ask', '05 CLE APP:SPRINGOS', 'WDC-DC: FY16 Spring Break - Stanton', '07 CSC G', '05 CHI DIN:05 Silver', '80000-CSC09:80000-CSC09', 'WDC-DC: FY13 Camp CY', '05 LRA GRAD', '70000:SAT09', '50000-11FULL', 'WSWC:Donation', '04 CLE PROG:Clinton Innovation A', '80040:ABD', '06 COL APP:SPRINGPD', '04 SAN OPEN', '07 WDC OPEN', '06 COL DIN:AUCT', '05 CHI APP:FALL', '05 INT MAJ', 'CHI-IL: FY16 Team Sponsorships', '80000-CHI 09 (2008)', '06 PHL OPEN', '05 DET ENDW', '08 BOS G', 'SNJ-CA: FY15 Service Days', 'WDC-DC: FY16 Spring Break - Staff', 'WDC-DC: FY17 Giving Tuesday', 'BOS-MA: FY16 Sustainable Personalized Ask', '08 LRA IGC:ALUM/FRND CMPN', 'CHI-IL: FY16 Gala', '10 NH PROG', '04 BOS CMP:SPON', '04 SEA TSP', '08 DET APPNI:SPRINGPD', '06 CLE DIN:06 Platinum', '08 COL APPNI:SPRINGD', 'CLE-OH: FY16 Gala', 'Corps Fundrais', 'ORL-FL: FY17 Team Sponsorships', '06 CSC APPNI', '80000-MIA12:Auction', 'FY13 Team Sponsors HALF', '08 CLE APP:SPRINGD', 'HQI-MA: 25th Anniversary Alumni', '07 NAT APM', 'CHI: FY12 Annual Dinner--Donation', '08 LRA APP:SPRINGAP', '07 WDC APP:FALLAP', '06 PHL CH', 'CLE-OH: FY17 Program Sponsorships', '06 NAT CYZ:FC', '08 NAT NSD:MIA', 'NYC-NY: FY16 Bain Cares', 'CHI-IL: FY17 Foundations - New', '80010-Acq FY11Fall:B1', '10 LAX PROG', '80000-RHI08:08 Presenting', 'DAL-TX: FY17 Program Sponsorships', '06 SANJ DIN', 'ORL-FL: FY16 Team Sponsorships', 'BOS-MA: FY15 Spring Appeal Regular RLD (Recent Lapsed) Email 2', '08 WDC CMPSP', '05 NYC DIN:05 Individual', 'MAN-NH: FY14 Spring Young Professional FriendRaiser', '80000-RHI 09 (2008)', '06 NAT EVT', '80010-NYC11BTS', 'JAX-FL: FY16 Sustainable Personalized Ask', '04 SEA GEN', '80000-COL08:08 Alum', '07 WDC APP:FALLA', 'NYC-NY: FY17 Winter Appeal', '12 BOS IGC', '05 DET CAMP', '80010-BOS10F:POTDNR', '80010-NYC10F:DNR', '04 NAT PROG', '10 LSA TSP:Co-Team', 'WDC-DC: FY16 MLK Day', 'SAC-CA: FY15 Gala Night of Ask', 'NYCFY11FallAnnAppeal', \"BOS-MA: FY15 Women's Bfast\", 'MAN-NH: FY16 Camps', 'DET-MI: FY14 Women', '08 DET ENDW', '80010-HQ11U', '05 PHL PROG:Clinton Innovation A', 'CHI-IL: FY15 EOCY Appeal', '08 PHL SPS', '08 NYC APP:FALLAP', 'Service Day Fee', '80000-DET10:Auction Gift', 'FY10 OTHER INCOME', '06 SEA TSP:Co-Team', '80010-DET11S:ALUM', '05 INT IGC', '06 JBG TSP:Co-Team', '08 NYC IGC:ALUM/FRND FUND', '80000-NH11:Auction', '10ATL MTCH (NP)', 'DEN: FY13 Gala:Donation', '06 RHI GOV', 'Wine Tasting', '06 SAN G', '07 CHI APPNI:FALLPD', 'SANJ: FY13 Gala:Night of Ask', '06 NYC APP:FALLA', '08 CHI SPPM', 'WDC-DC: FY16 Spring Break - Patterson', '15 Team Sponsorship', 'PRV-RI: FY16 Gala', '04 BOS CARE', 'LOS-CA: FY15 Gala Sustainable/Sponsorships', 'WDC: FY11 AlumBrd', '04 INT CYSA', '80010-PHL09F:RENTED', '06 WDC CAMP', '07 SEA EVT', '06 NH SRVSP', 'MIA: FY13 After Part:Night of Ask', 'NOL-LA: FY14 Gala Sustainable Sponsorships', \"NYC-NY: FY13 Women's Board\", 'SAN-TX: FY16 CYSA Alumni Campaign', 'COL-OH: FY13 Gala:Sponsorship', 'CHI-IL: FY17 Individual Annual Fund', '03NB SSN:FF B', '04 NH GEN', 'MAN-NH: FY14 Winter', '08 COL CMPSP', '08 CHI APP:SPRINGAP', '80000-DET09:4TKTS', '04 NYC GEN', '80000-BOS 09 (2008)', '06 INT PROG:SACTFR', 'MIA-FL: FY16 Service Days', '04 BOS TSP', 'PHL-PA: FY16 Summer Appeal', 'NOL-LA: FY16 Team Sponsorships', 'WDC-DC: FY16 Spring Break - Amidon', '80010-DET09S:DNR', 'CLNTDEM', '04 SAN SRV', '05 SAN ERND', 'EBR-LA: FY13 Gala Night of Ask', 'NYC-NY: FY17 Capacity Solicitations', '80000-LRA12:Auction', '09 RHI IGC:ALUM/FRND CMPN', '80010-LSA09S:POTDNR', 'BOS-MA: FY15 Strong Circle Day', 'BOS-MA: FY16 Service Days', '08 CHI APPNI:FALLPD', 'SEA-WA: FY17 Alumni Giving Challenge', '10 LAX G', 'LRA: FY13 Gala:Auction', '08 COL SRV:SAT', '80000-DET09:GOLDSPR', '07 COL AFT', '05 SANJ GRAD', '06 DET APP:FALLOS', 'CHI-IL: FY14 Stand-Up for Education Benefit', 'WDC-DC: FY17 DC United', '06 NAT APP:FALLA', '07 NH ERND', 'HQ: FY11 PEVC', '06 COL APP:STA', 'HQ: FY13 MS Challeng:HQ', '80000-LRA08:08 Silver', 'DET-MI: FY13 Gala:Night of Ask', 'LTR-AR: FY16 Program Sponsorships', '08 SANJ WSWC', '80000-MKE12:Night of Ask', '04 COL TSP', '06 RHI SPPM', '06 CLE APP', '06 CLE AFT', '05 SEA DIN:05 Bronze', '06 BOS YH:HS', '06 CSC APP', 'DEN-CO: FY15 Colfax Marathon', '80010-CHI09F:RENTED', 'SEA-WA: FY17 Personalized Ask', 'BOS-MA.FY14 Ambassadors Spring', '05 NH DIN:05 General Donations', '05 CHI DIN:05 Individual', '07 CLE APP:FALL', '80000-NH09:80000-NH09', '10 DET TSP', '08 LSA EVT:08 RACEREG', '06 CHI APP', '04 CLE PROG', '04 SEA APP', 'PRV-RI: FY14 Gala Sustainable Sponsorships', 'MAN-NH: FY15 Red Jacket Society', '05 RHI PROG:Clinton Innovation A', '07 LRA GRAD', 'BOS-MA: FY17 Service Days', 'JAX-FL:FY16 Alumni', '04 BOS AFTR', 'CLE-OH: FY16 Team Sponsorships', 'PHL: FY13 Gala:tickets', '14 Team Sponsorship-FULL', '80000-LRA12:Donation', \"BOS-MA: FY18 Women's Event - Breakfast\", '80000-PHL09:JRNLSPRSHP', '05 COL CMPSP', '08 DET OPEN', 'PHL-PA: FY15 Service Days', '09 CLE APP:FALL', '07 NYC EVT:Chipotle Event', '10 SANJ TSP', '08 NH APP', 'EBR-LA: FY14 Alumni Campaign', '07 BOS APP:SPRINGA', 'EBR-LA: FY18 Red Jacket Society', '06 WDC DIN:06 Platinum', 'CHI-IL: FY17 Foundations - Renewed', '80010-BOS11F:DNR', '07 RHI DIN', '08 LRA EVT', 'LTR-AR: FY14 Gala:Donations', 'JAX-FL: FY17 Gala Individual', 'WSWC:Radiothon', 'SAN-TX: FY17 Gala', '07 NYC DIN:07 Donations', '02 RHI IGC', '07 CLE OPEN', 'PHL: FY13 Gala:Executive Vice Chair', 'PHL-PA: FY14 EOY', 'DET-MI: FY14 MEX', '08 BOS APPNI:FALL', '05 BOS GEN:SAT DON', '08 RHI OPEN', '07 CSC AFT', '80010-CSC12F', 'LOS-CA: FY16 Other Events', 'BOS-MA: FY15 EOY/Winter Appeal Lapsed Donors Email 1', 'BOS-MA: FY17 Ambassadors Spring Event', 'HQI-MA: FY15 Sustainable Personalized Ask', 'ORL-FL: FY16 Gala/Annual Event', 'Diplomas Now/I3', 'Young Heroes Sponsor:YHAA', 'SNJ-CA: FY15 Sustainable Personalized Ask', '07 BOS IGC:ALUM & FRIENDS', 'HQI-MA: TSP', '06 SANJ AFT', 'NYC-NY: FY13 Bain Cares Auction', '08 DET IGC:NSM', '07 NH TSP:Full Team', 'DEN-CO: FY16 Gala', 'BOS-MA: FY15 Fall Appeal Current Donors', '08 CHI ERND:08 ABD', '05 WDC GEN', '80000-COL11', '06 BOS TSP:Co-Team', 'WDC-DC: FY15 MLK Day', '06 NH PROG', '07 SAN IGC', '04 CHI GEN', '80010-NYC12BTS:parent giving', 'COL-OH: FY15 Sustainable Personalized Ask', '08 LAX IGC:Founding Citizens', \"SNJ-CA: FY14 Women's Event\", '80000-PHL09:EXECVCHR', 'BTR: FY12 Gala:Sponsor', '07 WDC APP:FALLCP', '07 LRA YH', \"SAN-TX: FY15 Power of Women's Luncheon\", 'MIA-FL: FY15 Red Jacket Society Members', '62000:SPRCAMP', 'JAX-FL: FY16 Gala', '05 RHI DIN:05 Bronze', 'BOS-MA: FY16 Fall Appeal Current Donors Email 1', 'DET-MI: FY15 EOY Appeal', '08 LSA EVT', '04 SANJ PROG:Clinton Innovation A', 'NATYOUTH', 'CLE-OH: FY17 Multi Event Sponsorship', '07 PHL AFT', 'RHI: FY13 Gala:Donations', '05 BOS EVT:SWGEN', 'PRV-RI: FY13 Lavine Dinner', '07 NYC APP:FALL', '80000-CHI10', 'WDC-DC: FY14 Zipcar', '09 DET IGC:BAILER WEDDING GIFTS', '05 COL PROG', '06 NYC G', '05 COL PROG:READ', 'SEA-WA: FY16 Sustainable Personalized Ask', '08 LSA APP:FALLPD', 'ORL-FL: FY15 Board', '05 PHL APP:SPRING', '07 NH APPNI', '08 DET CFC', '06 NYC DIN:06 Gold', 'PHL-PA: FY17 ING Appeals - September', '08 WDC TSP:Full Team', 'NYC: FY13 Asso Board:Registration', '10 PHL PROG', '09 NYC G', 'LTR-AR: FY15 Gala', 'CHI-IL: FY16 Fee for Service Events', '04 NAT ANPM', 'NOL-LA: FY17 Gala - School House Rock Sponsorships', '06 SAN AFT', '05 COL DIN:05 Auction', '80000-NYC12:Sponsor', '1400-NHLED12', '06 DET APP:FALLD', '07 CSC YH', '10 SANJ IGC:ALUM/FRND CMPN', '06 JBG CYZ', 'BOS-MA: FY17 Red Jacket Society Reception and Dedication Ceremony', 'NOL-LA: FY16 Gala', '07 NAT NSD:LA', 'PRV-RI: FY17 Gala Sponsorship Mailing', '08 LSA CARE', '06 NAT CYZ:AC', '07 LSA APPNI', 'DET-MI: FY17 Team Sponsorships', '10 BLD', '05 LRA SRVSP', 'BOS-MA: FY17 Spring Appeal Current Donor Email 1', '08 COL SRVSP:SAT', 'MIA-FL: FY16 Broward Giving', 'BOS-MA: FY17 Team Sponsorships', 'NYC-NY: FY15 Bain Cares Donations', '09 NYC DIN (2008):Individual Tickets', '25th Anniversary Gala Invite Mail', '05 BOS DIN:05 Silver', 'JAX-FL: FY17 Giving Tuesday', '80010-DET10S:RENTED', '08 LSA IGC', '06 COL DIN:BRO', '80000-SEA10:Bronze Sponsorship', '80010-LSA10F:POTDNR', '05 CHI EVT', '06 BOS CAMP', '05 WDC DIN:05 Bronze', 'RADIO_03', '08 LAX PROG', '80000-NYC08:Platinum', '08 NYC APP:FALLOSUW', 'International Progra', 'LEADERCIRC:OCT4', '09 CLE SPS', '06 NAT APP:SPRINGD', '05 WDC CARE', 'DET-MI: FY15 Gala Night of Ask', 'PRV-RI: FY17 Annual Appeal', '80000-SEA08:08 Table', '80010-DET10S:DNR', '07 CSC OPEN', '05 PHL YH', 'WDC-DC: FY16 Spring Break - Anacostia', '80010-CHI10S:DNR', '07 CHI TSP:Co-Team', '80000-NYC12:RSVP Card', '06 JBG GRAD', '06 SEA DIN:06 Donations', '04 NYC IGC:FOUND', 'WDC: FY13 EOY', 'SAN: FY10 Gala', '07 DET SRVSP:100HOP', '07 SEA APP:SPRINGD', '06 SEA IGC', 'WDC-DC: FY17 Gala', 'Building Campaign', '07 COL OPEN', 'SNJ-CA: FY17 Women Investing in Education', '80000-NH10:Donor', 'TUL-OK: FY17 Site Board Ask', 'NYC-NY: FY15 25th Anniversary Cocktail Events', '08 BLD', '80000-DET10:Bronze Sponsor', '80010-NYC09F:DNR', '06 DET PROG:KAT', '05 SANJ DIN:05 Donations', '06 PHL IGC', '04 CSC SERV', '80040:Associate Board Fund', 'SEA-WA: FY16 Gala', 'DET-MI: FY16 EOY Winter Appeal', '05 CHI DIN', '04 COL CARE', 'NOLA: FY13 Gala:sponsor', 'CLE-OH: FY14 United Way Designations', '02 RHI PROG', '06 NH APP:FALLD', 'JAX-FL: FY15 Program Support Solicitations', 'SAN: FY13 Gala:Night of Ask', 'EBR-LA: FY16 Team Sponsorships', '06 NAT DIN:ALUM', 'NH: FY13 Bike Race:Jersey', '06 BOS SPPM', '07 CHI APP:SPRINGPD', '08 NAT CMPSP', '04 NAT EVT', '06 CLE SPS', '06 SANJ CMPSP', 'New Site Development', 'NOL-LA: FY14 Gala:Night of Ask', 'HQI-MA: FY14 South Africa', '07 BOS APPNI:SPRINGD', 'CHI: FY12 Women', 'SEA: FY13 Gala:Donation', '08 NH APP:FALL', 'ORL-FL: FY15 Gala Sustainable/Sponsorships', '06 SANJ YH', '08 COL AFT', '08 CSC TSP:Co-Team', '08 DET DIN (2007):Individual Tickets (', '05 CHI DIN:05 Bronze', '06 RHI DIN:06 Presenting', '09 RHI G', 'BOS-MA: FY15 EOY/Winter Appeal Recently Lapsed Donors Email 2', '06 SAN DIN:06 Individual', 'PHL-PA: FY15 End of Year', '80040:Ambassador Program', 'JAX-FL:FY16 Board Giving', 'SAN-TX: FY14 Gala', '05 BOS ERND', 'CHI-IL: FY15 Opening Day', 'PHL-PA: FY17 Marathon', '80000-SEA08:ALUM', '06 SANJ DIN:06 Silver', 'ORL-FL: FY17 Board Annual Giving', '80000-DET08:.5 Page', 'LOS-CA: Major Gift Ask', '06 CHI OPEN', '06 SEA PROG', '07 LSA TSP', 'LOS-CA: FY16 Team Sponsorships', 'NYC-NY: FY15 Program Support Solicitations', 'BOS-MA: FY17 Boston Marathon - Kristina Craaybeek', 'CLE-OH: FY15 Annual appeal', '07 CHI CAMP', '80000-RHI09:TABLE', '12 Team Sponsor-FULL', '09 SEA IGC:ALUM/FRND CMPN', 'NYC-NY: FY16 Program Support Solicitations', 'MIA-FL: FY14 Gala Paint the Town Red', '07 DET KTCG', '04 CLE SPPM', 'BOS-MA: FY17 Fall Appeal Email 2 Lapsed', 'PHL-PA: FY16 RJS Members', 'JAX-FL:FY16 Staff Giving', '06 PHL APP:SPRINGAP', '80000-PHL08:08 Vice Chair', '08 PHL APPNI', '07 PHL DIN', '07 WDC PROG', 'BOS-MA: ISOT Challenge', '05 CHI DIN:05 Donations', '05 LRA GOV', '06 DET DIN (2005):Silver', 'PRV-RI: FY14 Alumni', '05 CLE CMPSP', '10 BOS IGC:ALUM/FRND CMPN', '07 LRA G', '80070:super ticket', 'SAC-CA: FY15 Service Days', '04 RHI DIN:SPON', 'City Day:SPON', 'LRA: FY13 Gala:Ticket', \"JAX-FL:FY16 Women's Lunch\", 'National Leadership Sponsor (NLS)', 'CHI-IL: FY16 Graduation', '06 SEA APP:FALLD', '08 CHI EVT:Associate Board Band', '05 NAT DIN:05 Individual', '80010-BOS08U', 'SANJ: FY13 Gala:Donations', '10 MIA WSWC', '05 SEA DIN:05 Individual', '04 PHL TSP', 'WDC-DC: FY17 Sustainable', 'LRA: FY13 Gala', '05 NYC CAMP', '07 BOS IGC:Planned Giving', 'MWK-WI: FY14 Gala:Donations', 'JAX-FL: FY16 MLK Day', 'LTR-AR: FY14 Specialty Market Event', '06 CHI DIN:DON', '05 CHI APP:SPRINGD', 'SEA-WA: FY15 Gala Night of Ask', '09 DET ERND', '04 NYC PROG:Clinton Innovation A', 'WDC-DC: FY15 Service Days', '07 CLE AFT', 'CHI-IL: FY16 Annual Fund Corporate', '06 NYC AFT', '09 LSA SPS', '61000-PRGM', '08 SAN IGC:ALUM/FRND FUND', '08 LSA APPNI', 'DEN-CO: FY14 Gala Red Jacket', 'CHI-IL: FY13 EOY', '08 CSC IGC:ALUM/FRND CMPN', '06 NH G', 'DEN-CO: FY15 Major Gifts', '80010-SAN09F:DNR', '08 SANJ APP:FALL', 'CLE-OH: FY15 Board gifts', 'PHL-PA: FY17 Red Jacket Reunion', 'NOL-LA: FY16 Gala New/Tickets', '06 SAN SRVSP', '05 INT CAP', '05 CSC APP', 'MWK-WI: FY18 Sustainable', '05 WDC TSP', 'LTR-AR: FY17 Specialty Event', '80040:corps fundraiser', '05 PHL APP:SPST', '80000-CSC12:Night of Ask', '05 SANJ YH', '07 NH DIN', '13 BLD', '07 RHI TSP:Full Team', '07 BOS AFT', 'COL-OH: FY13 Gala:Registration', '07 NAT EVT', 'BOS-MA: FY16 United Way Employee Giving', 'PHL-PA: FY17 EVENTS Gala Night of Ask', '04 RHI DIN (FY04):AUC', 'BOS-MA: FY15 EOY/Winter Appeal Recently Lapsed Donors Letter 2', '08 CLE PROG', 'STFSOL', '10 SEA PROG', 'MIA: FY12 Legal', 'NOL-LA: FY16 Red Jacket Society Members', '09 BOS TSP:Co-Team', 'WDC-DC: FY15 Gala New/Tickets', '05 WDC DIN:05 Platinum', '06 COL DIN:DON', '06 PHL PROG:CLINTON', 'PHL-PA: FY17 Sips', '07 COL APP:FALLOS', 'BOS-MA: FY13 Gala Night Ask', 'BOS-MA: FY13 Service Days', 'JAX-FL: FY17 Alumni Movie', '80000-BOS08:08 Gold', '08 BOS ENDW', 'ORL-FL: FY15 Gala', 'SAN-TX: FY15 Tee It Up Golf Tournament', '80010-NYC12S', 'BOS-MA:DV:EX:FY16:151202: Winter Appeal Parents Email 2', '80000-WDC08:08 Alum', '05 CLE SPPM', '06 INT IGC', 'BOS-MA: FY17 Boston Marathon - Rob Markey', '05 INT NSD', '80000-HQ08:08 Half', 'DET-MI: FY16 Program Support Solicitation', 'WDC-DC: FY17 Zipcar Promotion', '80000-CHI12:Tickets', '05 CHI SRVSP', 'MIA: FY13 After Part', 'PRV-RI: FY16 Womens Event', 'CLE-OH: FY17 Dreambuilders', '06 SEA DIN:06 Bronze', 'MAN-NH: FY17 MGP', '05 PHL APP', '80010-SANJ09U', 'DEN-CO: FY16 Service Days', 'ORL-FL: FY16 Sustainable', 'OTHEREVNTS', '05 PHL DIN (2004)', '05 PHL SPS', '08 PHL DIN (2007):Corporate Leadership', '05 RHI DIN:05 Silver', '07 NYC DIN', '05 PHL SRV:SAT', '06 COL APPNI', 'MAN-NH: FY15 MGP', 'MAN-NH: FY15 Team Supporters', 'WDC: FY13 Gala:silver sponsor', '07 CSC APPNI', '06 CLE YH', 'PHL-PA: FY16 CYBee', 'SEA-WA:FY15 Give Big Ask', '06 RHI DIN (2005):CF', '05 COL GEN:FIBDIN', '08 CHI APPNI:FALL', 'COL-OH: FY16 EOY Appeal', '08 CHI APP:SPRINGCP', '07 RHI APPNI', '06 NAT APP:FALLPD', '08 INT NSD', '05 NH DIN:05 Platinum', '06 SANJ APP', 'JAX-FL: FY16 Individual', 'JAX-FL: FY15 Sustainable Personalized Ask', '80010-CSC09F:DNR', '80010-NYC10U', 'PHL-PA: FY16 Program Support Solicitations', '80010-CLE09U', '08 PHL CFC', 'BOS-MA: FY17 Spring Appeal Lapsed Donor Letter', '07 CLE DIN (2006)', 'CHI-IL: FY16 Foundations - New', '08 BOS YH', '06 NAT DIN:06 Presenting', '07 DET DIN:AUC', '06 NYC APPNI:FALLD', '05 NAT DIN:05 Gold', 'CHI-IL: FY16 Foundations - Renewals', '06 RHI DIN:IND', '06 CLE DIN:06 IND Tickets', '07 NAT ERND', 'NYC-NY: FY14 Gala Sustainable Sponsorships', 'CHI-IL: FY14 WineStein:Donation', 'BOS: FY12 Legal', 'MAN-NH: FY15 Sustainable Personalized Ask', 'LOS-CA: FY15 Alumni Fundraiser', 'NOL-LA: FY14 Gala:Tickets', 'CHI-IL: FY13 Wine Stein Tickets', 'MIA-FL: FY17 Gala Night of Ask', '07 BOS TSP:Co-Team', 'NYC-NY: FY17 Sustainable', '04 RHI DIN:SIL', 'PHL: FY13 Marathon', '80000-DET09:DONATION', '80010-RHI09F:DNR', 'PHL-PA: FY17 OTHER Grants and Foundations', '08 WDC G', \"TUL-OK: FY17 Women's Event\", '07 BOS DIN:07 Individual', '08 CHI TSP:Full Team', '05 NAT DIN:05 Donations', '13 SANJ IGC:ALUM/FRND CMPN', 'TUL-OK: FY15 EOY New Anthropy', '07 WDC AFT', '08 COL YH', '06 DET APP', 'PHL-PA: FY17 EVENTS WLL Sponsorships', 'CHI-IL: FY13 Gala:Night of Ask', 'Capacity (one time/special Major Gift)', 'SAC-CA: FY14 Gala Sustainable Sponsorships', '80000-HQ08:08 Bronze', '80010-DET11U', '07 NAT YH', 'BOS-MA: FY15 HBS Auction', 'PHL-PA: FY16 Program Sponsorships', '50010', 'ORL-FL: FY14 Gala Sustainable Sponsorships', '03NB SSN:50K SP', 'Young Heroes Sponsor', '06 NAT PROG:Fireman Fellowship', '06 BLD', '05 BOS DIN:05 Gold', '10 SEA IGC', 'TSP FY10 FULL', '08 NAT CFC:Miami', '05 COL APP:SPRINGD', '08 NH TSP:Co', '5100-San12:5100-San12', 'WDC-DC: FY15: P2P.Camp City Year', 'SEA-WA: FY15 Gala Sustainable/Sponsorships', '06 SANJ APP:SPRINGAP', 'NYC: FY13 GOLF:Donation', '06 COL AFT', '05 SANJ SPPM', 'NOL-LA: FY17 Sustainable', 'DET-MI: FY14 Gala', '09 NH SPS', 'NYC: FY13 Asso Board:Donations', '06 NAT CYZ', 'LOS-CA: FY15 Capacity Solicitations', 'SANJ: FY12 PEVC', 'NSD:BAL', '80000-LRA08:08 AUCT', '80010-LRA09F:DNR', '07 CLE SPP', 'COL-SC: FY14 Lawyers', 'BOS-MA: FY15 Spring Appeal Regular CD (Current Donor) Email 3', '80000-BOS08:80000-BOS08', '06 COL APP:SPRD', 'PHL-PA: FY15 Women', '08 DET G', '09 LRA IGC:ALUM/FRND CMPN', '07 NYC G', 'ORL-FL: FY15 Sustainable Personalized Ask', '07 PHL SRVSP:SAT', '06 SEA DIN:06 Silver', 'SAC-CA: FY15 Direct Mail', '80000-RHI10:Donation', '06 WDC DIN:06 Individual', '06 COL APPNI:B', '04 RHI DIN:DON', '07 NAT CARE', '80000-RHI10:Table', 'MWK-WI: FY16 Sustainable Personalized Ask', 'EBR-LA: FY17 Capacity Solicitations', 'SEA-WA: FY15 Team Sponsorships', '07 RHI IGC:07 PTNRC', '10 BOS SRV', 'DEN-CO: FY15 Gala', 'NHANNUAL', '08 LRA APP:SPRINGD', '80010-CHI10F:POTDNR', 'LEADERCIRC:Woodsum', 'DET-MI: FY15 Team Sponsorships', '09 LAX TSP:Full Team', '08 CLE CAMP', 'DET-MI: FY15 Gala', '80000-LAX12:Sponsor', '80040:Parent Giving', '09 LRA G', 'JAX-FL: FY17 Board Giving', 'MIA: FY13 DTD:26 Seconds', '06 BOS AFT', 'ALUM&FRDSTRVIA', '04 SANJ PROG:BUST', 'LOS-CA: FY16 Sustainable', '80000-MKE12:Sponsor', '10 NYC IGC:ALUM/FRND CMPN', '04 NH CAMP', 'DEN: FY12 WOMEN BRK:Ask', 'LAX: FY13 Golf', 'MAN-NH: FY17 Reach the Beach', '08 CHI SRVSP', 'NSD:TUL', 'CLE-OH: FY16 Sustainable Personalized Ask', 'MAN-NH: FY15: P2P.March Madness - CYNH Alumni Sponsored Team', 'CHI-IL: FY15 Alumni Fundraising', 'BOS-MA: FY13 Spring', 'EBR-LA: FY13 Gala Tickets', 'WDC-DC: FY16 Spring Break - Cardozo', '80010-COL09S:DNR', '06 DET TSP:Full Team', 'Annual Dinner-LSA11', 'NH: FY12Women', '06 DET APPNI:SPRINGD', 'BOS-MA: FY15 Spring Appeal Regular RLD (Recent Lapsed) Email 3', '08 CHI IGC:ALUM/FRND CMPN', '06 NYC YH', '06 DET APPNI:FALLOS', '04 RHI DIN:TWO', '07 NH SPPM', '04 COL CAMP:REG', 'WDC-DC: FY17 Gala Night of Ask', '06 SANJ DIN:06 Platinum', 'HQ: FY10 Legal Brk', 'MIA-FL: FY14 Gala Sustainable Sponsorships', '07 RHI G', 'PHL-PA: FY14 School', 'JAX-FL: FY14 Opening Day Dinner', 'NSD:SAC', '04 BOS CMP', '05 CSC PROG', '64000-SPR', '04 SANJ APP', '80000-LRA09:BRONZE', '06 NYC APP:FALLD', '04 NYC CAMP:REG', 'NYC-NY: FY14 Alumni and Friends', 'FY11 OTHER INCOME', '08 SAN G', 'UW Designation', '06 JBG IGC', 'PRV-RI: FY17 Team Sponsorships', 'SANJ: FY12 AlumBrd', 'NYC: FY12 AssocBrd:Auction purchase', 'PHL-PA: FY15 Summer Appeal', '06 DET ENDW', '80000-SAN08:08 Plantinum', '06 CHI TSP:Full Team', 'SAN-TX: FY13 Golf', 'MKE: FY13 Gala:MKE: FY13 Gala', 'NYC: FY12AlumBrd:Raffle', '08 WDC APPNI', '07 NAT AFT', '06 NAT PROG:SACT', '80010-NYC11BTS:ALUM PRNTS', '04 RHI SRV:MLK', 'COL-SC: FY15 Capacity Solicitations', 'PHL-PA: FY14 Major Gift', '04 RHI DIN (FY04)', '08 WDC AFT', '08 SEA SPPM', '05 PHL PROG', '07 SANJ YH', '06 CHI ERND', '07 BOS SRVSP:100HOP', '05 NAT MAJ', '06 BOS CYZ:AC', 'DET-MI: FY13 Spring', 'PHL-PA: FY17 ING Appeals - LYBUNT', '06 SEA DIN:06 Individual', 'PHL: FY13 Gala:Vice Chair', '80000-HQ08:08 Gold', '07 DET APP:SPRINGA', '05 LRA DIN', 'BOS-MA: FY15 Investment Bfast', '07 SANJ SPPM', 'CHI-IL: FY13 GivingTuesday', 'SAN-TX: FY15 Gala Night of Ask', '80000-PHL12:Donation', '05 SAN EVT:GOLF', '04 SAN GEN:BOARD', '07 NAT ENDG', '80000-COL12:80000-COL12', '08 SEA TSP:Co-Team', '10 NAT ERND', '08 PHL APP', '07 CSC SRVSP', '80000-PHL09:80000-PHL09', 'WDC-DC: FY14 School', '05 CHI SPS', '05 LRA EVT', 'CHI-IL: FY14 NFL Fantasy Football', '04 BOS DIN', 'UNSOL', 'SAN-TX: FY16 Program Support Solicitations', 'BOS-MA:DV:EX:FY16:160623.JuneEOYEmail.Lapsed', '80010-PHL09F:CORPS PRNTS', '09 CSC TSP:Full Team', 'SEA: FY13 Gala:Auction', 'HQI-MA: Major Gift Ask', '09 NYC TSP:Full Team', '09 NYC DIN (2008):Bronze Sponsorship', 'CHI-IL: FY16 Bridge Builders', '80000-COL12:Tickets', 'WDC-DC: FY16 Program Support Solicitations', '80000-DET10:Donation', 'DET-MI: FY13 Gala:VIP Ticket', '08 NAT SRV', '80000-HQ08:08 Donation', '70000:GLBL Yth SD', '08 WDC APP', 'DET-MI: FY13 Gala:Corporate Table', '04 WDC EVT', 'MWK-WI: FY16 Program Support Solicitations', '80000-DET10:Ad Sponsorship', '80000-LAX12:Tickets', '08 BOS APPNI', 'PHL-PA: FY15 Associate Board Giving', '06 NH DIN:06 Silver', '04 CLE SPS', '06 BOS DIN', '07 DET APP', '05 NH DIN:05 Individual', '08 BOS PROG', '08 SAN OPEN', 'CHI-IL: FY15 Micro.Corp Annual Appeal', 'EARNINC', 'EBR-LA: FY15 Graduation', 'PHL-PA: FY15 Marathon2', '08 SAN EVT:08 CT', 'DET-MI: FY14 Gala:Night of Ask', '07 NH EVT', '05 CSC DIN:05 Auction', '06 LSA EVT', 'WDC-DC: FY17 Program Sponsorships', '06 NAT APP:SPRINGPD', '10 NH WSWC', 'LOS-CA: FY15 Program Support Solicitations', 'KSC-MO: FY17 Sustainable', '08 LRA ERND', 'CHI-IL: FY14 Gala:Night of Ask', 'WDC-DC: FY16 Spring Break', '80010-RHI10F:POTDNR', '07 SAN APPNI', '05 WDC YH', '08 CHI APP:FALL', '08 SANJ CFC', '08 LRA CMPSP', '06 LRA GRAD', 'RHI: FY13 Gala:Night of Ask', '80000-COL08:08 Silver', '07 WDC APPNI', '08 CLE ENDW', '07 PHL OPEN', '08 BOS ERND', '08 NH TSP:FULL', 'Wine Tasting:sponsor', '04 CLE APP', '06 INT G', '80000-NYC11:Night of Ask', '05 COL GEN', 'SEA-WA: FY16 Gala Sustainable/Sponsorships', 'RHI: FY13 Gala:Sponsorship', '05 CHI SPPM', '08 NYC OPEN', '08 WDC ENDG', '05 SANJ DIN:05 Individual', 'PHL: Radiothon', 'ORL-FL: FY17 EOY Appeal', '80000-NH08:08 Plantinum', '06 SEA APP', '04 WDC PROG', '04 RHI DIN:GOLD', '09 NYC IGC:ALUM/FRND CMPN', '04 SAN PROG', '80010-BOS09U', 'McMast', '06 CLE DIN:06 Bronze', 'LOS-CA: FY16 Service Day', 'TUL-OK: FY15 Sustainable Personalized Ask', '06 SANJ DIN:06 Gold', '05 SEA PROG:Clinton Innovation A', 'CHI-IL: FY13 Gala:Contribution', 'WDC-DC FY12 Gala Sponsor', '07 CLE SPS', 'LTR-AR: FY17 Gala', '08 SEA YH:YHOTHER', 'MAN-NH: FY15 Gran Fondo Bike Race', '80070:CSGOLFCL', 'DEN-CO: FY16 Program Support Solicitations', '05 SANJ TSP', 'JAX-FL: FY16 Program Sponsorships', 'SAN-TX: FY17 Sustainable', '80010-PHL10F:DNR', '04 NYC SRV', 'NYC: FY11 AssocBrd:Ipad Raffle', '05 BOS GEN:ALUMFIB', '06 COL APP:FALLD', 'BOS-MA: FY17 Winter Appeal Recent Lapsed Donors Email 2', '08 CSC SRV', '09 LAX PROG', '06 RADIO', 'SEA-WA: FY16 Annual Appeal - Winter', '08 LRA CAMP', '07 BOS PROG', 'COL-SC: FY17 Midlands Gives', '80000-SEA08:DON', '04 NAT AMER', 'City Day:REG', '09 SEA AFT', '06 SAN ERND', 'LTR-AR: FY15 Team Sponsorships', '06 NYC DIN:06 Bronze', '80010-NYC09F:RENTED', '09 LAX TSP:Co-Team', '80040:ALUM/FRND CMPN', '80000-COL08:08 Donation', '80010-INT09', '04 RHI DIN:BRZ', '04 PHL CAMP', 'WDC-DC: FY14 EOY', '10 NAT DIN', '08 RHI IGC', 'Team Sponsorship', '07 SEA TSP:Co-Team', '05 RHI APP', 'SAC-CA: FY15 Program Support Solicitations', '08 SAN SPPM', '04 CSC DIN', '80010-CHI12F', '07 RHI DIN:CMPREV', '04 DET GRAD', '07 LRA CAMP', 'CHI:FY13WineStein:Auction', '04 BOS SAT:REGFEE', '07 NAT DIN:DON', '08 NYC ERND', '06 LRA TSP:Co-Team', '04 SANJ GEN', '04 NAT NLS', 'ORL-FL: FY14 Gala:Tickets', '04 RHI DIN:ONE', 'BOS-MA: FY13 Legal Brk'}\n",
      "There are 4807 different campaigns that City Year has ran since 1997.\n"
     ]
    }
   ],
   "source": [
    "# our first categorical feature, we will convert this differently than the previous datetimes/float values\n",
    "print(set(gt_df['Campaign Name']))\n",
    "\n",
    "print('There are {} different campaigns that City Year has ran since 1997.'.format(len(set(gt_df['Campaign Name']))))"
   ]
  },
  {
   "cell_type": "markdown",
   "id": "187c0220",
   "metadata": {},
   "source": [
    "well fuck"
   ]
  },
  {
   "cell_type": "code",
   "execution_count": 876,
   "id": "ab77406c",
   "metadata": {},
   "outputs": [],
   "source": [
    "# create new dataframe containing campaign names and corresponding campaign category codes that we assign\n",
    "campaign_df = pd.DataFrame()\n",
    "campaign_df['Campaign Cat Code'] = list(set(gt_df['Campaign Name'].astype(\"category\").cat.codes))\n",
    "campaign_df['Campaign Name'] = list(set(gt_df['Campaign Name']))"
   ]
  },
  {
   "cell_type": "code",
   "execution_count": 877,
   "id": "f8a714d6",
   "metadata": {},
   "outputs": [],
   "source": [
    "# theoretically, this is how we should handle all cateogrical variables, so I'm going to run with this sparse/non-sparse\n",
    "# matrix for the time being\n",
    "gt_df_sparse = pd.get_dummies(gt_df, columns=['Campaign Name'])"
   ]
  },
  {
   "cell_type": "code",
   "execution_count": 878,
   "id": "fed98ff1",
   "metadata": {},
   "outputs": [],
   "source": [
    "# this maps the campaign codes onto their names in a single column, but since the campaigns are not inherently relational\n",
    "# we should absolutely NOT do this\n",
    "#gt_df['Campaign Name'] = gt_df['Campaign Name'].astype(\"category\").cat.codes"
   ]
  },
  {
   "cell_type": "markdown",
   "id": "2a72dead",
   "metadata": {},
   "source": [
    "Since there were ~4800 different campaigns that City Year has conducted since '97, we are forced to serialize those campaigns into numbers which we use to replace the names.\n",
    "\n",
    "We will also create a separate dataframe containing a correlation between campaign names and category codes, for future use."
   ]
  },
  {
   "cell_type": "code",
   "execution_count": 879,
   "id": "5eb5fbed",
   "metadata": {},
   "outputs": [
    {
     "name": "stdout",
     "output_type": "stream",
     "text": [
      "The new dataframe shape is (188895, 4818).\n"
     ]
    }
   ],
   "source": [
    "# print new head of gt_df that contains the campaign codes instead of names, therefore categorizing the data \n",
    "# (we might need to make this a sparse matrix at some point as well, but for now we will just not add 4807 features for simplicity)\n",
    "\n",
    "print('The new dataframe shape is {}.'.format(gt_df_sparse.shape))"
   ]
  },
  {
   "cell_type": "markdown",
   "id": "c52f8570",
   "metadata": {},
   "source": [
    "Thankfully, the remaining data (aside from payment status) is useless since it is just a variety of identification numbers. We will only use that for joins in the future and store them aside."
   ]
  },
  {
   "cell_type": "code",
   "execution_count": 880,
   "id": "7fedc0de",
   "metadata": {},
   "outputs": [
    {
     "data": {
      "text/html": [
       "<div>\n",
       "<style scoped>\n",
       "    .dataframe tbody tr th:only-of-type {\n",
       "        vertical-align: middle;\n",
       "    }\n",
       "\n",
       "    .dataframe tbody tr th {\n",
       "        vertical-align: top;\n",
       "    }\n",
       "\n",
       "    .dataframe thead th {\n",
       "        text-align: right;\n",
       "    }\n",
       "</style>\n",
       "<table border=\"1\" class=\"dataframe\">\n",
       "  <thead>\n",
       "    <tr style=\"text-align: right;\">\n",
       "      <th></th>\n",
       "      <th>Staff Member</th>\n",
       "      <th>Amount</th>\n",
       "      <th>Payment Number</th>\n",
       "      <th>GAU Allocation Name</th>\n",
       "      <th>Payment Date</th>\n",
       "      <th>Payment Status</th>\n",
       "      <th>Campaign Name_01 RHI APP</th>\n",
       "      <th>Campaign Name_01 RHI CAMP</th>\n",
       "      <th>Campaign Name_01 RHI CYZ</th>\n",
       "      <th>Campaign Name_01 RHI DIN</th>\n",
       "      <th>...</th>\n",
       "      <th>Campaign Name_Wine Tasting:Donation</th>\n",
       "      <th>Campaign Name_Wine Tasting:sponsor</th>\n",
       "      <th>Campaign Name_YH</th>\n",
       "      <th>Campaign Name_Young Heroes</th>\n",
       "      <th>Campaign Name_Young Heroes Sponsor</th>\n",
       "      <th>Campaign Name_Young Heroes Sponsor:YHAA</th>\n",
       "      <th>Campaign Name_Young Heroes Sponsor:YHOPEN</th>\n",
       "      <th>Campaign Name_Young Heroes Sponsor:YHOTHER</th>\n",
       "      <th>Campaign Name_Young Heroes Sponsor:YHPRSPON</th>\n",
       "      <th>Campaign Name_Young Heroes Sponsor:YHTSP</th>\n",
       "    </tr>\n",
       "  </thead>\n",
       "  <tbody>\n",
       "    <tr>\n",
       "      <th>561</th>\n",
       "      <td>7.0</td>\n",
       "      <td>50000.0</td>\n",
       "      <td>1169</td>\n",
       "      <td>15674</td>\n",
       "      <td>2004-06-08</td>\n",
       "      <td>Paid</td>\n",
       "      <td>0</td>\n",
       "      <td>0</td>\n",
       "      <td>0</td>\n",
       "      <td>0</td>\n",
       "      <td>...</td>\n",
       "      <td>0</td>\n",
       "      <td>0</td>\n",
       "      <td>0</td>\n",
       "      <td>0</td>\n",
       "      <td>0</td>\n",
       "      <td>0</td>\n",
       "      <td>0</td>\n",
       "      <td>0</td>\n",
       "      <td>0</td>\n",
       "      <td>0</td>\n",
       "    </tr>\n",
       "    <tr>\n",
       "      <th>562</th>\n",
       "      <td>7.0</td>\n",
       "      <td>200.0</td>\n",
       "      <td>6709</td>\n",
       "      <td>8201</td>\n",
       "      <td>2015-04-13</td>\n",
       "      <td>Paid</td>\n",
       "      <td>0</td>\n",
       "      <td>0</td>\n",
       "      <td>0</td>\n",
       "      <td>0</td>\n",
       "      <td>...</td>\n",
       "      <td>0</td>\n",
       "      <td>0</td>\n",
       "      <td>0</td>\n",
       "      <td>0</td>\n",
       "      <td>0</td>\n",
       "      <td>0</td>\n",
       "      <td>0</td>\n",
       "      <td>0</td>\n",
       "      <td>0</td>\n",
       "      <td>0</td>\n",
       "    </tr>\n",
       "    <tr>\n",
       "      <th>563</th>\n",
       "      <td>7.0</td>\n",
       "      <td>200.0</td>\n",
       "      <td>6709</td>\n",
       "      <td>8201</td>\n",
       "      <td>2015-04-13</td>\n",
       "      <td>Paid</td>\n",
       "      <td>0</td>\n",
       "      <td>0</td>\n",
       "      <td>0</td>\n",
       "      <td>0</td>\n",
       "      <td>...</td>\n",
       "      <td>0</td>\n",
       "      <td>0</td>\n",
       "      <td>0</td>\n",
       "      <td>0</td>\n",
       "      <td>0</td>\n",
       "      <td>0</td>\n",
       "      <td>0</td>\n",
       "      <td>0</td>\n",
       "      <td>0</td>\n",
       "      <td>0</td>\n",
       "    </tr>\n",
       "    <tr>\n",
       "      <th>564</th>\n",
       "      <td>7.0</td>\n",
       "      <td>100000.0</td>\n",
       "      <td>7109</td>\n",
       "      <td>14341</td>\n",
       "      <td>2015-07-16</td>\n",
       "      <td>Paid</td>\n",
       "      <td>0</td>\n",
       "      <td>0</td>\n",
       "      <td>0</td>\n",
       "      <td>0</td>\n",
       "      <td>...</td>\n",
       "      <td>0</td>\n",
       "      <td>0</td>\n",
       "      <td>0</td>\n",
       "      <td>0</td>\n",
       "      <td>0</td>\n",
       "      <td>0</td>\n",
       "      <td>0</td>\n",
       "      <td>0</td>\n",
       "      <td>0</td>\n",
       "      <td>0</td>\n",
       "    </tr>\n",
       "    <tr>\n",
       "      <th>565</th>\n",
       "      <td>7.0</td>\n",
       "      <td>300.0</td>\n",
       "      <td>6709</td>\n",
       "      <td>8202</td>\n",
       "      <td>2015-04-13</td>\n",
       "      <td>Paid</td>\n",
       "      <td>0</td>\n",
       "      <td>0</td>\n",
       "      <td>0</td>\n",
       "      <td>0</td>\n",
       "      <td>...</td>\n",
       "      <td>0</td>\n",
       "      <td>0</td>\n",
       "      <td>0</td>\n",
       "      <td>0</td>\n",
       "      <td>0</td>\n",
       "      <td>0</td>\n",
       "      <td>0</td>\n",
       "      <td>0</td>\n",
       "      <td>0</td>\n",
       "      <td>0</td>\n",
       "    </tr>\n",
       "  </tbody>\n",
       "</table>\n",
       "<p>5 rows × 4813 columns</p>\n",
       "</div>"
      ],
      "text/plain": [
       "     Staff Member    Amount  Payment Number  GAU Allocation Name Payment Date  \\\n",
       "561           7.0   50000.0            1169                15674   2004-06-08   \n",
       "562           7.0     200.0            6709                 8201   2015-04-13   \n",
       "563           7.0     200.0            6709                 8201   2015-04-13   \n",
       "564           7.0  100000.0            7109                14341   2015-07-16   \n",
       "565           7.0     300.0            6709                 8202   2015-04-13   \n",
       "\n",
       "    Payment Status  Campaign Name_01 RHI APP  Campaign Name_01 RHI CAMP  \\\n",
       "561           Paid                         0                          0   \n",
       "562           Paid                         0                          0   \n",
       "563           Paid                         0                          0   \n",
       "564           Paid                         0                          0   \n",
       "565           Paid                         0                          0   \n",
       "\n",
       "     Campaign Name_01 RHI CYZ  Campaign Name_01 RHI DIN  ...  \\\n",
       "561                         0                         0  ...   \n",
       "562                         0                         0  ...   \n",
       "563                         0                         0  ...   \n",
       "564                         0                         0  ...   \n",
       "565                         0                         0  ...   \n",
       "\n",
       "     Campaign Name_Wine Tasting:Donation  Campaign Name_Wine Tasting:sponsor  \\\n",
       "561                                    0                                   0   \n",
       "562                                    0                                   0   \n",
       "563                                    0                                   0   \n",
       "564                                    0                                   0   \n",
       "565                                    0                                   0   \n",
       "\n",
       "     Campaign Name_YH  Campaign Name_Young Heroes  \\\n",
       "561                 0                           0   \n",
       "562                 0                           0   \n",
       "563                 0                           0   \n",
       "564                 0                           0   \n",
       "565                 0                           0   \n",
       "\n",
       "     Campaign Name_Young Heroes Sponsor  \\\n",
       "561                                   0   \n",
       "562                                   0   \n",
       "563                                   0   \n",
       "564                                   0   \n",
       "565                                   0   \n",
       "\n",
       "     Campaign Name_Young Heroes Sponsor:YHAA  \\\n",
       "561                                        0   \n",
       "562                                        0   \n",
       "563                                        0   \n",
       "564                                        0   \n",
       "565                                        0   \n",
       "\n",
       "     Campaign Name_Young Heroes Sponsor:YHOPEN  \\\n",
       "561                                          0   \n",
       "562                                          0   \n",
       "563                                          0   \n",
       "564                                          0   \n",
       "565                                          0   \n",
       "\n",
       "     Campaign Name_Young Heroes Sponsor:YHOTHER  \\\n",
       "561                                           0   \n",
       "562                                           0   \n",
       "563                                           0   \n",
       "564                                           0   \n",
       "565                                           0   \n",
       "\n",
       "     Campaign Name_Young Heroes Sponsor:YHPRSPON  \\\n",
       "561                                            0   \n",
       "562                                            0   \n",
       "563                                            0   \n",
       "564                                            0   \n",
       "565                                            0   \n",
       "\n",
       "     Campaign Name_Young Heroes Sponsor:YHTSP  \n",
       "561                                         0  \n",
       "562                                         0  \n",
       "563                                         0  \n",
       "564                                         0  \n",
       "565                                         0  \n",
       "\n",
       "[5 rows x 4813 columns]"
      ]
     },
     "execution_count": 880,
     "metadata": {},
     "output_type": "execute_result"
    }
   ],
   "source": [
    "# clean our final column, payment status\n",
    "gt_df_sparse = gt_df_sparse.loc[:, gt_df_sparse.columns != 'Opportunity: Legacy SF ID']\n",
    "gt_df_sparse = gt_df_sparse.loc[:, gt_df_sparse.columns != 'Opportunity: Opportunity ID']\n",
    "gt_df_sparse = gt_df_sparse.loc[:, gt_df_sparse.columns != 'Opportunity: Donor Id']\n",
    "gt_df_sparse = gt_df_sparse.loc[:, gt_df_sparse.columns != 'Legacy SF ID']\n",
    "gt_df_sparse = gt_df_sparse.loc[:, gt_df_sparse.columns != 'Legacy SF ID.1']\n",
    "\n",
    "# print new, ID feature dropped DF\n",
    "gt_df_sparse.head()"
   ]
  },
  {
   "cell_type": "code",
   "execution_count": 881,
   "id": "4128244b",
   "metadata": {},
   "outputs": [],
   "source": [
    "# convert Payment Status column to boolean values\n",
    "gt_df_sparse['Payment Status'] = gt_df_sparse['Payment Status'].map({\"Paid\":1, \"Unpaid\":0})\n",
    "gt_df_sparse['Payment Status'] = gt_df_sparse['Payment Status'].astype(bool)"
   ]
  },
  {
   "cell_type": "code",
   "execution_count": 882,
   "id": "12e4222b",
   "metadata": {
    "scrolled": false
   },
   "outputs": [
    {
     "name": "stdout",
     "output_type": "stream",
     "text": [
      "<class 'pandas.core.frame.DataFrame'>\n",
      "Int64Index: 188895 entries, 561 to 189832\n",
      "Columns: 4813 entries, Staff Member to Campaign Name_Young Heroes Sponsor:YHTSP\n",
      "dtypes: bool(1), datetime64[ns](1), float64(2), int64(2), uint8(4807)\n",
      "memory usage: 874.8 MB\n"
     ]
    }
   ],
   "source": [
    "# finally, we check our new Sparse matrix for datatypes/NaNs\n",
    "gt_df_sparse.info()"
   ]
  },
  {
   "cell_type": "code",
   "execution_count": 883,
   "id": "2c1e925a",
   "metadata": {
    "scrolled": true
   },
   "outputs": [
    {
     "data": {
      "text/html": [
       "<div>\n",
       "<style scoped>\n",
       "    .dataframe tbody tr th:only-of-type {\n",
       "        vertical-align: middle;\n",
       "    }\n",
       "\n",
       "    .dataframe tbody tr th {\n",
       "        vertical-align: top;\n",
       "    }\n",
       "\n",
       "    .dataframe thead th {\n",
       "        text-align: right;\n",
       "    }\n",
       "</style>\n",
       "<table border=\"1\" class=\"dataframe\">\n",
       "  <thead>\n",
       "    <tr style=\"text-align: right;\">\n",
       "      <th></th>\n",
       "      <th>Staff Member</th>\n",
       "      <th>Amount</th>\n",
       "      <th>Payment Number</th>\n",
       "      <th>GAU Allocation Name</th>\n",
       "      <th>Payment Date</th>\n",
       "      <th>Payment Status</th>\n",
       "      <th>Campaign Cat Number</th>\n",
       "    </tr>\n",
       "  </thead>\n",
       "  <tbody>\n",
       "    <tr>\n",
       "      <th>561</th>\n",
       "      <td>7.0</td>\n",
       "      <td>50000.0</td>\n",
       "      <td>1169</td>\n",
       "      <td>15674</td>\n",
       "      <td>2004-06-08</td>\n",
       "      <td>True</td>\n",
       "      <td>132</td>\n",
       "    </tr>\n",
       "    <tr>\n",
       "      <th>562</th>\n",
       "      <td>7.0</td>\n",
       "      <td>200.0</td>\n",
       "      <td>6709</td>\n",
       "      <td>8201</td>\n",
       "      <td>2015-04-13</td>\n",
       "      <td>True</td>\n",
       "      <td>4659</td>\n",
       "    </tr>\n",
       "    <tr>\n",
       "      <th>563</th>\n",
       "      <td>7.0</td>\n",
       "      <td>200.0</td>\n",
       "      <td>6709</td>\n",
       "      <td>8201</td>\n",
       "      <td>2015-04-13</td>\n",
       "      <td>True</td>\n",
       "      <td>4659</td>\n",
       "    </tr>\n",
       "    <tr>\n",
       "      <th>564</th>\n",
       "      <td>7.0</td>\n",
       "      <td>100000.0</td>\n",
       "      <td>7109</td>\n",
       "      <td>14341</td>\n",
       "      <td>2015-07-16</td>\n",
       "      <td>True</td>\n",
       "      <td>3540</td>\n",
       "    </tr>\n",
       "    <tr>\n",
       "      <th>565</th>\n",
       "      <td>7.0</td>\n",
       "      <td>300.0</td>\n",
       "      <td>6709</td>\n",
       "      <td>8202</td>\n",
       "      <td>2015-04-13</td>\n",
       "      <td>True</td>\n",
       "      <td>4659</td>\n",
       "    </tr>\n",
       "  </tbody>\n",
       "</table>\n",
       "</div>"
      ],
      "text/plain": [
       "     Staff Member    Amount  Payment Number  GAU Allocation Name Payment Date  \\\n",
       "561           7.0   50000.0            1169                15674   2004-06-08   \n",
       "562           7.0     200.0            6709                 8201   2015-04-13   \n",
       "563           7.0     200.0            6709                 8201   2015-04-13   \n",
       "564           7.0  100000.0            7109                14341   2015-07-16   \n",
       "565           7.0     300.0            6709                 8202   2015-04-13   \n",
       "\n",
       "     Payment Status  Campaign Cat Number  \n",
       "561            True                  132  \n",
       "562            True                 4659  \n",
       "563            True                 4659  \n",
       "564            True                 3540  \n",
       "565            True                 4659  "
      ]
     },
     "execution_count": 883,
     "metadata": {},
     "output_type": "execute_result"
    }
   ],
   "source": [
    "# lets also create the matrix that contains categorical numeric data and not sparse data\n",
    "gt_df_cat = gt_df_sparse.drop(gt_df_sparse.columns[5:-1], axis=1)\n",
    "gt_df_cat = gt_df_cat.drop(gt_df_cat.columns[5], axis=1)\n",
    "gt_df_cat['Payment Status'] = gt_df_sparse['Payment Status']\n",
    "gt_df_cat['Campaign Cat Number'] = gt_df['Campaign Name'].astype(\"category\").cat.codes\n",
    "gt_df_cat.head()"
   ]
  },
  {
   "cell_type": "code",
   "execution_count": 884,
   "id": "ec450c97",
   "metadata": {},
   "outputs": [],
   "source": [
    "gt_df_cat = gt_df_cat.dropna()\n",
    "gt_df_sparse = gt_df_sparse.dropna()"
   ]
  },
  {
   "cell_type": "markdown",
   "id": "bc66852a",
   "metadata": {},
   "source": [
    "We now have two important dataframes to run models with, the first being 'gt_df_sparse' which breaks the categorical feature of 'Campaign Name' into N number of boolean features.\n",
    "\n",
    "The second dataframe (gt_df_cat) serializes campaign names into numeric values instead of stretching them into boolean features. Both have their uses, but gt_df_cat is significantly better with computational capacity."
   ]
  },
  {
   "cell_type": "markdown",
   "id": "05bef8f1",
   "metadata": {},
   "source": [
    "### Section II: Model Training"
   ]
  },
  {
   "cell_type": "markdown",
   "id": "e01b20b7",
   "metadata": {},
   "source": [
    "We will begin with some basic KNN/Kmeans Clustering to try to determine transaction amounts by campaign. "
   ]
  },
  {
   "cell_type": "code",
   "execution_count": 885,
   "id": "28ea8ea3",
   "metadata": {},
   "outputs": [],
   "source": [
    "# import clustering libraries\n",
    "from sklearn.neighbors import KNeighborsClassifier as KNN\n",
    "from sklearn.model_selection import train_test_split\n",
    "from sklearn.metrics import silhouette_score"
   ]
  },
  {
   "cell_type": "code",
   "execution_count": 886,
   "id": "517e3ba9",
   "metadata": {},
   "outputs": [],
   "source": [
    "# split data into X & Y matricies\n",
    "X = gt_df_cat.loc[:, gt_df_cat.columns != 'Amount']\n",
    "\n",
    "# also remove datetimes from X because that is not helpful/will break the KNN model\n",
    "X = gt_df_cat.loc[:, gt_df_cat.columns != 'Payment Date']\n",
    "\n",
    "# create predict value, which is amount in this instance\n",
    "Y = gt_df_cat.loc[:, gt_df_cat.columns == 'Amount'].astype(int)\n",
    "\n",
    "# create test/train split for model training\n",
    "X_train, X_test, Y_train, Y_test = train_test_split(X, Y, test_size=0.3, random_state=42)"
   ]
  },
  {
   "cell_type": "code",
   "execution_count": 887,
   "id": "9a24cb06",
   "metadata": {
    "scrolled": true
   },
   "outputs": [
    {
     "ename": "ValueError",
     "evalue": "at least one array or dtype is required",
     "output_type": "error",
     "traceback": [
      "\u001b[1;31m---------------------------------------------------------------------------\u001b[0m",
      "\u001b[1;31mValueError\u001b[0m                                Traceback (most recent call last)",
      "\u001b[1;32m<ipython-input-887-9a3cf2db897c>\u001b[0m in \u001b[0;36m<module>\u001b[1;34m\u001b[0m\n\u001b[0;32m      1\u001b[0m \u001b[0mknn\u001b[0m \u001b[1;33m=\u001b[0m \u001b[0mKNN\u001b[0m\u001b[1;33m(\u001b[0m\u001b[0mn_neighbors\u001b[0m\u001b[1;33m=\u001b[0m\u001b[1;36m50\u001b[0m\u001b[1;33m)\u001b[0m\u001b[1;33m\u001b[0m\u001b[1;33m\u001b[0m\u001b[0m\n\u001b[1;32m----> 2\u001b[1;33m \u001b[0mknn\u001b[0m \u001b[1;33m=\u001b[0m \u001b[0mknn\u001b[0m\u001b[1;33m.\u001b[0m\u001b[0mfit\u001b[0m\u001b[1;33m(\u001b[0m\u001b[0mX_train\u001b[0m\u001b[1;33m,\u001b[0m \u001b[0mY_train\u001b[0m\u001b[1;33m)\u001b[0m\u001b[1;33m\u001b[0m\u001b[1;33m\u001b[0m\u001b[0m\n\u001b[0m\u001b[0;32m      3\u001b[0m \u001b[0mcur_score\u001b[0m \u001b[1;33m=\u001b[0m \u001b[0mknn\u001b[0m\u001b[1;33m.\u001b[0m\u001b[0mscore\u001b[0m\u001b[1;33m(\u001b[0m\u001b[0mX_test\u001b[0m\u001b[1;33m,\u001b[0m \u001b[0mY_test\u001b[0m\u001b[1;33m)\u001b[0m\u001b[1;33m\u001b[0m\u001b[1;33m\u001b[0m\u001b[0m\n\u001b[0;32m      4\u001b[0m \u001b[0mcur_sc\u001b[0m \u001b[1;33m=\u001b[0m \u001b[0msilhouette_score\u001b[0m\u001b[1;33m(\u001b[0m\u001b[0mX_test\u001b[0m\u001b[1;33m,\u001b[0m\u001b[0mY_test\u001b[0m\u001b[1;33m)\u001b[0m\u001b[1;33m\u001b[0m\u001b[1;33m\u001b[0m\u001b[0m\n",
      "\u001b[1;32m~\\Anaconda3\\lib\\site-packages\\sklearn\\neighbors\\_classification.py\u001b[0m in \u001b[0;36mfit\u001b[1;34m(self, X, y)\u001b[0m\n\u001b[0;32m    177\u001b[0m             \u001b[0mThe\u001b[0m \u001b[0mfitted\u001b[0m \u001b[0mk\u001b[0m\u001b[1;33m-\u001b[0m\u001b[0mnearest\u001b[0m \u001b[0mneighbors\u001b[0m \u001b[0mclassifier\u001b[0m\u001b[1;33m.\u001b[0m\u001b[1;33m\u001b[0m\u001b[1;33m\u001b[0m\u001b[0m\n\u001b[0;32m    178\u001b[0m         \"\"\"\n\u001b[1;32m--> 179\u001b[1;33m         \u001b[1;32mreturn\u001b[0m \u001b[0mself\u001b[0m\u001b[1;33m.\u001b[0m\u001b[0m_fit\u001b[0m\u001b[1;33m(\u001b[0m\u001b[0mX\u001b[0m\u001b[1;33m,\u001b[0m \u001b[0my\u001b[0m\u001b[1;33m)\u001b[0m\u001b[1;33m\u001b[0m\u001b[1;33m\u001b[0m\u001b[0m\n\u001b[0m\u001b[0;32m    180\u001b[0m \u001b[1;33m\u001b[0m\u001b[0m\n\u001b[0;32m    181\u001b[0m     \u001b[1;32mdef\u001b[0m \u001b[0mpredict\u001b[0m\u001b[1;33m(\u001b[0m\u001b[0mself\u001b[0m\u001b[1;33m,\u001b[0m \u001b[0mX\u001b[0m\u001b[1;33m)\u001b[0m\u001b[1;33m:\u001b[0m\u001b[1;33m\u001b[0m\u001b[1;33m\u001b[0m\u001b[0m\n",
      "\u001b[1;32m~\\Anaconda3\\lib\\site-packages\\sklearn\\neighbors\\_base.py\u001b[0m in \u001b[0;36m_fit\u001b[1;34m(self, X, y)\u001b[0m\n\u001b[0;32m    361\u001b[0m         \u001b[1;32mif\u001b[0m \u001b[0mself\u001b[0m\u001b[1;33m.\u001b[0m\u001b[0m_get_tags\u001b[0m\u001b[1;33m(\u001b[0m\u001b[1;33m)\u001b[0m\u001b[1;33m[\u001b[0m\u001b[1;34m\"requires_y\"\u001b[0m\u001b[1;33m]\u001b[0m\u001b[1;33m:\u001b[0m\u001b[1;33m\u001b[0m\u001b[1;33m\u001b[0m\u001b[0m\n\u001b[0;32m    362\u001b[0m             \u001b[1;32mif\u001b[0m \u001b[1;32mnot\u001b[0m \u001b[0misinstance\u001b[0m\u001b[1;33m(\u001b[0m\u001b[0mX\u001b[0m\u001b[1;33m,\u001b[0m \u001b[1;33m(\u001b[0m\u001b[0mKDTree\u001b[0m\u001b[1;33m,\u001b[0m \u001b[0mBallTree\u001b[0m\u001b[1;33m,\u001b[0m \u001b[0mNeighborsBase\u001b[0m\u001b[1;33m)\u001b[0m\u001b[1;33m)\u001b[0m\u001b[1;33m:\u001b[0m\u001b[1;33m\u001b[0m\u001b[1;33m\u001b[0m\u001b[0m\n\u001b[1;32m--> 363\u001b[1;33m                 X, y = self._validate_data(X, y, accept_sparse=\"csr\",\n\u001b[0m\u001b[0;32m    364\u001b[0m                                            multi_output=True)\n\u001b[0;32m    365\u001b[0m \u001b[1;33m\u001b[0m\u001b[0m\n",
      "\u001b[1;32m~\\Anaconda3\\lib\\site-packages\\sklearn\\base.py\u001b[0m in \u001b[0;36m_validate_data\u001b[1;34m(self, X, y, reset, validate_separately, **check_params)\u001b[0m\n\u001b[0;32m    431\u001b[0m                 \u001b[0my\u001b[0m \u001b[1;33m=\u001b[0m \u001b[0mcheck_array\u001b[0m\u001b[1;33m(\u001b[0m\u001b[0my\u001b[0m\u001b[1;33m,\u001b[0m \u001b[1;33m**\u001b[0m\u001b[0mcheck_y_params\u001b[0m\u001b[1;33m)\u001b[0m\u001b[1;33m\u001b[0m\u001b[1;33m\u001b[0m\u001b[0m\n\u001b[0;32m    432\u001b[0m             \u001b[1;32melse\u001b[0m\u001b[1;33m:\u001b[0m\u001b[1;33m\u001b[0m\u001b[1;33m\u001b[0m\u001b[0m\n\u001b[1;32m--> 433\u001b[1;33m                 \u001b[0mX\u001b[0m\u001b[1;33m,\u001b[0m \u001b[0my\u001b[0m \u001b[1;33m=\u001b[0m \u001b[0mcheck_X_y\u001b[0m\u001b[1;33m(\u001b[0m\u001b[0mX\u001b[0m\u001b[1;33m,\u001b[0m \u001b[0my\u001b[0m\u001b[1;33m,\u001b[0m \u001b[1;33m**\u001b[0m\u001b[0mcheck_params\u001b[0m\u001b[1;33m)\u001b[0m\u001b[1;33m\u001b[0m\u001b[1;33m\u001b[0m\u001b[0m\n\u001b[0m\u001b[0;32m    434\u001b[0m             \u001b[0mout\u001b[0m \u001b[1;33m=\u001b[0m \u001b[0mX\u001b[0m\u001b[1;33m,\u001b[0m \u001b[0my\u001b[0m\u001b[1;33m\u001b[0m\u001b[1;33m\u001b[0m\u001b[0m\n\u001b[0;32m    435\u001b[0m \u001b[1;33m\u001b[0m\u001b[0m\n",
      "\u001b[1;32m~\\Anaconda3\\lib\\site-packages\\sklearn\\utils\\validation.py\u001b[0m in \u001b[0;36minner_f\u001b[1;34m(*args, **kwargs)\u001b[0m\n\u001b[0;32m     61\u001b[0m             \u001b[0mextra_args\u001b[0m \u001b[1;33m=\u001b[0m \u001b[0mlen\u001b[0m\u001b[1;33m(\u001b[0m\u001b[0margs\u001b[0m\u001b[1;33m)\u001b[0m \u001b[1;33m-\u001b[0m \u001b[0mlen\u001b[0m\u001b[1;33m(\u001b[0m\u001b[0mall_args\u001b[0m\u001b[1;33m)\u001b[0m\u001b[1;33m\u001b[0m\u001b[1;33m\u001b[0m\u001b[0m\n\u001b[0;32m     62\u001b[0m             \u001b[1;32mif\u001b[0m \u001b[0mextra_args\u001b[0m \u001b[1;33m<=\u001b[0m \u001b[1;36m0\u001b[0m\u001b[1;33m:\u001b[0m\u001b[1;33m\u001b[0m\u001b[1;33m\u001b[0m\u001b[0m\n\u001b[1;32m---> 63\u001b[1;33m                 \u001b[1;32mreturn\u001b[0m \u001b[0mf\u001b[0m\u001b[1;33m(\u001b[0m\u001b[1;33m*\u001b[0m\u001b[0margs\u001b[0m\u001b[1;33m,\u001b[0m \u001b[1;33m**\u001b[0m\u001b[0mkwargs\u001b[0m\u001b[1;33m)\u001b[0m\u001b[1;33m\u001b[0m\u001b[1;33m\u001b[0m\u001b[0m\n\u001b[0m\u001b[0;32m     64\u001b[0m \u001b[1;33m\u001b[0m\u001b[0m\n\u001b[0;32m     65\u001b[0m             \u001b[1;31m# extra_args > 0\u001b[0m\u001b[1;33m\u001b[0m\u001b[1;33m\u001b[0m\u001b[1;33m\u001b[0m\u001b[0m\n",
      "\u001b[1;32m~\\Anaconda3\\lib\\site-packages\\sklearn\\utils\\validation.py\u001b[0m in \u001b[0;36mcheck_X_y\u001b[1;34m(X, y, accept_sparse, accept_large_sparse, dtype, order, copy, force_all_finite, ensure_2d, allow_nd, multi_output, ensure_min_samples, ensure_min_features, y_numeric, estimator)\u001b[0m\n\u001b[0;32m    821\u001b[0m                     estimator=estimator)\n\u001b[0;32m    822\u001b[0m     \u001b[1;32mif\u001b[0m \u001b[0mmulti_output\u001b[0m\u001b[1;33m:\u001b[0m\u001b[1;33m\u001b[0m\u001b[1;33m\u001b[0m\u001b[0m\n\u001b[1;32m--> 823\u001b[1;33m         y = check_array(y, accept_sparse='csr', force_all_finite=True,\n\u001b[0m\u001b[0;32m    824\u001b[0m                         ensure_2d=False, dtype=None)\n\u001b[0;32m    825\u001b[0m     \u001b[1;32melse\u001b[0m\u001b[1;33m:\u001b[0m\u001b[1;33m\u001b[0m\u001b[1;33m\u001b[0m\u001b[0m\n",
      "\u001b[1;32m~\\Anaconda3\\lib\\site-packages\\sklearn\\utils\\validation.py\u001b[0m in \u001b[0;36minner_f\u001b[1;34m(*args, **kwargs)\u001b[0m\n\u001b[0;32m     61\u001b[0m             \u001b[0mextra_args\u001b[0m \u001b[1;33m=\u001b[0m \u001b[0mlen\u001b[0m\u001b[1;33m(\u001b[0m\u001b[0margs\u001b[0m\u001b[1;33m)\u001b[0m \u001b[1;33m-\u001b[0m \u001b[0mlen\u001b[0m\u001b[1;33m(\u001b[0m\u001b[0mall_args\u001b[0m\u001b[1;33m)\u001b[0m\u001b[1;33m\u001b[0m\u001b[1;33m\u001b[0m\u001b[0m\n\u001b[0;32m     62\u001b[0m             \u001b[1;32mif\u001b[0m \u001b[0mextra_args\u001b[0m \u001b[1;33m<=\u001b[0m \u001b[1;36m0\u001b[0m\u001b[1;33m:\u001b[0m\u001b[1;33m\u001b[0m\u001b[1;33m\u001b[0m\u001b[0m\n\u001b[1;32m---> 63\u001b[1;33m                 \u001b[1;32mreturn\u001b[0m \u001b[0mf\u001b[0m\u001b[1;33m(\u001b[0m\u001b[1;33m*\u001b[0m\u001b[0margs\u001b[0m\u001b[1;33m,\u001b[0m \u001b[1;33m**\u001b[0m\u001b[0mkwargs\u001b[0m\u001b[1;33m)\u001b[0m\u001b[1;33m\u001b[0m\u001b[1;33m\u001b[0m\u001b[0m\n\u001b[0m\u001b[0;32m     64\u001b[0m \u001b[1;33m\u001b[0m\u001b[0m\n\u001b[0;32m     65\u001b[0m             \u001b[1;31m# extra_args > 0\u001b[0m\u001b[1;33m\u001b[0m\u001b[1;33m\u001b[0m\u001b[1;33m\u001b[0m\u001b[0m\n",
      "\u001b[1;32m~\\Anaconda3\\lib\\site-packages\\sklearn\\utils\\validation.py\u001b[0m in \u001b[0;36mcheck_array\u001b[1;34m(array, accept_sparse, accept_large_sparse, dtype, order, copy, force_all_finite, ensure_2d, allow_nd, ensure_min_samples, ensure_min_features, estimator)\u001b[0m\n\u001b[0;32m    538\u001b[0m \u001b[1;33m\u001b[0m\u001b[0m\n\u001b[0;32m    539\u001b[0m         \u001b[1;32mif\u001b[0m \u001b[0mall\u001b[0m\u001b[1;33m(\u001b[0m\u001b[0misinstance\u001b[0m\u001b[1;33m(\u001b[0m\u001b[0mdtype\u001b[0m\u001b[1;33m,\u001b[0m \u001b[0mnp\u001b[0m\u001b[1;33m.\u001b[0m\u001b[0mdtype\u001b[0m\u001b[1;33m)\u001b[0m \u001b[1;32mfor\u001b[0m \u001b[0mdtype\u001b[0m \u001b[1;32min\u001b[0m \u001b[0mdtypes_orig\u001b[0m\u001b[1;33m)\u001b[0m\u001b[1;33m:\u001b[0m\u001b[1;33m\u001b[0m\u001b[1;33m\u001b[0m\u001b[0m\n\u001b[1;32m--> 540\u001b[1;33m             \u001b[0mdtype_orig\u001b[0m \u001b[1;33m=\u001b[0m \u001b[0mnp\u001b[0m\u001b[1;33m.\u001b[0m\u001b[0mresult_type\u001b[0m\u001b[1;33m(\u001b[0m\u001b[1;33m*\u001b[0m\u001b[0mdtypes_orig\u001b[0m\u001b[1;33m)\u001b[0m\u001b[1;33m\u001b[0m\u001b[1;33m\u001b[0m\u001b[0m\n\u001b[0m\u001b[0;32m    541\u001b[0m \u001b[1;33m\u001b[0m\u001b[0m\n\u001b[0;32m    542\u001b[0m     \u001b[1;32mif\u001b[0m \u001b[0mdtype_numeric\u001b[0m\u001b[1;33m:\u001b[0m\u001b[1;33m\u001b[0m\u001b[1;33m\u001b[0m\u001b[0m\n",
      "\u001b[1;32m<__array_function__ internals>\u001b[0m in \u001b[0;36mresult_type\u001b[1;34m(*args, **kwargs)\u001b[0m\n",
      "\u001b[1;31mValueError\u001b[0m: at least one array or dtype is required"
     ]
    }
   ],
   "source": [
    "knn = KNN(n_neighbors=50)\n",
    "knn = knn.fit(X_train, Y_train)\n",
    "cur_score = knn.score(X_test, Y_test)\n",
    "cur_sc = silhouette_score(X_test,Y_test)"
   ]
  },
  {
   "cell_type": "code",
   "execution_count": null,
   "id": "b3acdb83",
   "metadata": {
    "scrolled": true
   },
   "outputs": [],
   "source": [
    "# now we will train a KNN model and determine the optimal number of clusters with the SC\n",
    "neighbors = 1000\n",
    "scores_list = []\n",
    "sc_list = []\n",
    "for neighbors in range(neighbors, 1005):\n",
    "    knn = KNN(n_neighbors=neighbors)\n",
    "    knn = knn.fit(X_train, Y_train)\n",
    "    cur_score = knn.score(X_test, Y_test)\n",
    "    cur_sc = silhouette_score(X_test,Y_test)\n",
    "    scores_list.append(cur_score)\n",
    "    sc_list.append(cur_sc)\n",
    "    print('Running cluster #: {}'.format(neighbors))"
   ]
  },
  {
   "cell_type": "code",
   "execution_count": null,
   "id": "e0fb99da",
   "metadata": {},
   "outputs": [],
   "source": [
    "max_score = max(scores_list)\n",
    "max_index = scores_list.index(max_score)\n",
    "print(\"Best cluster number k={}\".format(max_index))\n",
    "print(\"Best score: {}\".format(max_score))\n",
    "print(\"Best silhouette score: {}\".format(max(sc_list)))"
   ]
  },
  {
   "cell_type": "code",
   "execution_count": null,
   "id": "9b879045",
   "metadata": {},
   "outputs": [],
   "source": []
  }
 ],
 "metadata": {
  "kernelspec": {
   "display_name": "Python 3",
   "language": "python",
   "name": "python3"
  },
  "language_info": {
   "codemirror_mode": {
    "name": "ipython",
    "version": 3
   },
   "file_extension": ".py",
   "mimetype": "text/x-python",
   "name": "python",
   "nbconvert_exporter": "python",
   "pygments_lexer": "ipython3",
   "version": "3.8.8"
  }
 },
 "nbformat": 4,
 "nbformat_minor": 5
}
